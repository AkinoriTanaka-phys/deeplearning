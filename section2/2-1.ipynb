{
 "cells": [
  {
   "cell_type": "code",
   "execution_count": 1,
   "metadata": {
    "collapsed": false
   },
   "outputs": [],
   "source": [
    "import numpy as np\n",
    "import matplotlib.pyplot as plt\n",
    "\n",
    "class Dice():\n",
    "    def __init__(self, num_of_faces=6):\n",
    "        self._n = np.random.uniform(0,1, num_of_faces)\n",
    "        self._p = self._n/np.sum(self._n)\n",
    "        self.faces = np.arange(num_of_faces)+1\n",
    "        \n",
    "    def sample(self, N):\n",
    "        return np.random.choice(self.faces, N, p=self._p).tolist()"
   ]
  },
  {
   "cell_type": "markdown",
   "metadata": {},
   "source": [
    "## 2-1. 変な形のサイコロ\n",
    "既に何度か述べたように、機械学習の最終目的は **経験から未来を予想すること** です。\n",
    "このことをいかにして表現すべきかの感覚を掴むために以下の例題を考えてみましょう。"
   ]
  },
  {
   "cell_type": "markdown",
   "metadata": {},
   "source": [
    "この実装で、`num_of_faces`で指定した数の面を持ち、各面が出る確率も適当に初期化されたサイコロを作れます："
   ]
  },
  {
   "cell_type": "code",
   "execution_count": 3,
   "metadata": {
    "collapsed": false
   },
   "outputs": [
    {
     "data": {
      "text/plain": [
       "[3, 3, 2, 1, 3, 5, 5, 5, 3, 4]"
      ]
     },
     "execution_count": 3,
     "metadata": {},
     "output_type": "execute_result"
    }
   ],
   "source": [
    "dice = Dice(num_of_faces=6)\n",
    "X = dice.sample(N=10) # N回振る\n",
    "X"
   ]
  },
  {
   "cell_type": "markdown",
   "metadata": {},
   "source": [
    "何回出たかは簡単に確認できます："
   ]
  },
  {
   "cell_type": "code",
   "execution_count": 4,
   "metadata": {
    "collapsed": false
   },
   "outputs": [
    {
     "data": {
      "text/plain": [
       "[1, 1, 4, 1, 3, 0]"
      ]
     },
     "execution_count": 4,
     "metadata": {},
     "output_type": "execute_result"
    }
   ],
   "source": [
    "def count_faces(dice, X):\n",
    "    return [X.count(i) for i in dice.faces]\n",
    "\n",
    "count_faces(dice, X)"
   ]
  },
  {
   "cell_type": "markdown",
   "metadata": {},
   "source": [
    "沢山サイコロを振って、どの出目が何回出たかプロットしてみましょう："
   ]
  },
  {
   "cell_type": "code",
   "execution_count": 5,
   "metadata": {
    "collapsed": false
   },
   "outputs": [
    {
     "data": {
      "image/png": "[encoded data removed]",
      "text/plain": [
       "<Figure size 432x288 with 1 Axes>"
      ]
     },
     "metadata": {},
     "output_type": "display_data"
    }
   ],
   "source": [
    "X = dice.sample(N=1000); num = count_faces(dice, X)\n",
    "plt.title(\"# of visit times\")\n",
    "plt.bar(dice.faces, num); plt.show()"
   ]
  },
  {
   "cell_type": "markdown",
   "metadata": {},
   "source": [
    "どうやらこのサイコロは均等な形をしておらず、各面が出る確率は**同じ確率では無い**ようです。唐突ですが、このサイコロを用いてギャンブルをしているとします。**このサイコロの各面 i が出る確率 $p_i$ がわかれば未来を予言できて有利でしょう**。上のような実際の出目だけから $p_i$ を推測するにはどうすればよいでしょうか？ここではより一般に\n",
    "\n",
    "- $N$ 回サイコロを振り、1 が $N_1$ 回、2 が $N_2$ 回、...、6 が $N_6$ 回出た\n",
    "\n",
    "とします。\n",
    "\n",
    "### 最尤推定\n",
    "一つの考え方は、確率を ''$q_i$'' と仮定して、実際のサンプルを得る確率を最大化することです。これを **最尤推定** といいます。実際に出た順番など気にしない場合、\n",
    "\n",
    "$$\n",
    "P = q_1^{N_1} q_2^{N_2} \\cdots q_6^{N_6} \\frac{N!}{N_1! N_2! \\cdots N_6!}\n",
    "$$\n",
    "\n",
    "が「出目の確率を ''$q_i$'' と仮定したときに手持ちのサンプルがでてくる確率」となります。 $P$を最大化するのは$- \\log P$を最小化するのと同じことなのでこちらを考えます。すると\n",
    "\n",
    "$$\n",
    "-\\log P = -\\sum_{i=1}^6 N_i \\log q_i + (\\text{constant})\n",
    "$$\n",
    "\n",
    "$q_i$ について最小化することになります。ただし$q_i$は確率なので規格化条件があることと、$N_i$ は合わせて $N$ でなくてはならないので、\n",
    "\n",
    "$$\n",
    "\\sum_{i=1}^6 q_i = 1, \\quad \\sum_{i=1}^6 N_i = N\n",
    "$$\n",
    "\n",
    "の拘束条件を満たさねばなりません。この条件を考慮する便利な方法がラグランジュ未定乗数法です。解析の授業を思い出していただくと、$q_i$ について上の束縛条件を考える代わりに、新たな変数 $\\lambda$ を導入し、ラグランジアン\n",
    "\n",
    "$$\n",
    "L(q_i, \\lambda) = -\\sum_{i=1}^6 N_i \\log q_i + (\\text{constant}) + \\lambda \\Big(\\sum_{i=1}^6 q_i  - 1\\Big)\n",
    "$$\n",
    "\n",
    "の停留点問題を解けばよいのでした。それぞれの微分値は\n",
    "\n",
    "$$\n",
    "\\frac{\\partial L}{\\partial q_i} = - N_i \\frac{1}{q_i} + \\lambda, \\quad \\frac{\\partial L}{\\partial \\lambda} = \\sum_{i=1}^6 q_i - 1\n",
    "$$\n",
    "\n",
    "まず１つ目の微分値＝０から、\n",
    "\n",
    "$$\n",
    "0=- N_i \\frac{1}{q_i} + \\lambda \\Rightarrow  q_i = \\frac{N_i}{\\lambda}\n",
    "$$\n",
    "\n",
    "次に２つ目の微分値＝０（$q_i$の規格化）から\n",
    "\n",
    "$$\n",
    "1 = \\sum_{i=1}^6 q_i = \\frac{1}{\\lambda} \\sum_{i=1}^6 N_i = \\frac{N}{\\lambda}\n",
    "$$\n",
    "\n",
    "となって、$\\lambda = N$ を得ます。結局\n",
    "\n",
    "$$\n",
    "q_i = \\frac{N_i}{N}\n",
    "$$\n",
    "\n",
    "となり、出目の実際の割合にしておくのが良さそうだという結果を得ます。サンプル数（試行回数）$N$ を増やすと精度が上がると期待されますが、実際、大数の法則により $N$ を十分大きく取れば$\\frac{N_i}{N} \\approx p_i$となることが示せます。"
   ]
  },
  {
   "cell_type": "markdown",
   "metadata": {},
   "source": [
    "#### 実験\n",
    "実は `dice._p` で真の確率 $p_i$ を見ることができるようにしてあります："
   ]
  },
  {
   "cell_type": "code",
   "execution_count": 6,
   "metadata": {
    "collapsed": false
   },
   "outputs": [
    {
     "data": {
      "text/plain": [
       "array([0.13346283, 0.19876804, 0.27750835, 0.12640069, 0.13609152,\n",
       "       0.12776856])"
      ]
     },
     "execution_count": 6,
     "metadata": {},
     "output_type": "execute_result"
    }
   ],
   "source": [
    "dice._p"
   ]
  },
  {
   "cell_type": "markdown",
   "metadata": {},
   "source": [
    "上で導出した推定値 $q_i$ の公式を $N$ 毎に計算するのも簡単にできます："
   ]
  },
  {
   "cell_type": "code",
   "execution_count": 7,
   "metadata": {
    "collapsed": false
   },
   "outputs": [],
   "source": [
    "def return_q(N):\n",
    "    X = dice.sample(N)\n",
    "    q = [X.count(i)/N for i in dice.faces]\n",
    "    return q"
   ]
  },
  {
   "cell_type": "markdown",
   "metadata": {},
   "source": [
    "これはどれくらい真の値に近いでしょうか？$N$ 大でやってみると"
   ]
  },
  {
   "cell_type": "code",
   "execution_count": 10,
   "metadata": {
    "collapsed": false
   },
   "outputs": [
    {
     "data": {
      "image/png": "[encoded data removed]",
      "text/plain": [
       "<Figure size 432x288 with 1 Axes>"
      ]
     },
     "metadata": {},
     "output_type": "display_data"
    }
   ],
   "source": [
    "N = 500\n",
    "plt.bar(dice.faces+1/4, return_q(N), width=1/4, label=r'$q_i$ ($N={}$)'.format(N))\n",
    "plt.bar(dice.faces, dice._p, width=1/4, label=r'$p_i$ (True)')\n",
    "plt.legend(fontsize=15); plt.show()"
   ]
  },
  {
   "cell_type": "markdown",
   "metadata": {},
   "source": [
    "で、似ていないでもないですが、定量的に**どれくらい真の値からずれているか** 知りたい気もします。つまり、\n",
    "- $p_i$ と $q_i$ の差を測るもの＝**距離**はあるか？\n",
    "\n",
    "というのが次の問です。"
   ]
  },
  {
   "cell_type": "markdown",
   "metadata": {},
   "source": [
    "### KL情報量\n",
    "その**距離**はこの小節で考えてきたサイコロの問題の**最尤推定**にて $N \\to \\infty$ を考えると自然に得られます。一旦モデルを$q_i$としたときのデータの実現確率まで戻ってみましょう。\n",
    "\n",
    "$$\n",
    "P = q_1^{N_1} q_2^{N_2} \\cdots q_6^{N_6}\n",
    "\\frac{N!}{N_1! N_2! \\cdots N_6!}\n",
    "$$\n",
    "\n",
    "大数の法則を適用できるくらい $N$ が大きいとすると、\n",
    "\n",
    "$$\n",
    "N_i \\approx p_i N\n",
    "$$\n",
    "\n",
    "です。更に $N$ が大きいので、スターリングの公式をもちいて\n",
    "\n",
    "$$\n",
    "N! \\approx N^{N},\n",
    "\\quad\n",
    "N_i ! \\approx N_i^{N_i}\n",
    "$$\n",
    "\n",
    "とすると\n",
    ">スターリングの公式の一番大きな寄与だけ取り出して簡略化しています。\n",
    "\n",
    "$$\n",
    "\\left. \\begin{array}{ll}\n",
    "P\n",
    "&\\approx\n",
    "q_1^{N_1} q_2^{N_2} \\cdots q_6^{N_6} \\frac{N^N}{N_1^{N_1} N_2^{N_2} \\cdots N_6^{N_6}}\n",
    "\\\\\n",
    "&\\approx %%%%\n",
    "q_1^{N_1} q_2^{N_2} \\cdots q_6^{N_6} \\frac{N^N}{(p_1 N)^{N_1} (p_2 N)^{N_2} \\cdots (p_6 N)^{N_6}}\n",
    "\\\\\n",
    "&= %%%%\n",
    "\\Big( \\frac{q_1}{p_1} \\Big)^{N_1} \\Big( \\frac{q_2}{p_2} \\Big)^{N_2} \\cdots \\Big( \\frac{q_6}{p_6} \\Big)^{N_6} \\frac{N^N}{N^{N_1 + N_2 + \\cdots N_6}}\n",
    "\\\\\n",
    "&= %%%%\n",
    "e^{-\\sum_{i=1}^6 N_i \\log \\frac{p_i}{q_i}}\n",
    "\\approx\n",
    "e^{- N \\sum_{i=1}^6 p_i \\log \\frac{p_i}{q_i}}\n",
    "\\end{array} \\right.\n",
    "$$\n",
    "\n",
    "ですが、これは\n",
    "\n",
    "$$\n",
    "\\text{Larger }P\\Leftrightarrow\\text{Smaller }\\sum_{i=1}^6 p_i \\log \\frac{p_i}{q_i} =: D_{KL}(p\\mid\\mid q)\n",
    "$$\n",
    "\n",
    "とも言えます。より一般に、連続変数でも\n",
    "\n",
    "$$\n",
    "D_{KL}(p\\mid\\mid q) := \\int p({\\bf x}) \\log \\frac{p({\\bf x})}{q({\\bf x})} d {\\bf x}\n",
    "$$\n",
    "\n",
    "とし、これを**KL情報量**といいます。"
   ]
  },
  {
   "cell_type": "code",
   "execution_count": 8,
   "metadata": {
    "collapsed": true
   },
   "outputs": [],
   "source": [
    "def KL(p, q, epsilon=1e-10):\n",
    "    ''' qにゼロがある場合に備えepsilonでオーバーフロー対策 '''\n",
    "    p_np = np.array(p)\n",
    "    q_np = np.array(q)\n",
    "    return np.sum(p_np*np.log((p_np+epsilon)/(q_np+epsilon)))"
   ]
  },
  {
   "cell_type": "markdown",
   "metadata": {},
   "source": [
    "これを使えば、$q_i^{(N)} = \\frac{N_i}{N}$ がどれくらい真の $p_i$ を良く近似しているかわかります。"
   ]
  },
  {
   "cell_type": "code",
   "execution_count": 9,
   "metadata": {
    "collapsed": false
   },
   "outputs": [
    {
     "data": {
      "text/plain": [
       "(4.167127002623975, 0.0)"
      ]
     },
     "execution_count": 9,
     "metadata": {},
     "output_type": "execute_result"
    }
   ],
   "source": [
    "p = dice._p\n",
    "q = return_q(10)\n",
    "KL(p, q), KL(p, p)"
   ]
  },
  {
   "cell_type": "markdown",
   "metadata": {},
   "source": [
    "実際 $N$ 横軸に $D_{KL}(p\\mid\\mid q^{(N)})$ をプロットしてみると、"
   ]
  },
  {
   "cell_type": "code",
   "execution_count": 10,
   "metadata": {
    "collapsed": false
   },
   "outputs": [
    {
     "data": {
      "image/png": "[encoded data removed]",
      "text/plain": [
       "<Figure size 432x288 with 1 Axes>"
      ]
     },
     "metadata": {},
     "output_type": "display_data"
    }
   ],
   "source": [
    "Ns = np.arange(5, 100)\n",
    "plt.xlabel(r'$N$', fontsize=15); plt.ylabel(r'$D_{KL}(p\\|\\|q^{(N)})$', fontsize=15)\n",
    "for trial in range(5):\n",
    "    plt.plot(Ns, [KL(p, return_q(N)) for N in Ns], '-', alpha=0.5, label='trial {}'.format(trial))\n",
    "plt.legend(); plt.show()"
   ]
  },
  {
   "cell_type": "markdown",
   "metadata": {},
   "source": [
    "たしかに $N \\to \\infty$ で0に近づいてゆくのがわかります。"
   ]
  }
 ],
 "metadata": {
  "kernelspec": {
   "display_name": "Python 3",
   "language": "python",
   "name": "python3"
  },
  "language_info": {
   "codemirror_mode": {
    "name": "ipython",
    "version": 3
   },
   "file_extension": ".py",
   "mimetype": "text/x-python",
   "name": "python",
   "nbconvert_exporter": "python",
   "pygments_lexer": "ipython3",
   "version": "3.6.0"
  },
  "toc": {
   "base_numbering": 1,
   "nav_menu": {},
   "number_sections": true,
   "sideBar": true,
   "skip_h1_title": false,
   "title_cell": "Table of Contents",
   "title_sidebar": "Contents",
   "toc_cell": false,
   "toc_position": {},
   "toc_section_display": true,
   "toc_window_display": false
  }
 },
 "nbformat": 4,
 "nbformat_minor": 2
}

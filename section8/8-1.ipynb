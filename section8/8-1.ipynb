{
 "cells": [
  {
   "cell_type": "code",
   "execution_count": 48,
   "metadata": {
    "collapsed": false
   },
   "outputs": [],
   "source": [
    "import tensorflow as tf\n",
    "import numpy as np\n",
    "import matplotlib.pyplot as plt\n",
    "from math import ceil\n",
    "\n",
    "def show(X, titles=None, horizontal=False):\n",
    "    batch_size = X.shape[0]\n",
    "    size = ceil(batch_size**(1/2))\n",
    "    if horizontal:\n",
    "        fig = plt.figure(figsize=(batch_size, size))\n",
    "    else:\n",
    "        fig = plt.figure(figsize=(size, size))\n",
    "    for img_label in range(batch_size):\n",
    "        if horizontal:\n",
    "            ax = fig.add_subplot(1, batch_size, img_label+1)\n",
    "        else:\n",
    "            ax = fig.add_subplot(size, size, img_label+1)\n",
    "        ax.axis(\"off\")\n",
    "        try:\n",
    "            ax.imshow(X[img_label])\n",
    "        except TypeError:\n",
    "            ax.imshow(X[img_label,:,:,0], cmap='gray')\n",
    "        if titles is not None:\n",
    "            ax.set_title(titles[img_label])\n",
    "    plt.show()"
   ]
  },
  {
   "cell_type": "markdown",
   "metadata": {},
   "source": [
    "## 8-1. 変分自己符号化器\n",
    "\n",
    "### 潜在変数モデル\n",
    "ニューラルネットワークで生成モデル $q_\\theta(x)$ を作るにはどうすればよいでしょうか。ニューラルネットワークはここまで紹介してきたとおり「入力」と「出力」があるような関数なのでした。そうすると $x$ しか引数にないようなものを表現できないような気がします。\n",
    "\n",
    "一つの方法は、何らかの「$x$の特徴を反映した空間」があるとして、その座標を$z$とします。そして $z$ 上に手で確率密度 $p(z)$ を設定し、\n",
    "\n",
    "$$\n",
    "p_\\theta(x|z)\n",
    "$$\n",
    "\n",
    "をモデル化することにする方法があります。これを潜在変数モデルといいます。こうしておいて\n",
    "\n",
    "$$\n",
    "p_\\theta(x) = \\int dz \\ p_\\theta(x|z) p(z)\n",
    "$$\n",
    "\n",
    "とすればよいのです。"
   ]
  },
  {
   "cell_type": "markdown",
   "metadata": {},
   "source": [
    "### 対数尤度とELBO\n",
    "ところで、負の対数尤度を用いた最尤推定は\n",
    "\n",
    "$$ - \\log p_\\theta(x)\n",
    "=-\n",
    "\\log \\Big(\n",
    "\\int dz \\ p_\\theta(x|z) p(z)\n",
    "\\Big) \\tag{1}\n",
    "$$\n",
    "\n",
    "が計算できねばならず、これはニューラルネットワークで$p_\\theta(x|z)$を実装していると積分値についての閉じた形式を知らないため、困難に思えます。ベイズの定理を思い出すと\n",
    "\n",
    "$$\n",
    "{\\color{blue} {p_\\theta(z|x)}}:=\n",
    "\\frac{p_\\theta(x|z) p(z)}{\\color{red}{p_\\theta(x)}}\n",
    "$$\n",
    "\n",
    "によって潜在モデル $p_\\theta(x|z)$ を設定した時に、$x$が与えられた時どのような潜在空間の元 $z$ が対応すべきかの **事後確率** を定義できるでしょう。この右辺の分母に ${\\color{red}{p_\\theta(x)}}$ があるので、$(1)$ の左辺に代入してみましょう。\n",
    "\n",
    "$$\n",
    "-\\log {\\color{red}{p_\\theta(x)}} =\n",
    "- \\log \\frac{p_\\theta(x|z) p(z)}{\\color{blue}{p_\\theta(z|x)}}\n",
    "$$\n",
    "\n",
    "一見、特にこれ以上何もできなさそうですが、ここで一工夫します。logの分子は潜在モデル $p_\\theta(x|z)$ で書けていますが、分母の事後確率 ${\\color{blue}{p_\\theta(z|x)}}$ が難しいわけです。そこで事後確率を「まねる」モデル ${\\color{green}{q_\\varphi(z|x)}}$ を導入してみます。パラメータは後で決めます。これを $1 = \\frac{{\\color{green}{q_\\varphi(z|x)}}}{{\\color{green}{q_\\varphi(z|x)}}}$ として log の内部に掛け算します：\n",
    "\n",
    "$$\n",
    "\\left. \\begin{array}{ll} -\\log {\\color{red}{p_\\theta(x)}} \n",
    "&=- \\log \\Big( \\frac{p_\\theta(x|z) p(z)}{\\color{blue}{p_\\theta(z|x)}}\n",
    "\\times\n",
    "\\frac{{\\color{green}{q_\\varphi(z|x)}}}{{\\color{green}{q_\\varphi(z|x)}}}\n",
    "\\Big)\n",
    "\\\\\n",
    "&= - \\Big(\n",
    "\\log \\frac{{\\color{green}{q_\\varphi(z|x)}}}{\\color{blue}{p_\\theta(z|x)}}\n",
    "+\n",
    "\\underbrace{\n",
    "\\log \\frac{p_\\theta(x|z) p(z)}{{\\color{green}{q_\\varphi(z|x)}}}\n",
    "}_{-\n",
    "\\log \\frac{{\\color{green}{q_\\varphi(z|x)}}}{p(z)}\n",
    "+\n",
    "\\log p_\\theta(x|z) \n",
    "}\n",
    "\\Big)\n",
    "\\\\\n",
    "&= - \\log \\frac{{\\color{green}{q_\\varphi(z|x)}}}{\\color{blue}{p_\\theta(z|x)}}\n",
    "+ \\log \\frac{{\\color{green}{q_\\varphi(z|x)}}}{p(z)} -\n",
    "\\log p_\\theta(x|z) \n",
    "\\end{array} \\right.\n",
    "\\tag{2}\n",
    "$$"
   ]
  },
  {
   "cell_type": "markdown",
   "metadata": {},
   "source": [
    "この量は $z$ に依存するように見えますが、もとの定義 $(1)$ に戻ると、$x$ に依存するのみで $z$ には依存しないことがわかります。$z$に依存しないので任意の $z$ の確率分布で期待値計算(積分)しても値が不変なはずです。そこで $z$ の確率分布として ${\\color{green}{q_\\varphi(z|x)}}$　について期待値を取ることにします：\n",
    "\n",
    "$$\n",
    "(2)\n",
    "=- \n",
    "\\underbrace{\n",
    "\\Big\\langle \\log \\frac{{\\color{green}{q_\\varphi(z|x)}}}{\\color{blue}{p_\\theta(z|x)}}\\Big\\rangle_{{\\color{green}{q_\\varphi(z|x)}}}}_{\n",
    "D_{KL}\\big(\n",
    "{\\color{green}{q_\\varphi(z|x)}}\n",
    "\\big\\| \n",
    "{\\color{blue}{p_\\theta(z|x)}}\n",
    "\\big)\n",
    "}\n",
    "+ \n",
    "\\underbrace{\\Big\\langle\\log \\frac{{\\color{green}{q_\\varphi(z|x)}}}{p(z)}\\Big\\rangle_{\\color{green}{q_\\varphi(z|x)}}}_{\n",
    "D_{KL}\\big(\n",
    "{\\color{green}{q_\\varphi(z|x)}}\n",
    "\\big\\|\n",
    "p(z)\n",
    "\\big)\n",
    "}-\n",
    "\\langle \\log p_\\theta(x|z) \\rangle_{\\color{green}{q_\\varphi(z|x)}}\n",
    "$$"
   ]
  },
  {
   "cell_type": "markdown",
   "metadata": {},
   "source": [
    "となるので、スタート地点の負の対数尤度に戻ると\n",
    "\n",
    "$$\n",
    "\\left. \\begin{array}{ll}\n",
    "- \\log {\\color{red} {p_\\theta (x)}}\n",
    "&=\n",
    "\\underbrace{- \n",
    "D_{KL}\\Big(\n",
    "{\\color{green}{q_\\varphi(z|x)}}\n",
    "\\Big| \\Big|\n",
    "{\\color{blue}{p_\\theta(z|x)}}\n",
    "\\Big)}_{\\leq 0}\n",
    "+\n",
    "D_{KL}\\Big(\n",
    "{\\color{green}{q_\\varphi(z|x)}}\n",
    "\\Big| \\Big|\n",
    "p(z)\n",
    "\\Big) -\n",
    "\\langle \\log p_\\theta(x|z) \\rangle_{\\color{green}{q_\\varphi(z|x)}}\n",
    "\\\\\n",
    "&\\leq %%%%\n",
    "D_{KL}\\Big(\n",
    "{\\color{green}{q_\\varphi(z|x)}}\n",
    "\\Big| \\Big|\n",
    "p(z)\n",
    "\\Big)-\n",
    "\\langle \\log p_\\theta(x|z) \\rangle_{\\color{green}{q_\\varphi(z|x)}}\n",
    "=: L\n",
    "\\end{array} \\right.\n",
    "$$\n",
    "\n",
    "と書き直せることがわかります。最尤推定ではこの左辺の値をなるべく小さくしたかったわけですが、代わりに最後の $L$ を小さくすると不等式関係から左辺の値も小さくなります。しかも(左辺)=(右辺)となる場合は${\\color{green}{q_\\varphi(z|x)}}\n",
    "=\n",
    "{\\color{blue}{p_\\theta(z|x)}}$に対応します。${\\color{green}{q_\\varphi(z|x)}}$ は事後確率 ${\\color{blue}{p_\\theta(z|x)}}$ を真似ることが目的だったので、これも都合が良さそうです。\n",
    "> このように、事後確率を何らかの別のモデルで近似しにかかるテクニックを「変分推定」といいます。これは多体シュレディンガー方程式の基底状態を求めるときなどに使う、波動関数の変分法と同じ意味合いの用語です。\n",
    "\n",
    "これらを総合すると、$L$ を小さくすることは最尤推定をしつつ、もしかしたら事後分布推定もできるかもしれないわけです。このような $L$ をevidence lower bound (ELBO)と言います。\n",
    "\n",
    "> ほんとうは $-L$ がELBOと呼ばれるものです。ELBOと言うときは負の対数尤度最小化ではなく、対数尤度最大化でよく説明されるので、その場合不等式の向きが逆になって $-L$ が下限になります。\n",
    "\n",
    "そこで元の最尤推定を $L$ の最小化問題に置き換えて解くことが考えられます\n",
    "\n",
    "$$\n",
    "\\text{min}_{\\theta, \\varphi} \\Big\\{\n",
    "D_{KL} \\Big(\n",
    "q_\\varphi (z | x) \\Big| \\Big|\n",
    "p(z)\n",
    "\\Big)-\n",
    "\\Big\\langle\n",
    "\\log p_\\theta(x| z)\n",
    "\\Big\\rangle_{q_\\varphi (z | x)}\n",
    "\\Big\\}\n",
    "$$\n",
    "\n"
   ]
  },
  {
   "cell_type": "markdown",
   "metadata": {},
   "source": [
    "### 変分自己符号化器\n",
    "この問題設定では、潜在空間上に固定された確率分布 $p(z)$ と\n",
    "\n",
    "$$\n",
    "\\text{encoder: }\n",
    "q_\\varphi(z|x),\\quad \\text{decoder: } p_\\theta(x|z)\n",
    "$$\n",
    "\n",
    "がありますが、[arXiv:1312.6114](https://arxiv.org/abs/1312.6114) にて、ここまでの話を深層ニューラルネットで解く手法が考案されました。それが変分自己符号化器(Variational AutoEncoder, VAE)とよばれるものです。\n",
    "\n",
    "#### Encoder\n",
    "上に挙げた確率分布や確率モデルを以下のように設定します：\n",
    "\n",
    "* $p(z) = \\frac{1}{\\sqrt{2 \\pi}} e^{- \\frac{1}{2} z^2 }$\n",
    "* $q_\\varphi(z| x)=\n",
    "\\frac{1}{\\sqrt{2 \\pi \\sigma^2_\\varphi(x)}} e^{- \\frac{1}{2 \\sigma^2_\\varphi(x)} (z - \\mu_\\varphi(x))^2  }$\n",
    "\n",
    "潜在空間の次元を1次元にしない場合は、ガウス分布としては次元毎に直積を取る形にします。するとKLダイバージェンスの項は1節で計算したガウス分布間のKLダイバージェンスより\n",
    "\n",
    "$$\n",
    "D_{KL} \\Big(\n",
    "q_\\varphi (z | x) \\Big| \\Big|\n",
    "p(z)\n",
    "\\Big) =\n",
    "\\frac{1}{2} \\Big(\n",
    "- \\log [\\sigma_\\varphi(x)]^2 - 1 + [\\sigma_\\varphi(x)]^2 + [\\mu_\\varphi(x)]^2\n",
    "\\Big)\n",
    "$$\n",
    "\n",
    "となります。実装上は $\\sigma$ そのものよりも $l =\\log \\sigma^2$ を使ったほうが良いようです。つまりEncoderを\n",
    "\n"
   ]
  },
  {
   "cell_type": "code",
   "execution_count": 60,
   "metadata": {
    "collapsed": true
   },
   "outputs": [],
   "source": [
    "class Encoder(tf.keras.Model):\n",
    "    def __init__(self, dim_Z):\n",
    "        pass\n",
    "    def call(self, x):\n",
    "        mu, l = None # \n",
    "        return mu, l"
   ]
  },
  {
   "cell_type": "markdown",
   "metadata": {},
   "source": [
    "のように $q_\\varphi (z | x)$ は $x \\to [\\mu_\\varphi(x), \\underbrace{\\log[\\sigma_\\varphi(x)]^2}_{=:l_\\varphi(x)}]$ をニューラルネットで実装します。この場合KL lossは\n",
    "\n",
    "$$\n",
    "\\frac{1}{2} \\Big(\n",
    "- l_\\varphi(x) - 1 + e^{l_\\varphi(x)} + [\\mu_\\varphi(x)]^2\n",
    "\\Big)\n",
    "$$\n",
    "\n",
    "なので、そのように実装しておきます："
   ]
  },
  {
   "cell_type": "code",
   "execution_count": 79,
   "metadata": {
    "collapsed": true
   },
   "outputs": [],
   "source": [
    "def KL_loss(mu, l):\n",
    "    return tf.reduce_mean(-l - 1 + tf.exp(l) + mu**2)/2"
   ]
  },
  {
   "cell_type": "markdown",
   "metadata": {},
   "source": [
    "#### Decoder\n",
    "こちらは 潜在ベクトル $z$ を受け取って $p_\\theta(x|z)$ が出力できれば良いだけなので、そのままニューラルネットでOKでしょう。問題は $L$ の二項目\n",
    "\n",
    "$$\n",
    "- \\langle p_\\theta(x|z)\\rangle_{q_\\varphi(z|x)}\n",
    "$$\n",
    "\n",
    "をどう計算するかです。これはサンプリングで近似するのが一つの方法ですが、$q_\\varphi(z|x)$ から $z$ をサンプルするだけだと、そこで $\\varphi$ の依存性が消えてしまい、encoderへと誤差が伝わりません。そこで使われるのが **reparametrization trick** と呼ばれるものです。平均 $\\mu$, 分散 $\\sigma^2$ のガウス分布からのサンプリングは、$\\epsilon$ を平均 $0$ 分散 $1$ のガウス分布からのサンプリングとして\n",
    "\n",
    "$$\n",
    "z = \\mu + \\epsilon * \\sigma\n",
    "$$\n",
    "\n",
    "で実現できます。これにencoder出力の $\\mu_\\varphi(x), l_\\varphi(x)$ を適用して\n",
    "\n",
    "$$\n",
    "z = \\mu_\\varphi(x) + \\epsilon * \\exp(l_\\varphi(x)/2)\n",
    "$$\n",
    "\n",
    "とします。こうしておくと $\\varphi$ の依存性が残って、訓練可能になります。このような関数を作っておきます："
   ]
  },
  {
   "cell_type": "code",
   "execution_count": 57,
   "metadata": {
    "collapsed": true
   },
   "outputs": [],
   "source": [
    "def sample_from_N(mu, l):\n",
    "    ''' reparametrization trick '''\n",
    "    epsilon = tf.random.normal(shape=l.shape)\n",
    "    return mu + epsilon*tf.keras.backend.exp(l/2)"
   ]
  },
  {
   "cell_type": "markdown",
   "metadata": {},
   "source": [
    "この関数の出力 $z$ を入力としたニューラルネットとして decoder は構成します。つまり\n"
   ]
  },
  {
   "cell_type": "code",
   "execution_count": 61,
   "metadata": {
    "collapsed": true
   },
   "outputs": [],
   "source": [
    "class Decoder(tf.keras.Model):\n",
    "    def __init__(self, dim_Z):\n",
    "        pass\n",
    "    def call(self, z):\n",
    "        x = None\n",
    "        return x"
   ]
  },
  {
   "cell_type": "markdown",
   "metadata": {},
   "source": [
    "\n",
    "のようなものを実装すればOKで、lossは\n",
    "\n",
    "$$\n",
    "-  \\log p_\\theta(x|z_\\text{sampled})\n",
    "$$\n",
    "\n",
    "から設定毎に導かれる誤差関数を選べばよいです。この項を**reconstruction loss** といいます。\n",
    "\n",
    "#### 全体の構造\n",
    "VAEモデルは2つのネットワークから成ります"
   ]
  },
  {
   "cell_type": "code",
   "execution_count": 77,
   "metadata": {
    "collapsed": true
   },
   "outputs": [],
   "source": [
    "class VAE(tf.keras.Model):\n",
    "    def __init__(self, enc, dec):\n",
    "        super(VAE, self).__init__()\n",
    "        self.enc = enc\n",
    "        self.dec = dec\n",
    "        \n",
    "def batch_step(X, vae, opt, reconstruction_loss): # 学習ステップ\n",
    "    with tf.GradientTape() as tape:\n",
    "        # encoding step\n",
    "        mu, l = vae.enc(X)\n",
    "        # decoding step\n",
    "        Z = sample_from_N(mu, l)\n",
    "        X_decoded = vae.dec(Z)\n",
    "        # loss\n",
    "        loss = KL_loss(mu, l) + reconstruction_loss(X, X_decoded)\n",
    "    # update\n",
    "    grads = tape.gradient(loss, vae.trainable_variables)\n",
    "    opt.apply_gradients(zip(grads, vae.trainable_variables))\n",
    "    return loss"
   ]
  },
  {
   "cell_type": "markdown",
   "metadata": {},
   "source": [
    "### MNISTでVAE\n",
    "早速 MNIST でラベル情報を捨てた教師なし学習をVAEでやってみましょう。ネットワークの構成などのパラメータ設定はtensorflowのチュートリアルを参考にしています。まず MNIST をピクセル値 $\\in [0,1]$ にして読み込みます。"
   ]
  },
  {
   "cell_type": "code",
   "execution_count": 63,
   "metadata": {
    "collapsed": false
   },
   "outputs": [],
   "source": [
    "mnist = tf.keras.datasets.mnist\n",
    "(X, Y), (X_test, Y_test) = mnist.load_data()\n",
    "X, X_test = (X/255).astype(np.float32), (X_test/255).astype(np.float32)\n",
    "X_train = tf.reshape(tf.concat([X, X_test], axis = 0), shape=(70000, 28, 28, 1))"
   ]
  },
  {
   "cell_type": "markdown",
   "metadata": {},
   "source": [
    "#### Encoder\n",
    "\n",
    "潜在空間の次元を `dim_Z` とかくことにして、畳込み演算２回と最後に線形変換です：\n",
    "\n"
   ]
  },
  {
   "cell_type": "code",
   "execution_count": 72,
   "metadata": {
    "collapsed": true
   },
   "outputs": [],
   "source": [
    "class Encoder_mnist(tf.keras.Model):\n",
    "    def __init__(self, dim_Z):\n",
    "        super(Encoder_mnist, self).__init__()\n",
    "        self.c1 = tf.keras.layers.Conv2D(filters=32, kernel_size=3, strides=(2, 2), activation='relu')\n",
    "        self.c2 = tf.keras.layers.Conv2D(filters=64, kernel_size=3, strides=(2, 2), activation='relu')\n",
    "        self.flatten = tf.keras.layers.Flatten()\n",
    "        self.dense = tf.keras.layers.Dense(2*dim_Z)\n",
    "        self.dim_Z = dim_Z\n",
    "        \n",
    "    def call(self, x):\n",
    "        ''' x.shape = (batchsize, Lx, Ly, C) '''\n",
    "        h = self.c1(x)\n",
    "        h = self.c2(h)\n",
    "        h = self.flatten(h)\n",
    "        h = self.dense(h)\n",
    "        mu= h[:, :self.dim_Z]\n",
    "        l = h[:, self.dim_Z:]\n",
    "        return mu, l"
   ]
  },
  {
   "cell_type": "markdown",
   "metadata": {},
   "source": [
    "#### Decoder\n",
    "転置畳み込み（畳み込みの逆演算）を用いてどんどん画素を大きくするような構造をしています："
   ]
  },
  {
   "cell_type": "code",
   "execution_count": 73,
   "metadata": {
    "collapsed": true
   },
   "outputs": [],
   "source": [
    "class Decoder_mnist(tf.keras.Model):\n",
    "    def __init__(self):\n",
    "        super(Decoder_mnist, self).__init__()\n",
    "        self.dense = tf.keras.layers.Dense(units=7*7*32, activation='relu')\n",
    "        self.reshape= tf.keras.layers.Reshape(target_shape=(7, 7, 32))\n",
    "        self.dc1 = tf.keras.layers.Conv2DTranspose(64, kernel_size=3, strides=2, padding='same', activation='relu')\n",
    "        self.dc2 = tf.keras.layers.Conv2DTranspose(32, kernel_size=3, strides=2, padding='same', activation='relu')\n",
    "        self.dc3 = tf.keras.layers.Conv2DTranspose(1, kernel_size=3, strides=1, padding='same')\n",
    "        \n",
    "    def call(self, z):\n",
    "        h = self.dense(z)\n",
    "        h = self.reshape(h)\n",
    "        h = self.dc1(h)\n",
    "        h = self.dc2(h)\n",
    "        h = self.dc3(h)\n",
    "        return tf.keras.activations.sigmoid(h)\n",
    "    \n",
    "    def generate(self, shape):\n",
    "        ''' batch_size, dim_Z = shape '''\n",
    "        Z = tf.random.normal(shape=shape)\n",
    "        return self(Z)"
   ]
  },
  {
   "cell_type": "markdown",
   "metadata": {},
   "source": [
    "最後にsigmoid関数をかけたのは、`X_train` のピクセル値 $\\in[0,1]$ としたので、これに合わせるためです。ところでこの場合、各ピクセル毎に確率値が割り振られているので、$-\\log p_\\theta(x|z_\\text{sampled})$ は通常のクロスエントロピーで良いでしょう："
   ]
  },
  {
   "cell_type": "code",
   "execution_count": 80,
   "metadata": {
    "collapsed": true
   },
   "outputs": [],
   "source": [
    "def reconstruction_loss_mnist(x, x_decoded):\n",
    "    return tf.reduce_mean(tf.reduce_sum(tf.keras.losses.binary_crossentropy(x, x_decoded), axis=[1, 2]))"
   ]
  },
  {
   "cell_type": "markdown",
   "metadata": {},
   "source": [
    "訓練用の関数は以下のようになります："
   ]
  },
  {
   "cell_type": "code",
   "execution_count": 82,
   "metadata": {
    "collapsed": false
   },
   "outputs": [],
   "source": [
    "def train(vae, X_train, batch_size, epochs):\n",
    "    tf_batch_step = tf.function(batch_step)\n",
    "    opt = tf.keras.optimizers.Adam(1e-4)\n",
    "    D = tf.data.Dataset.from_tensor_slices(X_train)\n",
    "    for epoch in range(epochs):\n",
    "        batch = D.shuffle(70000).batch(batch_size, drop_remainder=True)\n",
    "        for X in batch:\n",
    "            loss = tf_batch_step(X, vae, opt, reconstruction_loss_mnist)\n",
    "        if epoch%1==0 or epoch==(epochs-1):\n",
    "            # test\n",
    "            print(\"L =\", loss)\n",
    "            dim_Z = vae.enc.dim_Z\n",
    "            X_generated = vae.dec.generate(shape=(9, dim_Z))\n",
    "            show(X_generated)\n",
    "    return vae"
   ]
  },
  {
   "cell_type": "markdown",
   "metadata": {},
   "source": [
    "実際に訓練してみます。各epoch毎に誤差関数 $L$ の値と $z$ を平均 $0$ 分散 $1$ のガウス分布からサンプルしてdecodeしたものを表示しています。GPUで1分未満で終わると思いますがCPUだと時間がかかります。"
   ]
  },
  {
   "cell_type": "code",
   "execution_count": 83,
   "metadata": {
    "collapsed": false,
    "scrolled": true
   },
   "outputs": [
    {
     "name": "stdout",
     "output_type": "stream",
     "text": [
      "L = tf.Tensor(159.06482, shape=(), dtype=float32)\n"
     ]
    },
    {
     "data": {
      "image/png": "[encoded data removed]",
      "text/plain": [
       "<Figure size 216x216 with 9 Axes>"
      ]
     },
     "metadata": {},
     "output_type": "display_data"
    },
    {
     "data": {
      "text/plain": [
       "<__main__.VAE at 0x14b98fc18>"
      ]
     },
     "execution_count": 83,
     "metadata": {},
     "output_type": "execute_result"
    }
   ],
   "source": [
    "enc = Encoder_mnist(dim_Z=2)\n",
    "dec = Decoder_mnist()\n",
    "vae = VAE(enc, dec)\n",
    "train(vae, X_train, batch_size=32, epochs=5)"
   ]
  },
  {
   "cell_type": "markdown",
   "metadata": {},
   "source": [
    "#### 画像の「ホモトピー」\n",
    "訓練後、潜在ベクトル二点の間をinterpolate\n",
    "\n",
    "$$\n",
    "x(t) = dec\\big( z(t) \\big), \\quad z(t):z_1 \\to z_2\n",
    "$$\n",
    "\n",
    "すると、生成画像がなめらかにつながる様子が確認できます："
   ]
  },
  {
   "cell_type": "code",
   "execution_count": 102,
   "metadata": {
    "collapsed": false
   },
   "outputs": [
    {
     "data": {
      "image/png": "[encoded data removed]",
      "text/plain": [
       "<Figure size 720x288 with 10 Axes>"
      ]
     },
     "metadata": {},
     "output_type": "display_data"
    }
   ],
   "source": [
    "Z1 = tf.random.normal(shape=(1, vae.enc.dim_Z))\n",
    "Z2 = tf.random.normal(shape=(1, vae.enc.dim_Z))\n",
    "for t in np.linspace(0,1,10):\n",
    "    if t==0:\n",
    "        X_list = vae.dec(Z1)\n",
    "    else:\n",
    "        X_generated = vae.dec((1-t)*Z1+t*Z2)\n",
    "        X_list = tf.concat([X_list, X_generated], axis=0)\n",
    "show(X_list, titles=[\"t={:.02f}\".format(t) for t in np.linspace(0,1,10)], horizontal=True)"
   ]
  },
  {
   "cell_type": "markdown",
   "metadata": {},
   "source": [
    "### 関連する話題\n",
    "VAEを用いて文章生成も可能です。例えば[arXiv:1511.06349](https://arxiv.org/abs/1511.06349) などがあります。この論文ではKL項の前に逆温度を設け、encoderが潰れないように徐々に冷やす正則化がなされています。このようなKL項に温度を設定するVAEは $\\beta$-VAE と呼ばれ、盛んに研究されているようです([論文リンク](https://openreview.net/forum?id=Sy2fzU9gl))。"
   ]
  }
 ],
 "metadata": {
  "kernelspec": {
   "display_name": "Python 3.6.0 64-bit ('base': conda)",
   "language": "python",
   "name": "python36064bitbasecondabfd426f1aa124397b9f789856bd48f44"
  },
  "language_info": {
   "codemirror_mode": {
    "name": "ipython",
    "version": 3
   },
   "file_extension": ".py",
   "mimetype": "text/x-python",
   "name": "python",
   "nbconvert_exporter": "python",
   "pygments_lexer": "ipython3",
   "version": "3.6.0"
  }
 },
 "nbformat": 4,
 "nbformat_minor": 2
}

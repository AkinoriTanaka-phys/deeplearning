{
 "cells": [
  {
   "cell_type": "code",
   "execution_count": 2,
   "metadata": {
    "collapsed": false
   },
   "outputs": [],
   "source": [
    "import tensorflow as tf\n",
    "import matplotlib.pyplot as plt\n",
    "import numpy as np\n",
    "\n",
    "seq_length = 1\n",
    "\n",
    "def sort(batch):\n",
    "    return np.sort(batch)\n",
    "\n",
    "def reverse(batch):\n",
    "    return np.flip(batch, axis=1)\n",
    "\n",
    "def copy(batch):\n",
    "    return batch\n",
    "\n",
    "def decimal2binary(data, vec_dim):\n",
    "    out = []\n",
    "    for i in data:\n",
    "        out.append([int(s) for s in list(bin(i)[2:].zfill(vec_dim))])\n",
    "    return out \n",
    "\n",
    "def binary2decimal(data):\n",
    "    bd = len(data[0])\n",
    "    twos = []\n",
    "    for i in range(1, bd+1):\n",
    "        twos.append(2**(bd-i))\n",
    "    twos = np.array(twos)\n",
    "    return np.sum(data*twos, axis=-1)\n",
    "\n",
    "def binary2decimal_batch(batch):\n",
    "    batch_size, seq_length, vec_dim = batch.shape\n",
    "    twos = tf.reshape(2**(vec_dim - 1 - tf.range(0, vec_dim, 1.0)), shape=(1, 1, vec_dim))\n",
    "    twos_batch = tf.tile(twos, tf.constant([batch_size, seq_length, 1], tf.int32))\n",
    "    return tf.reduce_sum(batch*twos_batch, axis=2)\n",
    "\n",
    "def random_X(seq_length=4, vec_dim=4):\n",
    "    return [[0]+np.random.choice([0, 1], vec_dim).tolist() for i in range(seq_length)]\n",
    "\n",
    "def get_Z_corresponding_to(X):\n",
    "    batch_size, seq_length, vec_dim = X.shape\n",
    "    #print(X.shape)\n",
    "    Z = tf.concat([tf.reshape(tf.tile(tf.eye(vec_dim)[0], \n",
    "                                      #tf.ones(vec_dim), \n",
    "                                      tf.constant([batch_size], tf.int32)), \n",
    "                                     (batch_size, 1,            vec_dim)), \n",
    "                      tf.zeros(shape=(batch_size, seq_length-1, vec_dim))], axis=1)\n",
    "    return Z\n",
    "\n",
    "def get_XY(seq_length=4, vec_dim=4, size=100, f=sort):\n",
    "    X = [random_X(seq_length, vec_dim) for _ in range(size)]\n",
    "    Y = [decimal2binary(f([binary2decimal(x)])[0], vec_dim) for x in X]\n",
    "    return X, Y\n",
    "\n",
    "def get_binary_dataset(seq_length=4, vec_dim=4, size=100, f=reverse):\n",
    "    X, Y = get_XY(seq_length, vec_dim, size, f=f)\n",
    "    X = np.array(X).astype(np.float32)\n",
    "    Y = np.array(Y).astype(np.float32)\n",
    "    return tf.data.Dataset.from_tensor_slices((X, Y))\n",
    "\n",
    "def loss_sum(y, z):\n",
    "    return tf.reduce_mean(tf.nn.sigmoid_cross_entropy_with_logits(labels=y, logits=z, name=None))\n",
    "\n",
    "def update(X, Y, model, optimizer): # 学習ステップ\n",
    "    batch_size = X.shape[0]\n",
    "    init_h = model.reset_states(batch_size)\n",
    "    with tf.GradientTape() as tape:\n",
    "        # encoding step\n",
    "        _, enc_h = model(X, h=init_h)# 後でmodelを定義する際 call すると (出力, 内部状態) が出るようにしてあります\n",
    "        # decoding step\n",
    "        Z = get_Z_corresponding_to(X)\n",
    "        Y_pred, _ = model(Z, h=enc_h) # 後でmodelを定義する際 call すると (出力, 内部状態) が出るようにしてあります\n",
    "        # loss\n",
    "        loss_value = loss_sum(Y, Y_pred) \n",
    "    # update\n",
    "    #grads, _  = tf.clip_by_global_norm(tape.gradient(loss_value, model.trainable_variables), 20)\n",
    "    grads = tape.gradient(loss_value, model.trainable_variables)\n",
    "    optimizer.apply_gradients(zip(grads, model.trainable_variables))\n",
    "    return loss_value\n",
    "\n",
    "class NaiveModel(tf.keras.Model):\n",
    "    def __init__(self, vec_dim, cell, batch_size):\n",
    "        super(NaiveModel, self).__init__()\n",
    "        self.rnn_cell = cell\n",
    "        self.rnn = tf.keras.layers.RNN(cell=cell, return_sequences=True, return_state=True)#, stateful=True)\n",
    "        self.dense = tf.keras.layers.Dense(vec_dim,\n",
    "                                           kernel_initializer='glorot_normal', bias_initializer='normal',\n",
    "                                           name='final_dense_params')\n",
    "        self(np.zeros((batch_size, 2, vec_dim+1), dtype=np.float32), self.reset_states(batch_size))\n",
    "             #None) # build\n",
    "        \n",
    "    def call(self, inputs, h):\n",
    "        x = inputs\n",
    "        x_and_states = self.rnn(x, initial_state = h) # return_state=True になっている場合、最終の内部状態が出力される\n",
    "        x = self.dense(x_and_states[0])\n",
    "        return x, x_and_states[1:]\n",
    "        \n",
    "    def reset_states(self, batch_size):\n",
    "        return self.rnn_cell.get_initial_state(batch_size=batch_size, dtype=tf.float32)\n",
    "    \n",
    "def plot_binaries(y, ax=None, given_seq_length=None, title=None):\n",
    "    vec_dim, seq_length = y.shape\n",
    "    if ax is None:\n",
    "        fig = plt.figure()\n",
    "        ax = fig.add_subplot(1,1,1)\n",
    "    if title is not None:\n",
    "        ax.set_title(title)\n",
    "    ax.set_yticks([n for n in range(vec_dim)])\n",
    "    ax.set_yticklabels([r\"$2^{}$\".format(vec_dim-1-n) for n in range(vec_dim)])\n",
    "    #ax.set_xticks([t for t in range(seq_length)])\n",
    "    ax.set_xlabel(\"t\")\n",
    "    mappable = ax.imshow(y,interpolation='nearest',vmin=0,vmax=1,cmap='gray_r')\n",
    "    #\n",
    "    if given_seq_length is not None:\n",
    "        ax.axvline(x=given_seq_length, ymin=0, ymax=30, color='red', ls=\"-.\")\n",
    "        arrow_dict = dict(arrowstyle = \"->\", color = \"red\", connectionstyle = \"arc\")\n",
    "        ax.annotate(\"max l in data\", xy = (given_seq_length, 0), size = 10, \n",
    "                    xytext = (given_seq_length, -vec_dim//2), color = \"red\", arrowprops = arrow_dict)\n",
    "    return mappable\n",
    "\n",
    "def test(X, model, f, given_seq_length, bin=True, threshold=0.5, w=False, show=True): \n",
    "    Y = np.array([decimal2binary(f([binary2decimal(np.array(X[0], dtype=np.int))])[0], vec_dim)])\n",
    "    batch_size = X.shape[0]\n",
    "    init_h = model.reset_states(batch_size)\n",
    "    #\n",
    "    _, enc_h = model(X, h=init_h)\n",
    "    Z = get_Z_corresponding_to(X)\n",
    "    Y_pred, _ = model(Z, h=enc_h)\n",
    "    #Y_pred = Y_pred[:, :-1]\n",
    "    #\n",
    "    if show:\n",
    "        fig = plt.figure(figsize=(14, 6))\n",
    "        ax0 = fig.add_subplot(2,2,1)\n",
    "        ax1 = fig.add_subplot(2,2,2)\n",
    "        ax2 = fig.add_subplot(2,2,4)\n",
    "        mappable0 = plot_binaries(X[0].numpy().T, ax0, \n",
    "                                  given_seq_length, 'Input')\n",
    "        mappable1 = plot_binaries(np.array(decimal2binary(f([binary2decimal(np.array(X[0], dtype=np.int))])[0], vec_dim), dtype=np.float).T, ax1, \n",
    "                                  given_seq_length, 'Target({})'.format(str(f).split(\" \")[1]))\n",
    "        mappable2 =plot_binaries(((tf.keras.activations.sigmoid(Y_pred).numpy())[0]).T, ax2, \n",
    "                                 given_seq_length, 'RNN output')\n",
    "        fig.colorbar(mappable0, ax=ax0)\n",
    "        fig.colorbar(mappable1, ax=ax1)\n",
    "        fig.colorbar(mappable2, ax=ax2)\n",
    "        plt.show()\n",
    "\n",
    "    elif bin:\n",
    "        #print(\"in    :\")\n",
    "        #print(X[0].numpy().astype(np.float32).T + 0.01)\n",
    "        print(\"ans   :\")\n",
    "        print(np.abs(np.array(decimal2binary(f([binary2decimal(np.array(X[0], dtype=np.int))])[0], vec_dim), dtype=np.float).T- 0.01))#[:-1])\n",
    "        print(\"model :\")\n",
    "        print((np.round((tf.keras.activations.sigmoid(Y_pred).numpy()), 2)[0]).T)\n",
    "    else:\n",
    "        print(\"in    :\", binary2decimal(X[0]))\n",
    "        print(\"ans   :\", f([binary2decimal(X[0])])[0])\n",
    "        print(\"model :\", binary2decimal(1.0*(tf.keras.activations.sigmoid(Y_pred).numpy()>threshold)[0]))\n",
    "\n",
    "        \n",
    "    if w:\n",
    "        state = model.reset_states(batch_size)\n",
    "        enc_slots = []\n",
    "        for t in range(X.shape[1]):\n",
    "            _, state = model(X[:,t:t+1,:], h=state)\n",
    "            enc_slots.append((np.argmax(tf.squeeze(state[1])), np.argmax(tf.squeeze(state[2]))))\n",
    "\n",
    "\n",
    "        dec_slots = []\n",
    "        for t in range(Z.shape[1]):\n",
    "            _, state = model(Z[:,t:t+1,:], h=state)\n",
    "            dec_slots.append((np.argmax(tf.squeeze(state[1])), np.argmax(tf.squeeze(state[2]))))\n",
    "        print('encode w (r, w) :', enc_slots)\n",
    "        print('decode w (r, w):', dec_slots)"
   ]
  },
  {
   "cell_type": "markdown",
   "metadata": {},
   "source": [
    "## 7-1. LSTMでアルゴリズム学習してみる\n",
    "\n",
    "この節における**アルゴリズム**は、正数列$\\to$正数列の何らかの関数であるとします。これは例えば以下のような関数：`identity`,`sort`,`reverse` のようなものとします。"
   ]
  },
  {
   "cell_type": "code",
   "execution_count": 3,
   "metadata": {
    "collapsed": false,
    "tags": []
   },
   "outputs": [
    {
     "name": "stdout",
     "output_type": "stream",
     "text": [
      "x =           [[1, 9, 6, 8, 8, 4]]\n",
      "identity(x) = [[1, 9, 6, 8, 8, 4]]\n",
      "sort(x) =     [[1, 4, 6, 8, 8, 9]]\n",
      "reverse(x) =  [[4, 8, 8, 6, 9, 1]]\n"
     ]
    }
   ],
   "source": [
    "x = [[1, 9, 6, 8, 8, 4]]\n",
    "print(\"x =\".ljust(13, ' ')          , x                  )\n",
    "print(\"identity(x) =\".ljust(13, ' '), x                  )\n",
    "print(\"sort(x) =\".ljust(13, ' ')    , sort(x).tolist()   )\n",
    "print(\"reverse(x) =\".ljust(13, ' ') , reverse(x).tolist())"
   ]
  },
  {
   "cell_type": "markdown",
   "metadata": {},
   "source": [
    "順に、\n",
    "* `identity`：恒等写像\n",
    "* `sort`：降順に並び替える関数\n",
    "* `reverse`：逆順に並び替える関数\n",
    "\n",
    "と言う具合です。かなり単純ですが、一応、論理的な処理が必要な関数を用意したつもりです。これらの関数を、データだけから推論させることを考えます。つまり、教師データとして"
   ]
  },
  {
   "cell_type": "code",
   "execution_count": 4,
   "metadata": {
    "collapsed": false,
    "tags": []
   },
   "outputs": [
    {
     "name": "stdout",
     "output_type": "stream",
     "text": [
      "Input X :\n",
      " [[7 4 2 3 7 4 9 3 4 6]\n",
      " [5 3 6 8 6 4 4 6 6 7]\n",
      " [4 6 4 8 8 8 7 8 7 3]]\n",
      "Output Y :\n",
      " [[2 3 3 4 4 4 6 7 7 9]\n",
      " [3 4 4 5 6 6 6 6 7 8]\n",
      " [3 4 4 6 7 7 8 8 8 8]]\n"
     ]
    }
   ],
   "source": [
    "X = np.random.randint(1, 10, 3*10).reshape(3, 10)\n",
    "print(\"Input X :\\n\", X)\n",
    "print(\"Output Y :\\n\", sort(X))"
   ]
  },
  {
   "cell_type": "markdown",
   "metadata": {},
   "source": [
    "のようなものを適当に生成し、その**データの構造だけからどのようなアルゴリズムでこれが作られたかを推定するタスク**をニューラルネットワークに解かせることを考えます。どのようなネットワークを使ってもよいのですが、\n",
    "* 論理的な処理は時系列データ処理と思える\n",
    "* リカレントニューラルネットワークは**チューリング完全**であることが知られている([Siegelmann, H. T., & Sontag, E. D. (1992)](https://www.sciencedirect.com/science/article/pii/S0022000085710136))\n",
    "\n",
    "ことから、今回は数列を時系列データとして処理するリカレントニューラルネットワークを使ってみます。"
   ]
  },
  {
   "cell_type": "markdown",
   "metadata": {},
   "source": [
    "### データの前処理\n",
    "\n",
    "上のように数字の並びに対する処理を解かせたいのですが、整数を直に扱うのはネットワークにとって少々難しいので、何らかの方法でベクトル化する必要があります。今回は実装の単純さの観点から**２進数(バイナリ)表示**を使ってみることにします。\n",
    "\n",
    "例えば、以下のような感じで、各時刻での整数 1, 9, 6, ..., を2進数で表記した際、例えば\n",
    "\n",
    "$$\n",
    "\\left. \\begin{array}{rrr}\n",
    "1 = & 1 \\cdot 2^0 \\to & 1\n",
    "\\\\\n",
    "9 = & 1\\cdot2^3 + 0 \\cdot 2^2 + 0 \\cdot 2^1 + 1 \\cdot 2^0 \\to & 1001\n",
    "\\\\\n",
    "\\vdots\n",
    "\\\\\n",
    "4 = &  1 \\cdot 2^2 + 0 \\cdot 2^1 + 0 \\cdot 2^0 \\to & 100\n",
    "\\end{array} \\right.\n",
    "$$\n",
    "\n",
    "といった具合ですが、適当に上限サイズ（`vec_dim`に対応）を固定し、足りない分を0で埋め、その各桁を成分に持つベクトルに変換します。そして最後に ${\\color{red}{EOS}}$ を表すベクトルとして、第一成分のみ1であとはゼロのベクトルを埋め込みます（つまり、もとの数列の長さ+1の長さの２進数表記ベクトル列に変換します）：\n",
    "\n",
    "$$\n",
    "\\left. \\begin{array}{rrrl}\n",
    "1 \\to &1 \\to &\"00000\"1 \\to & [0,0,0,0,0,1] = {\\bf x}_0\n",
    "\\\\\n",
    "9 \\to &1001 \\to &\"00\"1001 \\to & [0,0,1,0,0,1] = {\\bf x}_1\n",
    "\\\\\n",
    "\\vdots & & &\\vdots\n",
    "\\\\\n",
    "4 \\to & 100 \\to & \"000\"100 \\to & [0,0,0,1,0,0] = {\\bf x}_5\n",
    "\\\\\n",
    " && {\\color{red}{+}}& {\\color{red}{[1,0,0,0,0,0]=:  {EOS}}} \n",
    "\\end{array} \\right.\n",
    "$$\n",
    "\n",
    "ただし、実装の都合上 ${\\color{red}{EOS}}$ は別の形で実装します。コマンド`decimal2binary` で数のリストをバイナリベクトルに変換できるようにしておきました：\n"
   ]
  },
  {
   "cell_type": "code",
   "execution_count": 10,
   "metadata": {
    "collapsed": false
   },
   "outputs": [
    {
     "name": "stdout",
     "output_type": "stream",
     "text": [
      "[1, 9, 6, 8, 8, 4] is transformed to\n"
     ]
    },
    {
     "data": {
      "image/png": "[encoded data removed]",
      "text/plain": [
       "<Figure size 432x288 with 2 Axes>"
      ]
     },
     "metadata": {},
     "output_type": "display_data"
    }
   ],
   "source": [
    "print(x[0], \"is transformed to\")\n",
    "mappable = plot_binaries(np.array(decimal2binary(x[0], vec_dim=5)).T, title='Input')\n",
    "plt.colorbar(mappable); plt.show()"
   ]
  },
  {
   "cell_type": "markdown",
   "metadata": {},
   "source": [
    "この入力に対して、アルゴリズムを `f` とすると、教師信号は以下になります。注意ですが、出力では ${\\color{red}{EOS}}$ が不要なので無駄を省くために一番大きな位（一番左の`0`ばかりの位）を切り捨てて、ベクトルの次元を1減らしています。このあたりの処理は後で使うデータ処理用の関数で実装してあります。"
   ]
  },
  {
   "cell_type": "code",
   "execution_count": 13,
   "metadata": {
    "collapsed": false
   },
   "outputs": [
    {
     "name": "stdout",
     "output_type": "stream",
     "text": [
      "[1, 9, 6, 8, 8, 4] is transformed to\n"
     ]
    },
    {
     "data": {
      "image/png": "[encoded data removed]",
      "text/plain": [
       "<Figure size 432x288 with 2 Axes>"
      ]
     },
     "metadata": {},
     "output_type": "display_data"
    }
   ],
   "source": [
    "f = copy # reverse, sort is also possible\n",
    "print(f(x)[0], \"is transformed to\")\n",
    "mappable = plot_binaries(np.array(decimal2binary(f(x)[0], vec_dim=4)).T, title='Target({})'.format(str(f).split(\" \")[1]))\n",
    "plt.colorbar(mappable); plt.show()"
   ]
  },
  {
   "cell_type": "markdown",
   "metadata": {},
   "source": [
    "### 訓練の方法\n",
    "[4節](#)でリカレントニューラルネットワークを使いましたが、あのときは毎時刻の出力を見ていましたが、今回のアルゴリズム学習では、一旦入力の系列を全て把握しないと、正しい答えが出せません。そこで以下のような形式（エンコーダー・デコーダー形式）を採ることにします：\n",
    "\n",
    "![alt](1.jpg)\n",
    "\n"
   ]
  },
  {
   "cell_type": "markdown",
   "metadata": {},
   "source": [
    "エンコードステップではEOSを含まないベクトル系列 ${\\color{blue}{X = [{\\bf x_0}, {\\bf x}_1, \\dots]}}$ を入力し、出力は無視してリカレントニューラルネットワークの内部状態だけを更新します。そしてデコードステップでは${\\color{red}{Z = [EOS, {\\bf 0}, {\\bf 0}, \\dots]}}$ を入力して、教師データ ${\\color{red}{Y = [{\\bf y_0}, {\\bf y}_1, \\dots]}}$ に合わせに行くように教師あり学習を行います。ここでは \n",
    "* `get_binary_dataset` : $X, Y$ を用意\n",
    "* `get_Z_corresponding_to(X)` : 対応するZを出力する\n",
    "\n",
    "というコマンドを準備しました："
   ]
  },
  {
   "cell_type": "code",
   "execution_count": 14,
   "metadata": {
    "collapsed": false
   },
   "outputs": [
    {
     "name": "stdout",
     "output_type": "stream",
     "text": [
      "X:\n",
      " tf.Tensor(\n",
      "[[[0. 1. 1. 0.]\n",
      "  [0. 0. 1. 0.]\n",
      "  [0. 1. 1. 1.]]], shape=(1, 3, 4), dtype=float32) \n",
      " in decimal: \n",
      " [[6. 2. 7.]]\n",
      "Z:\n",
      " tf.Tensor(\n",
      "[[[1. 0. 0. 0.]\n",
      "  [0. 0. 0. 0.]\n",
      "  [0. 0. 0. 0.]]], shape=(1, 3, 4), dtype=float32)\n",
      "Y:\n",
      " tf.Tensor(\n",
      "[[[1. 1. 1.]\n",
      "  [0. 1. 0.]\n",
      "  [1. 1. 0.]]], shape=(1, 3, 3), dtype=float32) \n",
      " in decimal: \n",
      " [[7. 2. 6.]]\n"
     ]
    }
   ],
   "source": [
    "D = get_binary_dataset(seq_length=3, vec_dim=3, size=1, f=reverse) # size = number of data\n",
    "batch = D.shuffle(50).batch(1, drop_remainder=True)\n",
    "for X,Y in batch:\n",
    "    print(\"X:\\n\", X, \"\\n in decimal: \\n\", binary2decimal_batch(X).numpy())\n",
    "    print(\"Z:\\n\", get_Z_corresponding_to(X))\n",
    "    print(\"Y:\\n\", Y, \"\\n in decimal: \\n\", binary2decimal_batch(Y).numpy())"
   ]
  },
  {
   "cell_type": "markdown",
   "metadata": {},
   "source": [
    "EOSを表すベクトルが $[1, 0, \\dots, 0]$ だったことに注意してください。訓練は出力がバイナリーなので、sigmoidクロスエントロピーを使いますが、別の誤差関数でも似た働きをするものであれば代用できます："
   ]
  },
  {
   "cell_type": "code",
   "execution_count": 15,
   "metadata": {
    "collapsed": true
   },
   "outputs": [],
   "source": [
    "def loss_sum(y, z):\n",
    "    #return tf.reduce_mean(tf.keras.losses.MSE(y, tf.keras.activations.sigmoid(z)))\n",
    "    return tf.reduce_mean(tf.nn.sigmoid_cross_entropy_with_logits(labels=y, logits=z, name=None))"
   ]
  },
  {
   "cell_type": "markdown",
   "metadata": {},
   "source": [
    "適当なミニバッチ $X, Y$ がやってきたときの `model` の訓練の処理は"
   ]
  },
  {
   "cell_type": "code",
   "execution_count": 16,
   "metadata": {
    "collapsed": true
   },
   "outputs": [],
   "source": [
    "def update(X, Y, model, optimizer): # 学習ステップ\n",
    "    batch_size = X.shape[0]\n",
    "    init_h = model.reset_states(batch_size)\n",
    "    with tf.GradientTape() as tape:\n",
    "        # encoding step\n",
    "        _, h_encoded = model(X, h=init_h)# 後でmodelを定義する際 call すると (出力, 内部状態) が出るようにしてあります\n",
    "        # decoding step\n",
    "        Z = get_Z_corresponding_to(X)\n",
    "        Y_pred, _ = model(Z, h=h_encoded) # 後でmodelを定義する際 call すると (出力, 内部状態) が出るようにしてあります\n",
    "        # loss\n",
    "        loss_value = loss_sum(Y, Y_pred) \n",
    "    # update\n",
    "    #grads, _  = tf.clip_by_global_norm(tape.gradient(loss_value, model.trainable_variables), 20)\n",
    "    grads = tape.gradient(loss_value, model.trainable_variables)\n",
    "    optimizer.apply_gradients(zip(grads, model.trainable_variables))\n",
    "    return loss_value"
   ]
  },
  {
   "cell_type": "markdown",
   "metadata": {},
   "source": [
    "のようにするとします。あとは `model` の設計をして実際に訓練するのみです。"
   ]
  },
  {
   "cell_type": "markdown",
   "metadata": {},
   "source": [
    "### モデルの定義\n",
    "まずは前にも使ったtensorflowに据え置きのリカレントニューラルネットワークを組み込んだモデルを作ります。これは時系列方向が暗黙のうちに固定されていると考えれば、これまでと同じ作り方です"
   ]
  },
  {
   "cell_type": "code",
   "execution_count": 17,
   "metadata": {
    "collapsed": false
   },
   "outputs": [],
   "source": [
    "class NaiveModel(tf.keras.Model):\n",
    "    def __init__(self, vec_dim, cell, batch_size):\n",
    "        super(NaiveModel, self).__init__()\n",
    "        self.rnn_cell = cell\n",
    "        self.rnn = tf.keras.layers.RNN(cell=cell, return_sequences=True, return_state=True)#, stateful=True)\n",
    "        self.dense = tf.keras.layers.Dense(vec_dim,\n",
    "                                           kernel_initializer='glorot_normal', bias_initializer='normal',\n",
    "                                           name='final_dense_params')\n",
    "        self(np.zeros((batch_size, 1, vec_dim+1), dtype=np.float32), None) # build\n",
    "        \n",
    "    def call(self, inputs, h):\n",
    "        x = inputs\n",
    "        x_and_states = self.rnn(x, initial_state = h) # return_state=True になっている場合、最終の内部状態が出力される\n",
    "        x = self.dense(x_and_states[0])\n",
    "        return x, x_and_states[1:]\n",
    "        \n",
    "    def reset_states(self, batch_size):\n",
    "        return self.rnn_cell.get_initial_state(batch_size=batch_size, dtype=tf.float32)"
   ]
  },
  {
   "cell_type": "markdown",
   "metadata": {},
   "source": [
    "`cell` という見慣れない変数を導入しましたが、どうやらtensorflowでは\n",
    "\n",
    "* リカレントニューラルネットワークのコア部分は`cell`として実装し\n",
    "* 実際にリカレントニューラルネットワークを作る際は`tf.keras.layers.RNN(cell)` とする\n",
    "\n",
    "としてリカレントニューラルネットワークを作ることができるみたいです。前回の `SimpleRNN` に相当する部分が `self.rnn = tf.keras.layers.RNN(...)` の部分です。"
   ]
  },
  {
   "cell_type": "markdown",
   "metadata": {},
   "source": [
    "### 訓練してみる\n",
    "データが与えられたときの訓練用の関数は以下のようになります："
   ]
  },
  {
   "cell_type": "code",
   "execution_count": 18,
   "metadata": {
    "collapsed": true
   },
   "outputs": [],
   "source": [
    "def train(model, D, epoch_size=10, batch_size=32, savepath=''):\n",
    "    tf_update = tf.function(update) # グラフ化\n",
    "    optimizer=tf.keras.optimizers.Adam()\n",
    "    ### training\n",
    "    for epoch in range(epoch_size):\n",
    "        batch = D.shuffle(50).batch(batch_size, drop_remainder=True) # 50 はデータシャッフルのためのバッファサイズです\n",
    "        for (X,Y) in batch:\n",
    "            model.reset_states(batch_size)\n",
    "            loss_value = tf_update(X, Y, model, optimizer)\n",
    "        if epoch%100==0:\n",
    "            print(\"{}-epoch final:\".format(epoch), loss_value)\n",
    "    model.save_weights(savepath) # stateful で 設計時にバッチサイズを固定した場合、後で使うなら重みを保存する\n",
    "    return None"
   ]
  },
  {
   "cell_type": "markdown",
   "metadata": {},
   "source": [
    "ここまでの設定では決まった長さの系列でしか訓練できないのですが、アルゴリズム処理は任意の長さの系列で汎化してほしいので、設定した最大の時系列長さ以下の長さのデータを取って、それでSGDするオンライン学習方式の訓練のほうが良いようです。"
   ]
  },
  {
   "cell_type": "code",
   "execution_count": 22,
   "metadata": {
    "collapsed": true
   },
   "outputs": [],
   "source": [
    "def train_various_seq(model, test_model, vec_dim, seq_length, f, data_size=512, \n",
    "                      epoch_size=10, batch_size=32, savepath=''):\n",
    "    tf_update = tf.function(update) # グラフ化\n",
    "    optimizer=tf.keras.optimizers.RMSprop(learning_rate=1e-4, momentum=0.9, rho=0.95) #Adam()\n",
    "    ### training\n",
    "    for epoch in range(epoch_size):\n",
    "        seq_length_epoch = np.random.choice([sle for sle in range(1, seq_length+1)])\n",
    "        D = get_binary_dataset(seq_length_epoch, vec_dim, size=data_size, f=f)\n",
    "        batch = D.batch(batch_size)\n",
    "        for (X,Y) in batch:\n",
    "            loss_value = tf_update(X, Y, model, optimizer)\n",
    "            \n",
    "        if epoch%1000 == 0:\n",
    "            model.save_weights(savepath) \n",
    "            print(\"{}-epoch, model saved\".format(epoch))\n",
    "            test_model.load_weights(savepath)\n",
    "            X_test = tf.constant([random_X(seq_length+5, vec_dim)], dtype=tf.float32)\n",
    "            test(X_test, test_model, f=f, given_seq_length=seq_length, bin=False, threshold=0.5, w=False, show=True)\n",
    "    model.save_weights(savepath) \n",
    "    return None"
   ]
  },
  {
   "cell_type": "markdown",
   "metadata": {},
   "source": [
    "以下では\n",
    "* `vec_dim`: バイナリベクトルの次元（デフォルトは8ビット）\n",
    "* `seq_length`: バイナリベクトルの入力数の上限\n",
    "* `data_size`: 1エポックあたりの全データ数\n",
    "* `batch_size`: 1エポックあたりのミニバッチサイズ\n",
    "* `f`: ターゲット関数\n",
    "\n",
    "です。"
   ]
  },
  {
   "cell_type": "code",
   "execution_count": 21,
   "metadata": {
    "collapsed": false,
    "scrolled": false
   },
   "outputs": [
    {
     "name": "stdout",
     "output_type": "stream",
     "text": [
      "0-epoch, model saved\n"
     ]
    },
    {
     "data": {
      "image/png": "[encoded data removed]",
      "text/plain": [
       "<Figure size 1008x432 with 6 Axes>"
      ]
     },
     "metadata": {},
     "output_type": "display_data"
    },
    {
     "name": "stdout",
     "output_type": "stream",
     "text": [
      "10000-epoch, model saved\n"
     ]
    },
    {
     "data": {
      "image/png": "[encoded data removed]",
      "text/plain": [
       "<Figure size 1008x432 with 6 Axes>"
      ]
     },
     "metadata": {},
     "output_type": "display_data"
    },
    {
     "name": "stdout",
     "output_type": "stream",
     "text": [
      "29000-epoch, model saved\n"
     ]
    },
    {
     "data": {
      "image/png": "[encoded data removed]",
      "text/plain": [
       "<Figure size 1008x432 with 6 Axes>"
      ]
     },
     "metadata": {},
     "output_type": "display_data"
    }
   ],
   "source": [
    "vec_dim, seq_length = 8, 20\n",
    "data_size, batch_size= 1, 1\n",
    "f = copy # reverse, sort is also implemented\n",
    "\n",
    "cell = tf.keras.layers.LSTMCell(100)\n",
    "model = NaiveModel(vec_dim, cell, batch_size=batch_size)\n",
    "test_model = NaiveModel(vec_dim, cell, batch_size=1)\n",
    "\n",
    "# training just by dataset w/ seq_length\n",
    "#D = get_binary_dataset(seq_length, vec_dim, size=512, f=f)\n",
    "#train(model, D, epoch_size=5000, batch_size=batch_size, savepath='LSTM_test')\n",
    "# training by dataset w/ <= seq_length\n",
    "train_various_seq(model, test_model, vec_dim, seq_length, f, data_size=data_size, \n",
    "                  epoch_size=30000, batch_size=batch_size, savepath='LSTM_test')"
   ]
  },
  {
   "cell_type": "markdown",
   "metadata": {},
   "source": [
    "実際に実行すると、`tf.function()` の再トレーシング（グラフの組み直し）が発生し、警告が出されてしまいます。これは訓練で毎回時系列長さを変えているため生じますが、そのうち全パターンの長さのグラフが構成されるためか、警告が出なくなって、そのまま放置で訓練されます。また、500epochs毎に途中経過が出力されるようにしましたが、`train_various_seq`の`if epoch%500 == 0:`の条件分枝を書き換えれば出力するタイミングを変えることもできます。\n",
    "\n",
    "### 極端に長い時系列について汎化しているか\n",
    "ここでは時系列長さ20以内で訓練しましたが、それより極端に長い時系列データを入れてもアルゴリズム処理できるでしょうか？以下で確認できます。"
   ]
  },
  {
   "cell_type": "code",
   "execution_count": 23,
   "metadata": {
    "collapsed": false
   },
   "outputs": [
    {
     "data": {
      "image/png": "[encoded data removed]",
      "text/plain": [
       "<Figure size 1008x432 with 6 Axes>"
      ]
     },
     "metadata": {},
     "output_type": "display_data"
    }
   ],
   "source": [
    "test_model = NaiveModel(vec_dim, cell, batch_size=1)\n",
    "test_model.load_weights('LSTM_test')\n",
    "X = tf.constant([random_X(seq_length+20, vec_dim)], dtype=tf.float32)\n",
    "test(X, test_model, f=f, given_seq_length=seq_length, bin=False, threshold=0.5, w=False, show=True)"
   ]
  },
  {
   "cell_type": "markdown",
   "metadata": {},
   "source": [
    "訓練が不十分な気もしますが、初めの方の処理以外は忘れてしまって上手く処理できないのがわかります。この節では訓練に使った長さの処理を大きく超えて、このような極端に長い時系列についてもターゲット関数と同じ処理をするニューラルネットワークを構成することを目標にします。"
   ]
  }
 ],
 "metadata": {
  "kernelspec": {
   "display_name": "Python 3",
   "language": "python",
   "name": "python3"
  },
  "language_info": {
   "codemirror_mode": {
    "name": "ipython",
    "version": 3
   },
   "file_extension": ".py",
   "mimetype": "text/x-python",
   "name": "python",
   "nbconvert_exporter": "python",
   "pygments_lexer": "ipython3",
   "version": "3.6.0"
  }
 },
 "nbformat": 4,
 "nbformat_minor": 2
}

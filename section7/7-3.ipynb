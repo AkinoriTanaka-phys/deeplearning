{
 "cells": [
  {
   "cell_type": "code",
   "execution_count": 23,
   "metadata": {
    "collapsed": false
   },
   "outputs": [],
   "source": [
    "import tensorflow as tf\n",
    "import matplotlib.pyplot as plt\n",
    "import numpy as np\n",
    "\n",
    "seq_length = 1\n",
    "\n",
    "def sort(batch):\n",
    "    return np.sort(batch)\n",
    "\n",
    "def reverse(batch):\n",
    "    return np.flip(batch, axis=1)\n",
    "\n",
    "def copy(batch):\n",
    "    return batch\n",
    "\n",
    "def decimal2binary(data, vec_dim):\n",
    "    out = []\n",
    "    for i in data:\n",
    "        out.append([int(s) for s in list(bin(i)[2:].zfill(vec_dim))])\n",
    "    return out \n",
    "\n",
    "def binary2decimal(data):\n",
    "    bd = len(data[0])\n",
    "    twos = []\n",
    "    for i in range(1, bd+1):\n",
    "        twos.append(2**(bd-i))\n",
    "    twos = np.array(twos)\n",
    "    return np.sum(data*twos, axis=-1)\n",
    "\n",
    "def binary2decimal_batch(batch):\n",
    "    batch_size, seq_length, vec_dim = batch.shape\n",
    "    twos = tf.reshape(2**(vec_dim - 1 - tf.range(0, vec_dim, 1.0)), shape=(1, 1, vec_dim))\n",
    "    twos_batch = tf.tile(twos, tf.constant([batch_size, seq_length, 1], tf.int32))\n",
    "    return tf.reduce_sum(batch*twos_batch, axis=2)\n",
    "\n",
    "def random_X(seq_length=4, vec_dim=4):\n",
    "    return [[0]+np.random.choice([0, 1], vec_dim).tolist() for i in range(seq_length)]\n",
    "\n",
    "def get_Z_corresponding_to(X):\n",
    "    batch_size, seq_length, vec_dim = X.shape\n",
    "    #print(X.shape)\n",
    "    Z = tf.concat([tf.reshape(tf.tile(tf.eye(vec_dim)[0], \n",
    "                                      #tf.ones(vec_dim), \n",
    "                                      tf.constant([batch_size], tf.int32)), \n",
    "                                     (batch_size, 1,            vec_dim)), \n",
    "                      tf.zeros(shape=(batch_size, seq_length-1, vec_dim))], axis=1)\n",
    "    return Z\n",
    "\n",
    "def get_XY(seq_length=4, vec_dim=4, size=100, f=sort):\n",
    "    X = [random_X(seq_length, vec_dim) for _ in range(size)]\n",
    "    Y = [decimal2binary(f([binary2decimal(x)])[0], vec_dim) for x in X]\n",
    "    return X, Y\n",
    "\n",
    "def get_binary_dataset(seq_length=4, vec_dim=4, size=100, f=reverse):\n",
    "    X, Y = get_XY(seq_length, vec_dim, size, f=f)\n",
    "    X = np.array(X).astype(np.float32)\n",
    "    Y = np.array(Y).astype(np.float32)\n",
    "    return tf.data.Dataset.from_tensor_slices((X, Y))\n",
    "\n",
    "def loss_sum(y, z):\n",
    "    return tf.reduce_mean(tf.nn.sigmoid_cross_entropy_with_logits(labels=y, logits=z, name=None))\n",
    "\n",
    "def update(X, Y, model, optimizer): # 学習ステップ\n",
    "    batch_size = X.shape[0]\n",
    "    init_h = model.reset_states(batch_size)\n",
    "    with tf.GradientTape() as tape:\n",
    "        # encoding step\n",
    "        _, enc_h = model(X, h=init_h)# 後でmodelを定義する際 call すると (出力, 内部状態) が出るようにしてあります\n",
    "        # decoding step\n",
    "        Z = get_Z_corresponding_to(X)\n",
    "        Y_pred, _ = model(Z, h=enc_h) # 後でmodelを定義する際 call すると (出力, 内部状態) が出るようにしてあります\n",
    "        # loss\n",
    "        loss_value = loss_sum(Y, Y_pred) \n",
    "    # update\n",
    "    #grads, _  = tf.clip_by_global_norm(tape.gradient(loss_value, model.trainable_variables), 20)\n",
    "    grads = tape.gradient(loss_value, model.trainable_variables)\n",
    "    optimizer.apply_gradients(zip(grads, model.trainable_variables))\n",
    "    return loss_value\n",
    "\n",
    "class NaiveModel(tf.keras.Model):\n",
    "    def __init__(self, vec_dim, cell, batch_size):\n",
    "        super(NaiveModel, self).__init__()\n",
    "        self.rnn_cell = cell\n",
    "        self.rnn = tf.keras.layers.RNN(cell=cell, return_sequences=True, return_state=True)#, stateful=True)\n",
    "        self.dense = tf.keras.layers.Dense(vec_dim,\n",
    "                                           kernel_initializer='glorot_normal', bias_initializer='normal',\n",
    "                                           name='final_dense_params')\n",
    "        self(np.zeros((batch_size, 2, vec_dim+1), dtype=np.float32), self.reset_states(batch_size))\n",
    "             #None) # build\n",
    "        \n",
    "    def call(self, inputs, h):\n",
    "        x = inputs\n",
    "        x_and_states = self.rnn(x, initial_state = h) # return_state=True になっている場合、最終の内部状態が出力される\n",
    "        x = self.dense(x_and_states[0])\n",
    "        return x, x_and_states[1:]\n",
    "        \n",
    "    def reset_states(self, batch_size):\n",
    "        return self.rnn_cell.get_initial_state(batch_size=batch_size, dtype=tf.float32)\n",
    "    \n",
    "def plot_binaries(y, ax=None, given_seq_length=None, title=None):\n",
    "    vec_dim, seq_length = y.shape\n",
    "    if ax is None:\n",
    "        fig = plt.figure()\n",
    "        ax = fig.add_subplot(1,1,1)\n",
    "    if title is not None:\n",
    "        ax.set_title(title)\n",
    "    ax.set_yticks([n for n in range(vec_dim)])\n",
    "    ax.set_yticklabels([r\"$2^{}$\".format(vec_dim-1-n) for n in range(vec_dim)])\n",
    "    #ax.set_xticks([t for t in range(seq_length)])\n",
    "    ax.set_xlabel(\"t\")\n",
    "    mappable = ax.imshow(y,interpolation='nearest',vmin=0,vmax=1,cmap='gray_r')\n",
    "    #\n",
    "    if given_seq_length is not None:\n",
    "        ax.axvline(x=given_seq_length, ymin=0, ymax=30, color='red', ls=\"-.\")\n",
    "        arrow_dict = dict(arrowstyle = \"->\", color = \"red\", connectionstyle = \"arc\")\n",
    "        ax.annotate(\"max l in data\", xy = (given_seq_length, 0), size = 10, \n",
    "                    xytext = (given_seq_length, -vec_dim//2), color = \"red\", arrowprops = arrow_dict)\n",
    "    return mappable\n",
    "\n",
    "def test(X, model, f, given_seq_length, bin=True, threshold=0.5, w=False, show=True): \n",
    "    Y = np.array([decimal2binary(f([binary2decimal(np.array(X[0], dtype=np.int))])[0], vec_dim)])\n",
    "    batch_size = X.shape[0]\n",
    "    init_h = model.reset_states(batch_size)\n",
    "    #\n",
    "    _, enc_h = model(X, h=init_h)\n",
    "    Z = get_Z_corresponding_to(X)\n",
    "    Y_pred, _ = model(Z, h=enc_h)\n",
    "    #Y_pred = Y_pred[:, :-1]\n",
    "    #\n",
    "    if show:\n",
    "        fig = plt.figure(figsize=(14, 6))\n",
    "        ax0 = fig.add_subplot(2,2,1)\n",
    "        ax1 = fig.add_subplot(2,2,2)\n",
    "        ax2 = fig.add_subplot(2,2,4)\n",
    "        mappable0 = plot_binaries(X[0].numpy().T, ax0, \n",
    "                                  given_seq_length, 'Input')\n",
    "        mappable1 = plot_binaries(np.array(decimal2binary(f([binary2decimal(np.array(X[0], dtype=np.int))])[0], vec_dim), dtype=np.float).T, ax1, \n",
    "                                  given_seq_length, 'Target({})'.format(str(f).split(\" \")[1]))\n",
    "        mappable2 =plot_binaries(((tf.keras.activations.sigmoid(Y_pred).numpy())[0]).T, ax2, \n",
    "                                 given_seq_length, 'RNN output')\n",
    "        fig.colorbar(mappable0, ax=ax0)\n",
    "        fig.colorbar(mappable1, ax=ax1)\n",
    "        fig.colorbar(mappable2, ax=ax2)\n",
    "        plt.show()\n",
    "\n",
    "    elif bin:\n",
    "        #print(\"in    :\")\n",
    "        #print(X[0].numpy().astype(np.float32).T + 0.01)\n",
    "        print(\"ans   :\")\n",
    "        print(np.abs(np.array(decimal2binary(f([binary2decimal(np.array(X[0], dtype=np.int))])[0], vec_dim), dtype=np.float).T- 0.01))#[:-1])\n",
    "        print(\"model :\")\n",
    "        print((np.round((tf.keras.activations.sigmoid(Y_pred).numpy()), 2)[0]).T)\n",
    "    else:\n",
    "        print(\"in    :\", binary2decimal(X[0]))\n",
    "        print(\"ans   :\", f([binary2decimal(X[0])])[0])\n",
    "        print(\"model :\", binary2decimal(1.0*(tf.keras.activations.sigmoid(Y_pred).numpy()>threshold)[0]))\n",
    "\n",
    "        \n",
    "    if w:\n",
    "        state = model.reset_states(batch_size)\n",
    "        enc_slots = []\n",
    "        for t in range(X.shape[1]):\n",
    "            _, state = model(X[:,t:t+1,:], h=state)\n",
    "            enc_slots.append((np.argmax(tf.squeeze(state[1])), np.argmax(tf.squeeze(state[2]))))\n",
    "\n",
    "\n",
    "        dec_slots = []\n",
    "        for t in range(Z.shape[1]):\n",
    "            _, state = model(Z[:,t:t+1,:], h=state)\n",
    "            dec_slots.append((np.argmax(tf.squeeze(state[1])), np.argmax(tf.squeeze(state[2]))))\n",
    "        print('encode w (r, w) :', enc_slots)\n",
    "        print('decode w (r, w):', dec_slots)\n",
    "        \n",
    "def train_various_seq(model, test_model, vec_dim, seq_length, f, data_size=512, \n",
    "                      epoch_size=10, batch_size=32, savepath=''):\n",
    "    tf_update = tf.function(update) # グラフ化\n",
    "    optimizer=tf.keras.optimizers.RMSprop(learning_rate=1e-4, momentum=0.9, rho=0.95) #Adam()\n",
    "    ### training\n",
    "    for epoch in range(epoch_size):\n",
    "        seq_length_epoch = np.random.choice([sle for sle in range(1, seq_length+1)])\n",
    "        D = get_binary_dataset(seq_length_epoch, vec_dim, size=data_size, f=f)\n",
    "        batch = D.batch(batch_size)\n",
    "        for (X,Y) in batch:\n",
    "            loss_value = tf_update(X, Y, model, optimizer)\n",
    "            \n",
    "        if epoch%500 == 0:\n",
    "            model.save_weights(savepath) \n",
    "            print(\"{}-epoch, model saved\".format(epoch))\n",
    "            test_model.load_weights(savepath)\n",
    "            X_test = tf.constant([random_X(seq_length+5, vec_dim)], dtype=tf.float32)\n",
    "            test(X_test, test_model, f=f, given_seq_length=seq_length, bin=False, threshold=0.5, w=False, show=True)\n",
    "    model.save_weights(savepath) \n",
    "    return None"
   ]
  },
  {
   "cell_type": "markdown",
   "metadata": {},
   "source": [
    "## 7-3. Neural Turing Machines\n",
    "アルゴリズム学習のためのネットワーク設計は色々あるのですが、今回はそのうちでも（おそらく）一番最初に提案された**ニューラル・チューリングマシン(Neural Turing Machine, NTM)**と呼ばれるアーキテクチャを解説し、実際に作ってみます。元論文は [arXiv:1410.5401](https://arxiv.org/abs/1410.5401) でしたが、実際に実装すると安定した訓練をするのがかなり難しく、様々な実装例がネット上に数多く挙げられていましたが、安定したtensorflow公式認定の実装は提案から4年後（!）に書かれました。[arXiv:1807.08518](https://arxiv.org/abs/1807.08518) にそれまでの実装リポジトリURLと、tensorflow公式実装の要点がまとまっています。ここでは後者の論文を踏まえつつ、https://github.com/loudinthecloud/pytorch-ntm を参考に勉強のためオリジナル実装をしてみました。\n",
    "\n",
    "### 基本構造\n",
    "少しややこしい構造をしているので、まずは基本的な全体像を説明します。NTMの核となるアイデアは、リカレントニューラルネットワーク内部に特徴量ベクトルとしてimplicitに含まれているメモリの構造を強化することです。LSTMなどにもメモリベクトルはありましたが、あれはたった1つの多次元ベクトルの成分をメモリとして使い、読み出しや書き込みはすべてベクトルの演算で行っていました。NTMではメモリをベクトルではなく、行列として表現します：\n",
    "\n",
    "![alt](4.jpg)\n"
   ]
  },
  {
   "cell_type": "markdown",
   "metadata": {},
   "source": [
    "各時刻毎に、絵に描いたように「メモリから読み出し」と「メモリへの書き込み」をコントローラーが行います。コントローラーには（リカレント）ニューラルネットワークを用います。このメモリ周辺の処理を、よりアルゴリズム処理に適した形で設計してゆくことになります。鍵となるのは、**アテンション機構**です。一つ一つ見てゆきましょう。\n",
    "\n",
    "### メモリ構造\n",
    "メモリは、$M$次元ベクトルが$N$個並んだ構造をしています：\n",
    "\n",
    "![alt](5.jpg)\n",
    "\n",
    "このメモリに時刻毎の情報を読み出し、書き込んでゆきます。メモリ周辺の操作を説明すると同時に、関数として実装してゆきましょう。そのためにここでは暫定的にメモリを`numpy.array`として作っておきます：\n"
   ]
  },
  {
   "cell_type": "code",
   "execution_count": 3,
   "metadata": {
    "collapsed": false
   },
   "outputs": [
    {
     "data": {
      "text/plain": [
       "<tf.Tensor: shape=(1, 5, 3), dtype=float32, numpy=\n",
       "array([[[ 0.,  1.,  2.],\n",
       "        [ 3.,  4.,  5.],\n",
       "        [ 6.,  7.,  8.],\n",
       "        [ 9., 10., 11.],\n",
       "        [12., 13., 14.]]], dtype=float32)>"
      ]
     },
     "execution_count": 3,
     "metadata": {},
     "output_type": "execute_result"
    }
   ],
   "source": [
    "N, M = 5, 3\n",
    "Memory = tf.constant(np.arange(N*M).reshape(1, N, M), tf.float32)\n",
    "Memory"
   ]
  },
  {
   "cell_type": "markdown",
   "metadata": {},
   "source": [
    "### アテンション機構によるメモリの読み出し\n",
    "アテンション機構では、keyベクトル ${\\bf k}_i$、valueベクトル ${\\bf v}_i$、queryベクトル ${\\bf q}$ として、出力を\n",
    "\n",
    "$$\n",
    "{\\bf c} = \\sum_{i=1}^N \\sigma({\\bf q}, {\\bf k}_i) {\\bf v}_i\n",
    "$$\n",
    "\n",
    "とするのでした。この気持ちは、クエリ（要求）に合う鍵をに対応する値を返す辞書オブジェクトのようなもの、ということなのでした。この説明に乗っ取ると、NTMで、時刻$t$におけるメモリ読み出しは\n",
    "\n",
    "* keyベクトル${\\bf k}_i =$ 1時刻前のメモリ更新前の、i番目メモリベクトル ${\\bf M}_{t-2}(i)$\n",
    "* valueベクトル${\\bf v}_i = $ 1時刻前のメモリ更新後の、i番目メモリベクトル ${\\bf M}_{t-1}(i)$\n",
    "* queryベクトル${\\bf q} =$1時刻前の読み出しベクトル ${\\bf r}_{t-2}$ と 1時刻前の入力ベクトル ${\\bf x}_{t-1}$ をまとめたもの：$[{\\bf r}_{t-2}, {\\bf x}_{t-1}]$\n",
    "\n",
    "となります。\n",
    "> [arXiv:1410.5401](https://arxiv.org/abs/1410.5401) でもkeyベクトルが出てきますが、論文のkeyベクトルとここでのkeyベクトルは違うものを指すので注意です。辞書オブジェクトの観点でいうと論文のkeyベクトルは、どちらかと言うとqueryと呼ぶべきですから、ここでは後者の気持ちで説明しています。混乱してしまったらすいません。\n",
    "\n",
    "メモリからの読み込みは従って、\n",
    "\n",
    "$$\n",
    "{\\bf r}_{t-1} = \\sum_{i=1}^N \\underbrace{\\sigma_{t-1}\\Big([{\\bf r}_{t-2}, {\\bf x}_{t-1}], {\\bf M}_{t-2}(i)\\Big)}_{=:w_{t-1}(i)} {\\bf M}_{t-1}(i)\n",
    "$$\n",
    "\n",
    "と書けます（もしコントローラーにもリカレントニューラルネットワークを使う場合、その時刻までのすべての入力と読み込みベクトルにも依存します）論文では時刻$t$でのアテンションの重みを $w_t(i)$ と読んでいます。\n",
    "\n",
    "![alt](6.jpg)\n",
    "\n",
    "従って、実装はメモリのスロット方向に対する重み付き和になります。\n",
    "\n",
    "\n",
    "\n"
   ]
  },
  {
   "cell_type": "code",
   "execution_count": 4,
   "metadata": {
    "collapsed": false
   },
   "outputs": [
    {
     "name": "stdout",
     "output_type": "stream",
     "text": [
      "Memory\n",
      " tf.Tensor(\n",
      "[[[ 0.  1.  2.]\n",
      "  [ 3.  4.  5.]\n",
      "  [ 6.  7.  8.]\n",
      "  [ 9. 10. 11.]\n",
      "  [12. 13. 14.]]], shape=(1, 5, 3), dtype=float32)\n",
      "w\n",
      " tf.Tensor(\n",
      "[[[0.]\n",
      "  [0.]\n",
      "  [0.]\n",
      "  [1.]\n",
      "  [0.]]], shape=(1, 5, 1), dtype=float32)\n",
      "r\n",
      " tf.Tensor([[ 9. 10. 11.]], shape=(1, 3), dtype=float32)\n"
     ]
    }
   ],
   "source": [
    "def read(w, Memory):\n",
    "    ''' equation (2) in the paper\n",
    "        w.shape = (batch_size, N, 1) \n",
    "   Memory.shape = (batch_size, N, M)'''\n",
    "    return tf.math.reduce_sum(w*Memory, axis=1) # (batch_size, M)\n",
    "\n",
    "nonzero_slot = np.random.randint(N)\n",
    "w = tf.constant((np.identity(N)[nonzero_slot]).reshape(1, N, 1), tf.float32)\n",
    "\n",
    "print(\"Memory\\n\", Memory)\n",
    "print(\"w\\n\", w)\n",
    "print(\"r\\n\", read(w, Memory))"
   ]
  },
  {
   "cell_type": "markdown",
   "metadata": {},
   "source": [
    "### メモリへの書き込み\n",
    "次に時刻$t$のアテンション重み $\\sigma_t([{\\bf r}_{t-1}, {\\bf x}_t], {\\bf M}_{t-1}(i)) = w_t(i)$ が与えられたとして、これに基づいて時刻$t$でのメモリ状態 ${\\bf M}_t$ をどのように決めるかですが、重みに加えて、コントローラーネットワークの出力として\n",
    "* 時刻$t$でのメモリ消去ベクトル ${\\bf e}_t$\n",
    "* 時刻$t$でのメモリ書込ベクトル ${\\bf a}_t$\n",
    "\n",
    "が与えられるとします（これらについては後述しますが、ここで必要な情報は、${\\bf M}(i)$ と同じ $M$次元ベクトル）この状態で、メモリ更新は\n",
    "\n",
    "$$\n",
    "{\\bf M}_t (i) = \\underbrace{{\\bf M}_{t-1}(i) * ({\\bf 1} - w_t(i){\\bf e}_t)}_\\text{memory erasing} + \\underbrace{w_t(i) {\\bf a}_t}_\\text{overwriting}\n",
    "$$\n",
    "\n",
    "だとします。ここで ${\\bf 1}$ は全成分が1のベクトルです。\n",
    "\n",
    "![alt](7.jpg)\n",
    "\n",
    "#### 1. メモリ消去\n"
   ]
  },
  {
   "cell_type": "code",
   "execution_count": 5,
   "metadata": {
    "collapsed": false
   },
   "outputs": [
    {
     "name": "stdout",
     "output_type": "stream",
     "text": [
      "Memory\n",
      " tf.Tensor(\n",
      "[[[ 0.  1.  2.]\n",
      "  [ 3.  4.  5.]\n",
      "  [ 6.  7.  8.]\n",
      "  [ 9. 10. 11.]\n",
      "  [12. 13. 14.]]], shape=(1, 5, 3), dtype=float32)\n",
      "w\n",
      " tf.Tensor(\n",
      "[[[0.]\n",
      "  [0.]\n",
      "  [1.]\n",
      "  [0.]\n",
      "  [0.]]], shape=(1, 5, 1), dtype=float32)\n",
      "e\n",
      " tf.Tensor([[[1. 1. 1.]]], shape=(1, 1, 3), dtype=float32)\n",
      "Erased memory\n",
      " tf.Tensor(\n",
      "[[[ 0.  1.  2.]\n",
      "  [ 3.  4.  5.]\n",
      "  [ 0.  0.  0.]\n",
      "  [ 9. 10. 11.]\n",
      "  [12. 13. 14.]]], shape=(1, 5, 3), dtype=float32)\n"
     ]
    }
   ],
   "source": [
    "def get_erased_memory(w, Memory, e):\n",
    "    ''' equation (3) in the paper\n",
    "        w.shape = (batch_size, N, 1) \n",
    "   Memory.shape = (batch_size, N, M)\n",
    "        e.shape = (batch_size, 1, M)'''\n",
    "    erased_memory_slot = w*e        # (batch_size, N, M)\n",
    "    return Memory*(1-erased_memory_slot) # (batch_size, N, M)\n",
    "\n",
    "nonzero_slot = np.random.randint(N)\n",
    "w = tf.constant((np.identity(N)[nonzero_slot]).reshape(1, N, 1), tf.float32)\n",
    "e = tf.ones(shape=(1, 1, M))\n",
    "Memory_erased = get_erased_memory(w, Memory, e)\n",
    "\n",
    "print(\"Memory\\n\", Memory)\n",
    "print(\"w\\n\", w)\n",
    "print(\"e\\n\", e)\n",
    "print(\"Erased memory\\n\", Memory_erased)"
   ]
  },
  {
   "cell_type": "markdown",
   "metadata": {},
   "source": [
    "#### 2. メモリ加筆"
   ]
  },
  {
   "cell_type": "code",
   "execution_count": 6,
   "metadata": {
    "collapsed": false
   },
   "outputs": [
    {
     "name": "stdout",
     "output_type": "stream",
     "text": [
      "a\n",
      " tf.Tensor([[[-1. -1. -1.]]], shape=(1, 1, 3), dtype=float32)\n",
      "Overwritten memory\n",
      " tf.Tensor(\n",
      "[[[ 0.  1.  2.]\n",
      "  [ 3.  4.  5.]\n",
      "  [-1. -1. -1.]\n",
      "  [ 9. 10. 11.]\n",
      "  [12. 13. 14.]]], shape=(1, 5, 3), dtype=float32)\n"
     ]
    }
   ],
   "source": [
    "def get_overwritten_memory(w, Memory, a):\n",
    "    ''' equation (4) in the paper\n",
    "        w.shape = (batch_size, N, 1) \n",
    "   Memory.shape = (batch_size, N, M)\n",
    "        a.shape = (batch_size, 1, M)'''\n",
    "    return Memory + w*a # (batch_size, N, M)\n",
    "\n",
    "a = -1*tf.ones(shape=(1, 1, M))\n",
    "print(\"a\\n\", a)\n",
    "print(\"Overwritten memory\\n\", get_overwritten_memory(w, Memory_erased, a))"
   ]
  },
  {
   "cell_type": "markdown",
   "metadata": {},
   "source": [
    "#### 3. 合算\n",
    "これらを組み合わせて、メモリの上書きとします"
   ]
  },
  {
   "cell_type": "code",
   "execution_count": 7,
   "metadata": {
    "collapsed": false
   },
   "outputs": [
    {
     "name": "stdout",
     "output_type": "stream",
     "text": [
      "Memory\n",
      " tf.Tensor(\n",
      "[[[ 0.  1.  2.]\n",
      "  [ 3.  4.  5.]\n",
      "  [ 6.  7.  8.]\n",
      "  [ 9. 10. 11.]\n",
      "  [12. 13. 14.]]], shape=(1, 5, 3), dtype=float32)\n",
      "Overwritten memory\n",
      " tf.Tensor(\n",
      "[[[ 0.  1.  2.]\n",
      "  [ 3.  4.  5.]\n",
      "  [-1. -1. -1.]\n",
      "  [ 9. 10. 11.]\n",
      "  [12. 13. 14.]]], shape=(1, 5, 3), dtype=float32)\n"
     ]
    }
   ],
   "source": [
    "def write(w, Memory, e, a):\n",
    "    return Memory*(1-tf.linalg.matmul(w, e)) + tf.linalg.matmul(w, a)  # (batch_size, N, M)\n",
    "\n",
    "print(\"Memory\\n\", Memory)\n",
    "wMemory = write(w, Memory, e, a)\n",
    "print(\"Overwritten memory\\n\", wMemory)"
   ]
  },
  {
   "cell_type": "markdown",
   "metadata": {},
   "source": [
    "### アテンション重み更新\n",
    "メモリの操作だけでなく、それに使うHead部分に相当するアテンション重みも更新します。この部分はややこしいですが、重要です。\n",
    "\n",
    "![alt](8.jpg)\n"
   ]
  },
  {
   "cell_type": "markdown",
   "metadata": {},
   "source": [
    "アテンション重み更新は4ステップ：\n",
    "1. Content adressing\n",
    "2. Interpolation\n",
    "3. Convolutional\n",
    "4. Sharping\n",
    "\n",
    "から構成されます。一つずつ説明します。\n",
    "\n",
    "#### 1. Content adressing\n",
    "まずは、アテンション機構におけるqueryの役割を果たすのが、論文におけるkeyベクトル ${\\bf k}_t$($M$次元ベクトル) です。これはコントローラーネットワークの出力の一つとして得られます。この出力と、それぞれのメモリベクトル ${\\bf M}(i)$ との**コサイン類似度**\n",
    "\n",
    "$$\n",
    "K(i) = K({\\bf k}_t, {\\bf M}(i))=\n",
    "\\frac{{\\bf k}_t \\cdot {\\bf M}(i)}{|| {\\bf k}_t || \\cdot || {\\bf M}(i) ||}\n",
    "$$\n",
    "\n",
    "を計算します。これはベクトルとしてどれくらい向きが揃っているかを測るもので、丁度２つのベクトルの間のなす角度$\\theta$とすると、$\\cos \\theta$ に対応するものです。この類似度と、コントローラーネットワーク出力の一つ、$\\beta_t$(スカラー)を用いて、content重み\n",
    "\n",
    "$$\n",
    "w^c_t(i) = \\frac{e^{\\beta_t K(i)}}{\\sum_{j=1}^M e^{\\beta_t K(j)}} = \\text{softmax}(\\beta_t K(i))\n",
    "$$\n",
    "\n",
    "を計算します。"
   ]
  },
  {
   "cell_type": "code",
   "execution_count": 8,
   "metadata": {
    "collapsed": false,
    "scrolled": true
   },
   "outputs": [
    {
     "name": "stdout",
     "output_type": "stream",
     "text": [
      "a\n",
      " tf.Tensor([[[-1. -1. -1.]]], shape=(1, 1, 3), dtype=float32)\n",
      "beta\n",
      " tf.Tensor([[[7.5851545]]], shape=(1, 1, 1), dtype=float32)\n",
      "wc\n",
      " tf.Tensor(\n",
      "[[[1.4266406e-06]\n",
      "  [3.0082211e-07]\n",
      "  [9.9999785e-01]\n",
      "  [2.6464519e-07]\n",
      "  [2.6194715e-07]]], shape=(1, 5, 1), dtype=float32)\n"
     ]
    }
   ],
   "source": [
    "def cosine_similarity(Memory, k, epsilon=10**(-4)):\n",
    "    ''' equation (6) in the paper\n",
    "   Memory.shape = (batch_size, N, M)\n",
    "        k.shape = (batch_size, 1, M) '''\n",
    "    k_dot_Memory = tf.math.reduce_sum(k*Memory, axis=2, keepdims=True) # (batch_size, N, 1)\n",
    "    abs_k        = tf.norm(k, axis=2, keepdims=True)                   # (batch_size, 1, 1)\n",
    "    abs_Memory   = tf.norm(Memory, axis=2, keepdims=True)              # (batch_size, N, 1)\n",
    "    return k_dot_Memory/(abs_k*abs_Memory+epsilon)                     # (batch_size, N, 1)\n",
    "\n",
    "def focusing_by_context(Memory, k, beta):\n",
    "    ''' equation (5) in the paper\n",
    "   Memory.shape = (batch_size, N, M)\n",
    "        k.shape = (batch_size, 1, M) \n",
    "        b.shape = (batch_size, 1, 1)'''\n",
    "    logits = beta*cosine_similarity(Memory, k)  # (batch_size, N, 1)\n",
    "    wc = tf.nn.softmax(logits, axis=1)          # (batch_size, N, 1)\n",
    "    return wc                                   # (batch_size, N, 1)\n",
    "\n",
    "k = -1*tf.ones(shape=(1, 1, M))\n",
    "print(\"a\\n\", k)\n",
    "beta = tf.random.uniform(shape=(1,1,1), minval=0, maxval=10)\n",
    "print(\"beta\\n\", beta)\n",
    "wc = focusing_by_context(wMemory, k, beta)\n",
    "print(\"wc\\n\", wc)"
   ]
  },
  {
   "cell_type": "markdown",
   "metadata": {},
   "source": [
    "#### 2. Interpolation\n",
    "次に、更新前のアテンション重み $w_{t-1}(i)$ とcontent重み $w^c_t(i)$ をどれくらい混ぜるかを、やはりコントローラーネットワーク出力の一つ $g_t \\in [0, 1]$ (スカラー、確率値)を用いて\n",
    "\n",
    "$$\n",
    "w_t^g(i) = g_t w_t^c(i) + (1-g_t) w_{t-1}(i)\n",
    "$$\n",
    "\n",
    "とします。これは丁度、LSTMやGRUの内部に仕込まれていた**ゲート機構** を使って、重み更新を試みています。"
   ]
  },
  {
   "cell_type": "code",
   "execution_count": 9,
   "metadata": {
    "collapsed": false
   },
   "outputs": [
    {
     "name": "stdout",
     "output_type": "stream",
     "text": [
      "g\n",
      " tf.Tensor([[[0.8637495]]], shape=(1, 1, 1), dtype=float32)\n",
      "wg\n",
      " tf.Tensor(\n",
      "[[[1.2322600e-06]\n",
      "  [2.5983493e-07]\n",
      "  [9.9999815e-01]\n",
      "  [2.2858715e-07]\n",
      "  [2.2625672e-07]]], shape=(1, 5, 1), dtype=float32)\n"
     ]
    }
   ],
   "source": [
    "def interpolation(wc, w, g):\n",
    "    ''' equation (7) in the paper\n",
    "       wc.shape = (batch_size, N, 1) \n",
    "        w.shape = (batch_size, N, 1)\n",
    "        g.shape = (batch_size, 1, 1)'''\n",
    "    #print(\"interpolation\", g*wc + (1-g)*w  )\n",
    "    return g*wc + (1-g)*w               # (batch_size, N, 1)\n",
    "\n",
    "g =  tf.random.uniform(shape=(1,1,1), minval=0, maxval=1)\n",
    "print(\"g\\n\", g)\n",
    "wg = interpolation(wc, w, g)\n",
    "print(\"wg\\n\", wg)"
   ]
  },
  {
   "cell_type": "markdown",
   "metadata": {},
   "source": [
    "#### 3. Convolutional\n",
    "ここまでで、うまくいっていれば $w_t^g(i)$ と $w_{t-1}(i)$ の値が大きい部分は同じ $i$ を持ってしまっているはずです。このまま $w_t^g(i)$ を次の時刻の重みとしてしまうと、せっかくメモリスロットをたくさん用意したのに、そのうちの一つのスロットのベクトルを用いたメモリ操作をすることになってしまい、メモリを管理するという意味でLSTMやGRUからの改善がありません。そこで、$w_t^g(i)$ のピークのメモリスロット $i$ を自動的にシフトするメカニズムがこの3. Convolutionalです。具体的にはコントローラーネットワークからの出力$s_t(i)$（$f$変数確率値、$\\sum_{i=1}^f s_t(i) = 1$）があるとして、これをフィルターと思った $i$ 方向への1次元（周期境界条件）周期畳み込み演算\n",
    "\n",
    "$$\n",
    "\\tilde{w}_t (i) =\n",
    "\\sum_{j=1}^N w_t^g (j)  s_t(i-j)\n",
    "$$\n",
    "\n",
    "をします。\n",
    "> 1次元畳み込み演算がtensorflowのAPIで使えますが、これはミニバッチのデータ毎に同じフィルターを用いてしまいます。ここでやりたいのは、各データごとに、そのデータに依存して異なる $s_t(i)$ を使った1次元畳み込みです。ここでは2次元畳み込みでチャネル合算をしない処理の`tf.nn.depthwise_conv2d`を使ったトリッキーな実装をしてみました。（**フィルターサイズfは奇数である必要があります**） これでミニバッチ学習が可能となりますが、ミニバッチサイズを1にして良いのであれば、通常の`conv1d`による処理でも良いと思います。\n",
    "\n"
   ]
  },
  {
   "cell_type": "code",
   "execution_count": 10,
   "metadata": {
    "collapsed": false
   },
   "outputs": [
    {
     "name": "stdout",
     "output_type": "stream",
     "text": [
      "s\n",
      " tf.Tensor(\n",
      "[[[1.]\n",
      "  [0.]\n",
      "  [0.]]], shape=(1, 3, 1), dtype=float32)\n",
      "\tilde{w}\n",
      " tf.Tensor(\n",
      "[[[2.2625672e-07]\n",
      "  [1.2322600e-06]\n",
      "  [2.5983493e-07]\n",
      "  [9.9999815e-01]\n",
      "  [2.2858715e-07]]], shape=(1, 5, 1), dtype=float32)\n"
     ]
    }
   ],
   "source": [
    "def batchwise_circular_conv1d(w, s):\n",
    "    ''' 1d circular convolution with stride 1\n",
    "        batch-wiseness is implemented by a trick: regarding channels as batchs and tf.nn.depthwise_conv2d.\n",
    "        w.shape = (batch_size, N, 1)\n",
    "        s.shape = (batch_size, filtersize, 1)\n",
    "        w -> [w[:-filtersize], w, w[N-filtersize:]] -> batchwise conv1d \n",
    "        '''\n",
    "    _, N, _ = w.shape\n",
    "    _, f, _ = s.shape\n",
    "    shift = f//2  # f should be odd\n",
    "    w3 = tf.concat([w[:,-shift:,:], w, w[:,:shift,:]], axis=1)\n",
    "    w3 = tf.expand_dims(w3, 1)\n",
    "    w3 = tf.transpose(w3, perm=[1,3,2,0])           # (1, 1, N+2f, batch_size) = (N, H, W, C)  batchsize ~ channel size\n",
    "    s  = tf.expand_dims(s, 1)                       # (batch_size, 1, f, 1)\n",
    "    s  = tf.transpose(s , perm=[1,2,0,3])           # (1, f, batchsize, 1) = (H, W, C, 1)    batchsize ~ channel size\n",
    "    out = tf.nn.depthwise_conv2d(w3, s, strides= [1, 1, 1, 1], padding='VALID') # (1, 1, N, batch_size)\n",
    "    return tf.transpose(out[0], perm=[2,1,0]) # (batch_size, N, 1)\n",
    "\n",
    "def shift(w, s):\n",
    "    ''' equation (8) in the paper\n",
    "        w.shape = (batch_size, N, 1)\n",
    "        s.shape = (batch_size, N, 1)'''\n",
    "    return batchwise_circular_conv1d(w, s)\n",
    "\n",
    "s = tf.constant(np.array([1,0,0]).reshape(1, 3, 1).astype(np.float), tf.float32)\n",
    "print(\"s\\n\", s)\n",
    "wtilde = shift(wg, s)\n",
    "print(\"\\tilde{w}\\n\", wtilde)"
   ]
  },
  {
   "cell_type": "markdown",
   "metadata": {},
   "source": [
    "sのピークが何処にあるかによって、wgのピークがずらされる効果があるのがわかります。\n",
    "\n",
    "#### 4. Sharping\n",
    "最後に、ここまでの処理で生じたノイズなどを削減するために $\\tilde{w}_t$ をよりシャープにすることを考えます。コントローラーネットワーク出力 $\\gamma_t \\geq 1$ として\n",
    "\n",
    "$$\n",
    "w_t(i) =\n",
    "\\frac{ \\Big(  \\tilde{w}_t (i)  \\Big)^{\\gamma_t} }{ \\sum_{j=1}^N \\Big(   \\tilde{w}_t (j) \\Big)^{\\gamma_t} }\n",
    "$$\n",
    "\n",
    "を最終的なアテンション重みの更新とします。"
   ]
  },
  {
   "cell_type": "code",
   "execution_count": 13,
   "metadata": {
    "collapsed": false
   },
   "outputs": [
    {
     "name": "stdout",
     "output_type": "stream",
     "text": [
      "gamma\n",
      " tf.Tensor([[[10.2631235]]], shape=(1, 1, 1), dtype=float32)\n",
      "wnext\n",
      " tf.Tensor(\n",
      "[[[0.]\n",
      "  [0.]\n",
      "  [0.]\n",
      "  [1.]\n",
      "  [0.]]], shape=(1, 5, 1), dtype=float32)\n"
     ]
    }
   ],
   "source": [
    "def sharpen(w, gamma):\n",
    "    ''' equation (9) in the paper,  caution!! gamma must be > 1.\n",
    "        w.shape = (batch_size, N, 1)\n",
    "    gamma.shape = (batch_size, 1, 1)'''\n",
    "    w_ = tf.pow(w, gamma)\n",
    "    return w_/(tf.math.reduce_sum(w_, axis=1, keepdims=True)) # (batch_size, N, 1)\n",
    "\n",
    "gamma = 1+tf.random.uniform(shape=(1,1,1), minval=0, maxval=10)\n",
    "print(\"gamma\\n\", gamma)\n",
    "wnext = sharpen(wtilde, gamma)\n",
    "print(\"wnext\\n\", wnext)"
   ]
  },
  {
   "cell_type": "markdown",
   "metadata": {},
   "source": [
    "ここまでの処理を全て一つの関数にしてしまいます："
   ]
  },
  {
   "cell_type": "code",
   "execution_count": 14,
   "metadata": {
    "collapsed": false
   },
   "outputs": [
    {
     "name": "stdout",
     "output_type": "stream",
     "text": [
      "wbefore \n",
      " tf.Tensor(\n",
      "[[[0.]\n",
      "  [0.]\n",
      "  [1.]\n",
      "  [0.]\n",
      "  [0.]]], shape=(1, 5, 1), dtype=float32)\n",
      "wnext \n",
      " tf.Tensor(\n",
      "[[[0.]\n",
      "  [0.]\n",
      "  [0.]\n",
      "  [1.]\n",
      "  [0.]]], shape=(1, 5, 1), dtype=float32)\n"
     ]
    }
   ],
   "source": [
    "def update_weight(w, Memory, k, beta, g, s, gamma):\n",
    "    ''' \n",
    "        w.shape = (batch_size, N, 1) \n",
    "   Memory.shape = (batch_size, N, M)\n",
    "        k.shape = (batch_size, 1, M) \n",
    "        b.shape = (batch_size, 1, 1)\n",
    "        g.shape = (batch_size, 1, 1)\n",
    "        s.shape = (batch_size, N, 1)\n",
    "    gamma.shape = (batch_size, 1, 1)'''\n",
    "    wc = focusing_by_context(Memory, k, beta)\n",
    "    w = interpolation(wc, w, g)\n",
    "    w = shift(w, s)\n",
    "    w = sharpen(w, gamma)\n",
    "    return w # (batch_size, N, 1)\n",
    "\n",
    "print(\"wbefore \\n\", w)\n",
    "print(\"wnext \\n\", update_weight(w, wMemory, k, beta, g, s, gamma))"
   ]
  },
  {
   "cell_type": "markdown",
   "metadata": {},
   "source": [
    "こんな感じで、上手く行けばアテンション重みが順番にシフトして、うまくいけばメモリのアドレス振り分けを上手く学習してくれるわけです。\n",
    "\n",
    "### Heads\n",
    "Head には読み込みヘッドと書き込みヘッドの二種類を用意します。両者で共通する性質は、アテンション重み更新用の\n",
    "*  ${\\bf k}_t$, $\\beta_t$, $g_t$, $s_t(i)$, $\\gamma_t$ 出力を持っている\n",
    "\n",
    "ことです。\n",
    "#### Read head\n",
    "読み込みヘッドは単純な一層ニューラルネットワークで実装します。活性化関数の選び方には任意性がありますが、例えば $g_t$ は確率値でなくてはならないので、sigmoid関数を適用したり、全く自由というわけでもないです。ここでは $\\beta_t, \\gamma_t$ にsoftplus関数を使う実装にしました。また $\\gamma_t \\geq 1$ でないと役に立たないので、活性後+1をしています。\n",
    "\n",
    "![alt](11.jpg)\n",
    "\n"
   ]
  },
  {
   "cell_type": "code",
   "execution_count": 15,
   "metadata": {
    "collapsed": true
   },
   "outputs": [],
   "source": [
    "from tensorflow.keras.activations import tanh, softplus, sigmoid, softmax\n",
    "\n",
    "class ReadHead(tf.keras.layers.Layer):\n",
    "    ''' head = ReadHead(dim_Memory, shift_range)\n",
    "        k, beta, g, s, gamma = head(x) \n",
    "\n",
    "        k.shape = (batch_size, 1, dim_Memory) \n",
    "     beta.shape = (batch_size, 1, 1)\n",
    "        g.shape = (batch_size, 1, 1)\n",
    "        s.shape = (batch_size, 2*shift_range+1, 1)\n",
    "    gamma.shape = (batch_size, 1, 1)\n",
    "        '''\n",
    "    def __init__(self, dim_Memory, shift_range):\n",
    "        super(ReadHead, self).__init__()\n",
    "        self.M = dim_Memory\n",
    "        self.Ds = 2*shift_range+1\n",
    "\n",
    "    def build(self, input_shape):\n",
    "        self.W_read = tf.keras.layers.Dense(self.M + 2 + self.Ds +1, \n",
    "                                       kernel_initializer='glorot_normal', bias_initializer='normal',\n",
    "                                       name='read_params')\n",
    "        super(ReadHead, self).build(input_shape[-1])\n",
    "        self.build = True\n",
    "\n",
    "    def call(self, x, nonliniarity=tf.identity):\n",
    "        ''' 'k':(batch_size, 1, self.M), 'beta':(batch_size,1,1), 'g':(batch_size,1,1), 's_r':(batch_size,self.Ds_r,1), 's_w':(batch_size,self.Ds_w,1), 'gamma':(batch_size,1,1), '''\n",
    "        output = self.W_read(x)\n",
    "        k     = tf.expand_dims(nonliniarity(output[:,               : self.M          ]), axis=1) # (batchsize, 1, M) \n",
    "        beta  = tf.expand_dims(softplus(output[:,  self.M           : self.M+1        ]), axis=2) # (batchsize, 1, 1) \n",
    "        g     = tf.expand_dims(sigmoid(output[:,   self.M+1         : self.M+2        ]), axis=2) # (batchsize, 1, 1) \n",
    "        s     = tf.expand_dims(softmax(output[:,   self.M+2         : self.M+2+self.Ds]), axis=2) # (batchsize, Ds, 1) \n",
    "        gamma = tf.expand_dims(softplus(output[:,  self.M+2+self.Ds : self.M+3+self.Ds]), axis=2) # (batchsize, 1, 1) \n",
    "        gamma += 1\n",
    "        return k, beta, g, s, gamma"
   ]
  },
  {
   "cell_type": "markdown",
   "metadata": {},
   "source": [
    "#### Write head\n",
    "書き込みヘッドも一層ニューラルネットワークで作ります。\n",
    "\n",
    "![alt](12.jpg)"
   ]
  },
  {
   "cell_type": "code",
   "execution_count": 16,
   "metadata": {
    "collapsed": true
   },
   "outputs": [],
   "source": [
    "class WriteHead(tf.keras.layers.Layer):\n",
    "    ''' head = WhiteHead(dim_Memory, shift_range)\n",
    "        k, beta, g, s, gamma, e, a = head(h) \n",
    "\n",
    "        k.shape = (batch_size, 1, dim_Memory) \n",
    "     beta.shape = (batch_size, 1, 1)\n",
    "        g.shape = (batch_size, 1, 1)\n",
    "        s.shape = (batch_size, 2*shift_range+1, 1)\n",
    "    gamma.shape = (batch_size, 1, 1)\n",
    "\n",
    "        e.shape = (batch_size, 1, dim_Memory)\n",
    "        a.shape = (batch_size, 1, dim_Memory)\n",
    "        '''\n",
    "    def __init__(self, dim_Memory, shift_range):\n",
    "        super(WriteHead, self).__init__()\n",
    "        self.M = dim_Memory\n",
    "        self.Ds= 2*shift_range+1\n",
    "\n",
    "    def build(self, input_shape):\n",
    "        self.W_write = tf.keras.layers.Dense(3*self.M + 2 + self.Ds +1,\n",
    "                                       kernel_initializer='glorot_normal', bias_initializer='normal',\n",
    "                                       name='write_params')\n",
    "        super(WriteHead, self).build(input_shape[-1])\n",
    "        self.build = True\n",
    "\n",
    "    def call(self, x, nonliniarity=tf.identity):\n",
    "        output = self.W_write(x)\n",
    "        k     = tf.expand_dims(nonliniarity(output[:,               : self.M          ]), axis=1) # (batchsize, 1, M) \n",
    "        beta  = tf.expand_dims(softplus(output[:,  self.M           : self.M+1        ]), axis=2) # (batchsize, 1, 1) \n",
    "        g     = tf.expand_dims(sigmoid(output[:,   self.M+1         : self.M+2        ]), axis=2) # (batchsize, 1, 1) \n",
    "        s     = tf.expand_dims(softmax(output[:,   self.M+2         : self.M+2+self.Ds]), axis=2) # (batchsize, Ds, 1) \n",
    "        gamma = tf.expand_dims(softplus(output[:,  self.M+2+self.Ds : self.M+3+self.Ds]), axis=2) # (batchsize, 1, 1) \n",
    "        gamma += 1\n",
    "        e     = tf.expand_dims(sigmoid(output[:,       self.M+3+self.Ds : 2*self.M+3+self.Ds]), axis=1) # (batchsize, 1, M) \n",
    "        a     = tf.expand_dims(nonliniarity(output[:,2*self.M+3+self.Ds : 3*self.M+3+self.Ds]), axis=1) # (batchsize, 1, M) \n",
    "        return k, beta, g, s, gamma, e, a"
   ]
  },
  {
   "cell_type": "markdown",
   "metadata": {},
   "source": [
    "### 全体像\n",
    "NTM は \n",
    "\n",
    "|パーツ|訓練|内部状態|\n",
    "|---|---|---|\n",
    "|コントローラーネットワーク|yes|-|\n",
    "|読み込みヘッドネットワーク|yes|-|\n",
    "|書き込みヘッドネットワーク|yes|-|\n",
    "|読み込み用アテンション|-|yes|\n",
    "|書き込み用アテンション|-|yes|\n",
    "|メモリ|-|yes|\n",
    "\n",
    "から成る、以下のようなリカレントニューラルネットワークです。\n",
    "\n",
    "![alt](9.jpg)\n",
    "\n",
    "1時刻あたりの処理は\n",
    "\n",
    "1. 前の時刻でメモリから読んだベクトル ${\\bf r}_{t-1}$ と現在の入力 ${\\bf x}_t$ を結合 $\\to$ コントローラー $\\to$ 出力 ${\\bf y}_t$ を得る\n",
    "2. コントローラーの出力 ${\\bf y}_t$ を各ヘッドの入力とし、その出力 ${\\bf k}_t, \\beta_t, g_t, s_t(i), \\gamma_t$ を用いて古いアテンション重みを新しいアテンション重みに更新する\n",
    "3. 読み込みの新しいアテンション重みを使ってメモリを読み、${\\bf r}_t$ を得る\n",
    "4. 書き込みの新しいアテンション重みと、書き込みヘッドの出力 ${\\bf e}_t, {\\bf a}_t$ を用いてメモリを更新する\n",
    "5. コントローラーの出力 ${\\bf y}_t$ と読んだメモリベクトル ${\\bf r}_t$ を結合して ${\\bf z}_t$ として出力する\n",
    "\n",
    "となります$^※$。\n",
    "\n",
    "> $^※$ 出力で ${\\bf r}_t$ を結合しなくてもいいですが、こうしたほうがメモリを介した誤差逆伝播が促進されると思われます。\n",
    "\n",
    "#### 今回の実装\n",
    "今回はコントローラーを `LSTM+Dense` で実装することにします。かなりややこしいですが、絵と比較しながら見てもらえればと思います。\n",
    "\n",
    "\n",
    "\n",
    "\n"
   ]
  },
  {
   "cell_type": "code",
   "execution_count": 17,
   "metadata": {
    "collapsed": false
   },
   "outputs": [],
   "source": [
    "class NTMCell(tf.keras.layers.Layer):\n",
    "    ''' read/write weight separating version '''\n",
    "    def __init__(self, N_memory, dim_Memory, units, shift_read, shift_write):\n",
    "        super(NTMCell, self).__init__()\n",
    "        self.N, self.M = N_memory, dim_Memory\n",
    "        self.controller= tf.keras.layers.LSTMCell(units) \n",
    "        self.readhead = ReadHead(dim_Memory=dim_Memory, shift_range=shift_read)\n",
    "        self.writehead = WriteHead(dim_Memory=dim_Memory, shift_range=shift_write)  \n",
    "        \n",
    "    def call(self, inputs, states):\n",
    "        r, read_attention, write_attention, Memory, h, c  = states[0], states[1], states[2], states[3], states[4], states[5]\n",
    "        # controller : inputs + r -> y, hc\n",
    "        x = tf.concat([inputs, r], axis=-1)\n",
    "        y, hc = self.controller(x, [h, c])\n",
    "        #  heads : y -> k~gamma (+ e a)\n",
    "        k_r, beta_r, g_r, s_r, gamma_r = self.readhead(y)\n",
    "        k_w, beta_w, g_w, s_w, gamma_w, e_w, a_w = self.writehead(y)  \n",
    "        # update attentions by k~gamma\n",
    "        read_attention_new  = update_weight(read_attention,  Memory, k_r, beta_r, g_r, s_r, gamma_r)\n",
    "        write_attention_new = update_weight(write_attention, Memory, k_w, beta_w, g_w, s_w, gamma_w)\n",
    "        # read memory\n",
    "        r_new = read(read_attention_new, Memory)\n",
    "        z = tf.concat([y, r_new], axis=-1)\n",
    "        # write memory\n",
    "        Memory_new = write(write_attention_new, Memory, e_w, a_w)\n",
    "        return z, [r_new, read_attention_new, write_attention_new, Memory_new, hc[0], hc[1]]    \n",
    "        \n",
    "    @property\n",
    "    def state_size(self):\n",
    "        return [self.M, tf.TensorShape([self.N, 1]), tf.TensorShape([self.N, 1]), tf.TensorShape([self.N, self.M]), self.controller.units, self.controller.units]\n",
    "    \n",
    "    def get_initial_state(self, inputs=None, batch_size=None, dtype=None):\n",
    "        value_0 = tf.random.normal(shape=(batch_size, self.M))*0.01\n",
    "        w_read_0 = tf.zeros(shape=(batch_size, self.N, 1))\n",
    "        w_write_0 = tf.zeros(shape=(batch_size, self.N, 1))\n",
    "        Memory_0 = tf.random.uniform(shape=(batch_size, self.N, self.M), minval=-1/np.sqrt(self.N + self.M), maxval=1/np.sqrt(self.N + self.M))\n",
    "        return [value_0, w_read_0, w_write_0, Memory_0] + self.controller.get_initial_state(inputs, batch_size, dtype)"
   ]
  },
  {
   "cell_type": "markdown",
   "metadata": {},
   "source": [
    "### NTMでアルゴリズム学習させてみる\n",
    "\n",
    "#### copyタスク\n",
    "上手く行かない場合もありますが、上手くいく場合はだいたい30000epochsくらいで**突然汎化します**。\n"
   ]
  },
  {
   "cell_type": "code",
   "execution_count": 24,
   "metadata": {
    "collapsed": false
   },
   "outputs": [
    {
     "name": "stdout",
     "output_type": "stream",
     "text": [
      "31500-epoch, model saved\n"
     ]
    },
    {
     "data": {
      "image/png": "[encoded data removed]",
      "text/plain": [
       "<Figure size 1008x432 with 6 Axes>"
      ]
     },
     "metadata": {},
     "output_type": "display_data"
    },
    {
     "name": "stdout",
     "output_type": "stream",
     "text": [
      "32000-epoch, model saved\n"
     ]
    },
    {
     "data": {
      "image/png": "[encoded data removed]",
      "text/plain": [
       "<Figure size 1008x432 with 6 Axes>"
      ]
     },
     "metadata": {},
     "output_type": "display_data"
    },
    {
     "name": "stdout",
     "output_type": "stream",
     "text": [
      "33000-epoch, model saved\n"
     ]
    },
    {
     "data": {
      "image/png": "[encoded data removed]",
      "text/plain": [
       "<Figure size 1008x432 with 6 Axes>"
      ]
     },
     "metadata": {},
     "output_type": "display_data"
    }
   ],
   "source": [
    "vec_dim, seq_length = 8, 20\n",
    "data_size, batch_size= 1, 1\n",
    "f = copy # reverse, sort is also implemented\n",
    "\n",
    "# NTM cell\n",
    "N, M = 128, 20\n",
    "cell = NTMCell(N_memory=N, dim_Memory=M, units=100, shift_read=1, shift_write=1)\n",
    "# models\n",
    "model = NaiveModel(vec_dim, cell, batch_size=batch_size)\n",
    "test_model = NaiveModel(vec_dim, cell, batch_size=1)\n",
    "# training\n",
    "train_various_seq(model, test_model, vec_dim, seq_length, f, data_size=data_size, \n",
    "                  epoch_size=60000, batch_size=batch_size, savepath='NTM_test_{}'.format(str(f).split(\" \")[1]))"
   ]
  },
  {
   "cell_type": "markdown",
   "metadata": {},
   "source": [
    "#### reverseタスク\n",
    "reverseは比較的早く汎化する傾向にある気がしました。最速で7000epochsで汎化しました。割愛。\n",
    "\n",
    "#### sortタスク\n",
    "sortは難しいのでうまくいきませんでしたが、訓練プロセスを見ると`copy`や`reverse`のように時系列のはじめと終わりを始めに覚えようとせず、各２進数の高次の桁から覚えようとしている様子が見て取れて面白かったので紹介します："
   ]
  },
  {
   "cell_type": "code",
   "execution_count": 19,
   "metadata": {
    "collapsed": false,
    "scrolled": false
   },
   "outputs": [
    {
     "name": "stdout",
     "output_type": "stream",
     "text": [
      "1500-epoch, model saved\n"
     ]
    },
    {
     "data": {
      "image/png": "[encoded data removed]",
      "text/plain": [
       "<Figure size 1008x432 with 6 Axes>"
      ]
     },
     "metadata": {},
     "output_type": "display_data"
    },
    {
     "name": "stdout",
     "output_type": "stream",
     "text": [
      "10000-epoch, model saved\n"
     ]
    },
    {
     "data": {
      "image/png": "[encoded data removed]",
      "text/plain": [
       "<Figure size 1008x432 with 6 Axes>"
      ]
     },
     "metadata": {},
     "output_type": "display_data"
    },
    {
     "name": "stdout",
     "output_type": "stream",
     "text": [
      "99000-epoch, model saved\n"
     ]
    },
    {
     "data": {
      "image/png": "[encoded data removed]",
      "text/plain": [
       "<Figure size 1008x432 with 6 Axes>"
      ]
     },
     "metadata": {},
     "output_type": "display_data"
    }
   ],
   "source": [
    "vec_dim, seq_length = 8, 20\n",
    "data_size, batch_size= 1, 1\n",
    "f = sort # reverse, sort is also implemented\n",
    "\n",
    "# NTM cell\n",
    "N, M = 128, 20\n",
    "cell = NTMCell(N_memory=N, dim_Memory=M, units=100, shift_read=N//2, shift_write=1)\n",
    "# models\n",
    "model = NaiveModel(vec_dim, cell, batch_size=batch_size)\n",
    "test_model = NaiveModel(vec_dim, cell, batch_size=1)\n",
    "# training\n",
    "train_various_seq(model, test_model, vec_dim, seq_length, f, data_size=data_size, \n",
    "                  epoch_size=100000, batch_size=batch_size, savepath='NTM_test_{}'.format(str(f).split(\" \")[1]))"
   ]
  },
  {
   "cell_type": "markdown",
   "metadata": {},
   "source": [
    "論文によると`sort`はヘッドの数を増やして、メモリ操作の統計を上げると上手くいくようです。任意数のヘッドにはここでは対応してませんが、書き換えることも可能かと思います。"
   ]
  },
  {
   "cell_type": "markdown",
   "metadata": {},
   "source": [
    "#### データより長い時系列でのアルゴリズム処理\n",
    "テストと同時に、メモリスロットの番号でどれが読まれているかも見ると、NTMがうまく動いているかモニターできて良いです。\n"
   ]
  },
  {
   "cell_type": "code",
   "execution_count": 20,
   "metadata": {
    "collapsed": false
   },
   "outputs": [
    {
     "data": {
      "image/png": "[encoded data removed]",
      "text/plain": [
       "<Figure size 1008x432 with 6 Axes>"
      ]
     },
     "metadata": {},
     "output_type": "display_data"
    },
    {
     "name": "stdout",
     "output_type": "stream",
     "text": [
      "encode w (r, w) : [(105, 101), (26, 100), (127, 101), (6, 102), (12, 103), (77, 104), (6, 105), (126, 106), (126, 107), (126, 108), (12, 109), (12, 110), (77, 111), (126, 112), (126, 113), (6, 114), (126, 115), (126, 116), (77, 117), (77, 118), (77, 119), (126, 120), (126, 121), (77, 122), (77, 123), (77, 124), (126, 125), (126, 126), (77, 127), (77, 0), (77, 1), (77, 2), (77, 3), (77, 4), (77, 5), (77, 6), (77, 7), (77, 8), (54, 9), (77, 10)]\n",
      "decode w (r, w): [(102, 11), (102, 10), (103, 9), (104, 9), (105, 9), (106, 77), (107, 44), (108, 59), (109, 89), (110, 55), (111, 102), (112, 50), (113, 89), (114, 101), (115, 59), (116, 76), (117, 101), (118, 48), (119, 10), (120, 102), (121, 121), (122, 101), (123, 100), (124, 10), (125, 121), (126, 121), (127, 1), (0, 101), (1, 76), (2, 88), (3, 10), (4, 10), (5, 1), (6, 100), (7, 100), (8, 10), (9, 10), (8, 10), (9, 10), (8, 9)]\n"
     ]
    }
   ],
   "source": [
    "f = copy\n",
    "test_model = NaiveModel(vec_dim, cell, batch_size=1)\n",
    "test_model.load_weights('NTM_test_{}'.format(str(f).split(\" \")[1]))\n",
    "X = tf.constant([random_X(seq_length+20, vec_dim)], dtype=tf.float32)\n",
    "test(X, test_model, f=f, given_seq_length=seq_length, bin=False, threshold=0.5, w=True, show=True)"
   ]
  },
  {
   "cell_type": "markdown",
   "metadata": {},
   "source": [
    "この`copy`の場合は、encode の際にメモリスロット `101, 100, 101, 102, 103, ...` と書き込み(w)にいっており、decodeの際 `102, 102, 103, 104, 105, ...` と読み込み(r)に行っているのがわかります。encodeの際に書き込んだ順に読みに行くというのは`copy`の実装にまさしく必要なことです。これはコピーするアルゴリズムをNTMが自身で**データだけ見て実装した** ということになります。"
   ]
  },
  {
   "cell_type": "markdown",
   "metadata": {},
   "source": [
    "### 関連する話題\n",
    "DeepMindによりNTMを更に洗練した**微分可能ニューラルコンピューター(Differentiable Neural Computer, DNC)** （[Graves, A., Wayne, G., Reynolds, M. et al.](https://www.nature.com/articles/nature20101)）が提案され、このアーキテクチャを使うとパズルや最短路線選択などのより複雑なアルゴリズム的タスクが解けるようになったとのことです。"
   ]
  }
 ],
 "metadata": {
  "kernelspec": {
   "display_name": "Python 3",
   "language": "python",
   "name": "python3"
  },
  "language_info": {
   "codemirror_mode": {
    "name": "ipython",
    "version": 3
   },
   "file_extension": ".py",
   "mimetype": "text/x-python",
   "name": "python",
   "nbconvert_exporter": "python",
   "pygments_lexer": "ipython3",
   "version": "3.6.0"
  }
 },
 "nbformat": 4,
 "nbformat_minor": 2
}

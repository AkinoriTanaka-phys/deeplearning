{
 "cells": [
  {
   "cell_type": "code",
   "execution_count": 1,
   "metadata": {
    "collapsed": true
   },
   "outputs": [],
   "source": [
    "import numpy as np\n",
    "import matplotlib.pyplot as plt\n",
    "import matplotlib.collections as mc\n",
    "import copy\n",
    "\n",
    "action2vect = {0: np.array([0, -1]),\n",
    "               1: np.array([0, +1]),\n",
    "               2: np.array([-1, 0]),\n",
    "               3: np.array([+1, 0])\n",
    "               }\n",
    "\n",
    "a2m = {0:'up', 1:'down', 2:'left', 3:'right'}\n",
    "\n",
    "def random_initialize(Maze, threshold):\n",
    "    x = np.random.randn(Maze.lx*Maze.ly).reshape(Maze.lx, Maze.ly)\n",
    "    y = (x < threshold)*(x > -threshold)\n",
    "    Maze.tile = y\n",
    "    Maze.load_tile()\n",
    "    \n",
    "    floor_labels = np.arange(len(Maze.floors))\n",
    "    start_floor_label = np.random.choice(floor_labels)\n",
    "    goal_floor_label = np.random.choice(floor_labels)\n",
    "    Maze.goal = Maze.floors[goal_floor_label].tolist()\n",
    "    return Maze\n",
    "        \n",
    "class MazeEnv():\n",
    "    def __init__(self, lx, ly, threshold=0.9, figsize=5, const=0):\n",
    "        self.lx, self.ly = lx, ly\n",
    "        \n",
    "        self = random_initialize(self, threshold)\n",
    "        self.reset()\n",
    "        \n",
    "        self.action_space = [0,1,2,3]\n",
    "        self.status = 'Initialized'\n",
    "        self.figsize = figsize\n",
    "\n",
    "        self.reward_const = const\n",
    "        self.reward_goal = 1\n",
    "        self.reward_usual = 0\n",
    "    def reset(self, coordinate=[None, None]):\n",
    "        \"\"\"\n",
    "        put the agent at certain coordinate randomly.\n",
    "        \"\"\"\n",
    "        floor_labels = np.arange(len(self.floors))\n",
    "        start_floor_label = np.random.choice(floor_labels)\n",
    "        self.state = self.floors[start_floor_label]\n",
    "        self.status = 'Reset'\n",
    "        self.t = 0\n",
    "        return self.get_state()\n",
    "        \n",
    "    def is_solved(self):\n",
    "        return self.goal==self.state.tolist()\n",
    "    \n",
    "    def get_state(self):\n",
    "        return copy.deepcopy(self.state)#\n",
    "            \n",
    "    def get_next_state(self, state, action):\n",
    "        add_vector_np = action2vect[action]\n",
    "        if (state+add_vector_np).tolist() in self.floors.tolist():\n",
    "            next_state = state+add_vector_np\n",
    "            self.status = 'Moved'\n",
    "        else:\n",
    "            next_state = state\n",
    "            self.status = 'Move failed'\n",
    "        self.t += 1\n",
    "        return next_state\n",
    "    \n",
    "    def get_reward(self, state, action, state_p):\n",
    "        if state_p.tolist()==self.goal:\n",
    "            reward = self.reward_goal\n",
    "        elif False:\n",
    "            reward = 0.1\n",
    "        else:\n",
    "            reward = self.reward_usual\n",
    "        return reward + self.reward_const\n",
    "    \n",
    "    def step(self, action):\n",
    "        state = self.get_state()\n",
    "        next_state = self.get_next_state(state, action)\n",
    "        reward = self.get_reward(state, action, next_state)\n",
    "        self.state = next_state\n",
    "        return self.get_state(), reward, self.is_solved(), {}\n",
    "        \n",
    "    def load_tile(self):\n",
    "        self.floors = np.array(list(np.where(self.tile==True))).T # (#white tiles, 2), 2 means (x,y) coordinate\n",
    "        self.holes = np.array(list(np.where(self.tile==True))).T # (#black tiles, 2)\n",
    "    \n",
    "    def render_tile(self, ax, cmap='gray'):\n",
    "        ax.imshow(self.tile.T, interpolation=\"none\", cmap=cmap, vmin=0, vmax=1)\n",
    "        return ax\n",
    "    \n",
    "    def render_arrows(self, ax, values_table):\n",
    "        lx, ly, _ = values_table.shape\n",
    "        vmins = np.min(values_table, axis=2).reshape(lx, ly, 1)\n",
    "        offset = - vmins\n",
    "        vnoed = values_table*self.tile.reshape(lx, ly, 1) + offset \n",
    "        vnoed_maxs = np.max(vnoed, axis=2).reshape(lx, ly, 1)\n",
    "        vt = np.transpose(vnoed/(vnoed_maxs), (1,0,2))\n",
    "        width = 0.5\n",
    "        X, Y= np.meshgrid(np.arange(0, lx, 1), np.arange(0, ly, 1))\n",
    "        ones = .5*np.ones(lx*ly).reshape(lx, ly)\n",
    "        zeros= np.zeros(lx*ly).reshape(lx, ly)\n",
    "        ax.quiver(X, Y, zeros, ones, vt[:,:,0], alpha=0.8, cmap='Reds', scale_units='xy', scale=1) # up\n",
    "        ax.quiver(X, Y, zeros, -ones, vt[:,:,1], alpha=0.8, cmap='Reds', scale_units='xy', scale=1)# down\n",
    "        ax.quiver(X, Y, -ones, zeros, vt[:,:,2], alpha=0.8, cmap='Reds', scale_units='xy', scale=1)# left\n",
    "        ax.quiver(X, Y, ones, zeros, vt[:,:,3], alpha=0.8, cmap='Reds', scale_units='xy', scale=1) # right\n",
    "        return ax\n",
    "        \n",
    "    def render(self, fig=None, ax=None, lines=None, values_table=None, canvas=False):\n",
    "        if ax is None:\n",
    "            fig = plt.figure(figsize=(self.figsize, self.figsize))\n",
    "            ax = fig.add_subplot(111)\n",
    "            ax.set_xlabel('x'); ax.set_ylabel('y')\n",
    "        ax = self.render_tile(ax)\n",
    "        if values_table is not None:\n",
    "            ax = self.render_arrows(ax, values_table)\n",
    "        if self.goal is not None:\n",
    "            ax.scatter(self.goal[0], self.goal[1], marker='d', s=100, color='red', alpha=0.8, label='goal')\n",
    "        if self.state is not None:\n",
    "            ax.scatter(self.state[0], self.state[1], marker='o', s=100, color='black', alpha=0.8, label='agent')\n",
    "        if lines is not None:\n",
    "            lc = mc.LineCollection(lines, linewidths=2, color='black', alpha=0.5)\n",
    "            ax.add_collection(lc)   \n",
    "        ax.legend(bbox_to_anchor=(1.05, 1), loc='upper left', scatterpoints=1)\n",
    "        if canvas:\n",
    "            return ax\n",
    "        else:\n",
    "            plt.show()\n",
    "                      \n",
    "    def play(self, Agent, show=True, fig=None, ax=None, canvas=False):\n",
    "        lines = []\n",
    "        while not self.is_solved():\n",
    "            state0 = self.get_state()\n",
    "            action = Agent.play()\n",
    "            self.step(action)\n",
    "            state1 = self.get_state()\n",
    "            lines.append([state0, state1])\n",
    "        if show:\n",
    "            return self.render(fig=fig, ax=ax, lines=lines, canvas=canvas)"
   ]
  },
  {
   "cell_type": "markdown",
   "metadata": {},
   "source": [
    "## 9-2. マルコフ決定過程"
   ]
  },
  {
   "cell_type": "markdown",
   "metadata": {},
   "source": [
    "### 迷路の環境\n",
    "ここでは迷路(Grid world)の環境を使って強化学習の手法を説明します。環境は`MazeEnv(xサイズ, yサイズ, 簡単さを表す数値)`で作れるようにしておきました："
   ]
  },
  {
   "cell_type": "code",
   "execution_count": 15,
   "metadata": {
    "collapsed": false
   },
   "outputs": [
    {
     "data": {
      "image/png": "[encoded data removed]",
      "text/plain": [
       "<Figure size 360x360 with 1 Axes>"
      ]
     },
     "metadata": {},
     "output_type": "display_data"
    }
   ],
   "source": [
    "env = MazeEnv(10, 10, threshold=1.3)\n",
    "env.render()"
   ]
  },
  {
   "cell_type": "markdown",
   "metadata": {},
   "source": [
    "ここで◾は通れない壁、$\\color{red}{◆}$ は迷路のゴール地点を表すとします。また、●がエージェントの位置を表します。"
   ]
  },
  {
   "cell_type": "markdown",
   "metadata": {
    "collapsed": true
   },
   "source": [
    "#### エージェント\n",
    "早速この迷路を探索するエージェントを作ってみます："
   ]
  },
  {
   "cell_type": "code",
   "execution_count": 16,
   "metadata": {
    "collapsed": true
   },
   "outputs": [],
   "source": [
    "class Agent():\n",
    "    def __init__(self, policy):\n",
    "        self.policy = policy\n",
    "        \n",
    "    def play(self):\n",
    "        \"\"\"\n",
    "        return a number in [0,1,2,3] corresponding to [up, down, left, right]\n",
    "        \"\"\"\n",
    "        return self.policy.sample()"
   ]
  },
  {
   "cell_type": "markdown",
   "metadata": {},
   "source": [
    "##### 取れる行動\n",
    "迷路のルールを体感するために、自分で操作できるような方策を作ってみます。エージェントは 0,1,2,3 の数字のどれかを各ステップで選択します。それぞれ\n",
    "\n",
    "- 0:up, 1:down, 2:left, 3:right\n",
    "\n",
    "への移動を表します。"
   ]
  },
  {
   "cell_type": "code",
   "execution_count": 17,
   "metadata": {
    "collapsed": true
   },
   "outputs": [],
   "source": [
    "class Policy():\n",
    "    def __init__(self, env):\n",
    "        self.env = env\n",
    "        \n",
    "    def sample(self):\n",
    "        a = int(input(\" \".join([\"{}:{},\".format(n, a2m[n]) for n in range(4)]) + \"\\n \"))\n",
    "        return a"
   ]
  },
  {
   "cell_type": "code",
   "execution_count": 18,
   "metadata": {
    "collapsed": false,
    "scrolled": false
   },
   "outputs": [
    {
     "data": {
      "image/png": "[encoded data removed]",
      "text/plain": [
       "<Figure size 360x360 with 1 Axes>"
      ]
     },
     "metadata": {},
     "output_type": "display_data"
    },
    {
     "name": "stdout",
     "output_type": "stream",
     "text": [
      "0:up, 1:down, 2:left, 3:right,\n",
      " 0\n",
      "env.step(a)= (array([8, 6]), 0, False, {})\n"
     ]
    },
    {
     "data": {
      "image/png": "[encoded data removed]",
      "text/plain": [
       "<Figure size 360x360 with 1 Axes>"
      ]
     },
     "metadata": {},
     "output_type": "display_data"
    }
   ],
   "source": [
    "agent = Agent(policy=Policy(env))\n",
    "env.render()\n",
    "a = agent.play()\n",
    "print(\"env.step(a)=\", env.step(a))\n",
    "env.render()"
   ]
  },
  {
   "cell_type": "markdown",
   "metadata": {},
   "source": [
    "##### 最後までプレイさせるコマンド\n",
    "ちなみに \n",
    "- `env.play(agent)` \n",
    "\n",
    "でゴールするまでプレイし続けることができます。手で入力は面倒なので、ランダムな方策を使ってみましょう\n",
    "\n",
    "\n",
    "\n"
   ]
  },
  {
   "cell_type": "code",
   "execution_count": 19,
   "metadata": {
    "collapsed": true
   },
   "outputs": [],
   "source": [
    "class Random(Policy):\n",
    "    def __init__(self, env):\n",
    "        self.A = env.action_space \n",
    "        \n",
    "    def sample(self):\n",
    "        return np.random.choice(self.A)"
   ]
  },
  {
   "cell_type": "code",
   "execution_count": 20,
   "metadata": {
    "collapsed": false
   },
   "outputs": [
    {
     "data": {
      "image/png": "[encoded data removed]",
      "text/plain": [
       "<Figure size 360x360 with 1 Axes>"
      ]
     },
     "metadata": {},
     "output_type": "display_data"
    }
   ],
   "source": [
    "agent = Agent(policy=Random(env))\n",
    "env.play(agent)"
   ]
  },
  {
   "cell_type": "markdown",
   "metadata": {},
   "source": [
    "ランダムウォークなので、右往左往した後ゴールしている様子がわかります。注意ですが、作った迷路によっては**絶対にゴールできない状況** があり得るので、そのような不運な場合には上のセルの実行はいつまで経っても終わりません。"
   ]
  },
  {
   "cell_type": "markdown",
   "metadata": {},
   "source": [
    "#### 環境"
   ]
  },
  {
   "cell_type": "markdown",
   "metadata": {},
   "source": [
    "##### 1時刻進める関数\n",
    "\n",
    "行動 `a` を入力して、現在の状態を更新し、1時刻進める関数が `env.step(a)` です。加えてこの関数は返り値があり、\n",
    "\n",
    "- `env.step(a)= (a行動後のエージェント位置座標[x, y], 報酬, ゴールしたか, {})` \n",
    "\n",
    "です。"
   ]
  },
  {
   "cell_type": "code",
   "execution_count": 22,
   "metadata": {
    "collapsed": false
   },
   "outputs": [
    {
     "name": "stdout",
     "output_type": "stream",
     "text": [
      "agent coordinate [2 6]\n"
     ]
    },
    {
     "data": {
      "image/png": "[encoded data removed]",
      "text/plain": [
       "<Figure size 360x360 with 1 Axes>"
      ]
     },
     "metadata": {},
     "output_type": "display_data"
    },
    {
     "name": "stdout",
     "output_type": "stream",
     "text": [
      "a = 1 = down\n",
      "env.step(a)= (array([2, 7]), 0, False, {})\n"
     ]
    },
    {
     "data": {
      "image/png": "[encoded data removed]",
      "text/plain": [
       "<Figure size 360x360 with 1 Axes>"
      ]
     },
     "metadata": {},
     "output_type": "display_data"
    },
    {
     "name": "stdout",
     "output_type": "stream",
     "text": [
      "agent coordinate [2 7]\n"
     ]
    }
   ],
   "source": [
    "env.reset()\n",
    "print(\"agent coordinate\", env.state)\n",
    "agent = Agent(policy=Random(env))\n",
    "env.render()\n",
    "a = agent.play()\n",
    "print('a =', a, '=', a2m[a])\n",
    "print(\"env.step(a)=\", env.step(a))\n",
    "env.render()\n",
    "print(\"agent coordinate\", env.state)"
   ]
  },
  {
   "cell_type": "markdown",
   "metadata": {},
   "source": [
    "こんな感じで、\n",
    "\n",
    "1. エージェント位置 $s_0 = [x_0, y_0]$\n",
    "2. エージェント行動 $a_0 \\to $ エージェント位置 $s_1 = [x_1, y_1]$, 報酬 $r_1$\n",
    "3. エージェント行動 $a_1 \\to $ エージェント位置 $s_2 = [x_2, y_2]$, 報酬 $r_2$\n",
    "4. ...\n",
    "\n",
    "を繰り返してゆきます。"
   ]
  },
  {
   "cell_type": "markdown",
   "metadata": {},
   "source": [
    "### マルコフ決定過程\n"
   ]
  },
  {
   "cell_type": "markdown",
   "metadata": {},
   "source": [
    "ここまでで、迷路の環境やエージェントについて説明してきましたが、数学的な状況を説明しましょう。\n",
    "\n",
    "#### 変数\n",
    "\n",
    "- **状態**: $s = [x,y]$\n",
    "- **行動**: $a = 0,1,2,3$\n",
    "- **報酬**: $r = 0, 1$ (ゴールの場合1それ以外0 $^※$)\n",
    "\n",
    "まず、エージェントの位置を表す座標 [x, y] ですが、このようなエージェントの状態を表す変数を**状態(state)**といい、だいたい$s$で表します。\n",
    "次に、エージェントが各時刻で起こす行動に対応する変数を**行動(action)**といい、$a$で表します。\n",
    "最後に、エージェントの行動に応じて得られる**報酬(reward)**を$r$で表します。\n",
    "\n",
    "> $^※$ じつは、このようにせず、「ゴールするまで負の報酬」としても良いです。こちらのほうが負の報酬＝罰則をくらいたくないため、強化学習アルゴリズムによっては「なるべく早くゴールしようとする」傾向が見られます。"
   ]
  },
  {
   "cell_type": "markdown",
   "metadata": {},
   "source": [
    "#### エージェントの方策と行動\n",
    "上では、エージェントオブジェクトにポリシー(方策)を読み込んでいましたが、方策は数学的には「状態$s$が与えられたときの行動$a$の確率」\n",
    "\n",
    "$$\n",
    "\\pi(a|s)\n",
    "$$\n",
    "\n",
    "で表します。状態$s$での実際の行動はこの確率からのサンプリングと解釈します：\n",
    "\n",
    "$$\n",
    "a \\sim \\pi(\\cdot|s)\n",
    "$$\n",
    "\n",
    "ランダムな方策は例えば $\\pi(a|s) = \\frac{1}{4}$ というわけです。"
   ]
  },
  {
   "cell_type": "markdown",
   "metadata": {},
   "source": [
    "#### 環境の時間発展\n",
    "環境にも確率が設定されており、\n",
    "- $s_{t+1} \\sim P_s(\\cdot|s_t, a_t)$\n",
    "- $r_{t+1} \\sim P_r(\\cdot|s_t, a_t, s_{t+1})$\n",
    "\n",
    "であると解釈します。"
   ]
  },
  {
   "cell_type": "markdown",
   "metadata": {},
   "source": [
    "#### マルコフ決定過程\n",
    "適当な初期値から初めて、エージェントの方策による行動サンプル＋環境の時間発展を繰り返した時系列(迷路では`env.play(agent)`に対応する)\n",
    "\n",
    "$$\n",
    "\\left. \\begin{array}{ll:ll:ll:ll}\n",
    "s_0 \n",
    "\\overset{\\pi(\\cdot|s_0)}{\\to}\n",
    "&\n",
    "a_0 \n",
    "\\overset{P_s(\\cdot|s_0, a_0)}{\\to} \n",
    "&\n",
    "s_1 \n",
    "&\n",
    "\\overset{\\pi(\\cdot|s_1)}{\\to}\n",
    "a_1  \n",
    "\\overset{P_s(\\cdot|s_1, a_1)}{\\to} \n",
    "&\n",
    "s_2\n",
    "&\n",
    "\\overset{\\pi(\\cdot|s_2)}{\\to}\n",
    "a_2\n",
    "\\overset{P_s(\\cdot|s_2, a_2)}{\\to} \n",
    "&\n",
    " \\cdots\n",
    "\\\\\n",
    "\\downarrow_{P_r(\\cdot|-, -, s_0)} \n",
    "&&\n",
    "\\downarrow_{P_r(\\cdot|s_0, a_0, s_1)} \n",
    "&&\n",
    "\\downarrow_{P_r(\\cdot|s_1, a_1, s_2)} \n",
    "\\\\\n",
    "r_0\n",
    "&\n",
    "&\n",
    "r_1\n",
    "&\n",
    "&\n",
    "r_2\n",
    "\\end{array} \\right.\n",
    "\\tag{1.3}\n",
    "$$\n",
    "\n",
    "を**マルコフ決定過程(Markov Decision Process, MDP)**といいます。ゲームが始まってから終わるまでの1単位（**MDP**の1つのサンプル系列）を**エピソード(episode)**と呼びます。\n",
    "\n",
    "強化学習は基本的にはこの MDP を前提とし、その中でエージェントをいかに制御するかを考えます。"
   ]
  },
  {
   "cell_type": "markdown",
   "metadata": {},
   "source": [
    "### 価値観数とベルマン方程式\n"
   ]
  },
  {
   "cell_type": "markdown",
   "metadata": {},
   "source": [
    "#### 行動価値関数 $q_*(s,a)$\n",
    "\n",
    "バンディット問題での行動価値は、実際に得られる報酬の期待値でした。今回の場合は、同じ行動でも、その行動を取る状態に依存して価値が変わります。例えば以下のような２つの状況を考えてみます："
   ]
  },
  {
   "cell_type": "code",
   "execution_count": 14,
   "metadata": {
    "collapsed": false
   },
   "outputs": [
    {
     "data": {
      "image/png": "[encoded data removed]",
      "text/plain": [
       "<Figure size 1080x360 with 2 Axes>"
      ]
     },
     "metadata": {},
     "output_type": "display_data"
    }
   ],
   "source": [
    "fig = plt.figure(figsize=(15, 5))\n",
    "ax1 = fig.add_subplot(121); ax1.set_title(\"Case 1\", fontsize=20) \n",
    "ax2 = fig.add_subplot(122); ax2.set_title(\"Case 2\", fontsize=20) \n",
    "\n",
    "env = MazeEnv(3, 3, threshold=10); env.goal=[0,0];  env.state=[1,1]\n",
    "env.render(ax=ax1, fig=fig, canvas=True)\n",
    "\n",
    "env = MazeEnv(3, 3, threshold=10); env.goal=[0,0];  env.state=[0,1]\n",
    "env.render(ax=ax2, fig=fig)"
   ]
  },
  {
   "cell_type": "markdown",
   "metadata": {
    "collapsed": true
   },
   "source": [
    "**Case 1(左図)** でのエージェントが $a=0$(up) としても、ゴールにはたどり着かないので今の環境では報酬が与えられません。一方、**Case 2(右図)** でのエージェントの行動 $a=0$(up) はゴールに辿り着くので報酬が支払われます。つまり、行動の価値は状態にも依存する関数である：\n",
    "\n",
    "$$\n",
    "q_*(s, a)\n",
    "$$\n",
    "\n",
    "ということです。\n",
    "\n",
    "\n",
    "しかし、後者の場合でも十分待てばそのうちゴールに辿り着くかも知れません。このように、MDPでの行動価値は状態に依存するばかりか、未来の行動にも依存します。そこで、いったん行動履歴\n",
    "\n",
    "$$\n",
    "\\Big[\\begin{pmatrix}\n",
    "s_0 \\\\ r_0\n",
    "\\end{pmatrix}, a_0 \\Big] \\to\n",
    "\\Big[\\begin{pmatrix}\n",
    "s_1 \\\\ r_1\n",
    "\\end{pmatrix}, a_1 \\Big] \\to \\dots \\to \n",
    "\\Big[\\begin{pmatrix}\n",
    "s_t \\\\ r_t\n",
    "\\end{pmatrix}, a_t \\Big] \\to \n",
    "\\Big[\\begin{pmatrix}\n",
    "s_{t+1} \\\\ r_{t+1} \n",
    "\\end{pmatrix}, a_{t+1} \\Big] \\to \\dots\n",
    "$$\n",
    "\n",
    "が与えられたと考えます。このとき、時刻 $t$ で行動 $a$ を取ってその後得られた重み付き報酬和\n",
    "\n",
    "$$\n",
    "g_t = \\sum_{k=0}^\\infty \\gamma^k r_{t+1+k}\n",
    "$$\n",
    "\n",
    "の期待値を行動価値と定義します：\n",
    "\n",
    "$$\n",
    "q_{\\pi}(s, a) = \\langle g_t \\rangle_{(s_t, a_t)=(s,a)}\n",
    "$$\n",
    "\n",
    "注意ですが、この量は方策 $\\pi$ に依存します。MDPと並列して図示すると、\n",
    "\n",
    "$$\n",
    "\\left. \\begin{array}{l:r:ll:ll:l|l}\n",
    "\\dots\n",
    "&\n",
    "s, a\n",
    "{\\to} \n",
    "&\n",
    "s_{t+1}\n",
    "&\n",
    "\\overset{\\pi(\\cdot|s_{t+1})}{\\to}\n",
    "a_{t+1}\n",
    "{\\to} \n",
    "&\n",
    "s_{t+2}\n",
    "&\n",
    "\\overset{\\pi(\\cdot|s_{t+2})}{\\to}\n",
    "a_{t+2}\n",
    "{\\to} \n",
    "&\n",
    " \\cdots\n",
    "&\n",
    "\\\\\n",
    "&&\n",
    "\\downarrow\n",
    "&&\n",
    "\\downarrow\n",
    "\\\\\n",
    "&&\n",
    "r_{t+1}\n",
    "&&\n",
    "r_{t+2}\n",
    "\\\\ \\hline \n",
    "q_{\\pi}(s,a) =\n",
    "&\n",
    "\\langle\n",
    "&\n",
    "r_{t+1}\n",
    "&&\n",
    "+\\gamma r_{t+2}\n",
    "&&\n",
    "+ \\dots\n",
    "&\n",
    "\\rangle\n",
    "\\end{array} \\right.\n",
    "$$\n",
    "\n",
    "のように、時刻 t で s に居て、そこで a を選んだとして、以後ずっと同じ方策$\\pi$でゲームをプレイした時に得られる重み付き報酬和の期待値を表します。\n",
    "\n",
    "\n",
    "\n",
    "\n",
    "\n"
   ]
  },
  {
   "cell_type": "markdown",
   "metadata": {},
   "source": [
    "#### ベルマン方程式\n",
    "\n",
    "重み付き報酬和は簡単な漸化式\n",
    "\n",
    "$$\n",
    "g_t = r_{t+1} + \\gamma g_{t+1}\n",
    "$$\n",
    "\n",
    "を満たすので\n",
    "\n",
    "$$\n",
    "\\left. \\begin{array}{ll}\n",
    "q_\\pi(s, a) &= \\langle g_t \\rangle_{(s_t, a_t)=(s, a)} \\\\\n",
    "&= \\langle r_{t+1} \\rangle_{s_{t+1} \\sim P_s(\\cdot|s, a),\\ r_{t+1} \\sim P_r(\\cdot|s, a, s_{t+1})}\n",
    "+ \\gamma \\langle\n",
    "q_\\pi(s_{t+1}, a_{t+1})\n",
    "\\rangle_{s_{t+1} \\sim P_s(\\cdot|s, a),\\ a_{t+1} \\sim \\pi(\\cdot | s_{t+1})}\n",
    "\\end{array} \\right.\n",
    "$$\n",
    "\n",
    "を満たします。これを**ベルマン方程式(Bellman equation)**と言います。\n",
    "\n",
    "強化学習の手法の基礎となるのが、このベルマン方程式です。\n"
   ]
  },
  {
   "cell_type": "markdown",
   "metadata": {},
   "source": [
    "##### 動的計画法\n",
    "環境や方策の確率について**動的計画法(DP, Dynamic Programming)** という手法を用いてベルマン方程式を解くことができます。ベルマン方程式は\n",
    "\n",
    "$$\n",
    "q = r + \\gamma q\n",
    "$$\n",
    "\n",
    "のような形をしているので、これを\n",
    "\n",
    "$$\n",
    "q_{k+1} = r + \\gamma q_{k}\n",
    "$$\n",
    "\n",
    "として $k$ をたくさん回すことで解を求める手法のことを指します。これは十分多く反復すれば\n",
    "\n",
    "$$\n",
    "q_{K} = r + \\gamma q_{K-1} = r + \\gamma (r + \\gamma q_{K-2}) = \\dots = r (1 + \\gamma + \\gamma^2 + \\dots) = \\frac{r}{1- \\gamma}\n",
    "$$\n",
    "\n",
    "となって、きちんともとの方程式の解になっているのがわかります。ただし、DPを使うためには方程式に現れる係数を全て把握している必要があります。ベルマン方程式には期待値 $\\langle \\rangle$ の部分で確率の値を用いるのですが、DPを適用するためには**MDPに現れる確率密度関数を全て把握している必要があります**。"
   ]
  },
  {
   "cell_type": "markdown",
   "metadata": {},
   "source": [
    "##### モンテカルロ法\n",
    "確率密度関数の値を全て把握するのは流石に厳しいです。そこで、もとの定義\n",
    "\n",
    "$$\n",
    "q_\\pi(s, a) = \\Big\\langle \\sum_{k=0}^\\infty \\gamma^k r_{t+1+k} \\Big\\rangle_{(s_t, a_t)=(s, a)}\n",
    "$$\n",
    "\n",
    "に立ち返って、期待値の部分を実際に MDP を走らせて得られたサンプル平均に置き換えてしまう手法が考えられます。これは十分たくさんサンプルを取れば、大数の法則から正しい値に収束してくれるはずです。これは物理学でも数値実験などでよく使う手法で、**モンテカルロ法** と呼ばれます。"
   ]
  },
  {
   "cell_type": "markdown",
   "metadata": {},
   "source": [
    "##### TD 法\n",
    "動的計画法とモンテカルロ法を上手くブレンドした手法が、**Temporal Difference(TD)**誤差を用いる手法で、強化学習でよく用いられる手法です。次節で詳しく解説しますが、標語的に言うと\n",
    "\n",
    "- ベルマン方程式による再帰＋サンプリングによる期待値近似\n",
    "\n",
    "を行う手法です。"
   ]
  },
  {
   "cell_type": "markdown",
   "metadata": {},
   "source": [
    "### 方策改善\n",
    "DP, MC, TD, どの方法で行動価値を求めても良いですが、結局やりたいことは、与えられた環境下でどのように行動を取ればよいかの方策を求めることです。\n",
    "\n",
    "行動 $a$ について方策で期待値を取った関数\n",
    "\n",
    "$$\n",
    "v_\\pi(s) = \\langle q_\\pi(s, a) \\rangle_{a \\sim \\pi(\\cdot|s)}\n",
    "$$\n",
    "\n",
    "を**状態価値関数**といい、初期状態確率でこの期待値を取ったもの\n",
    "\n",
    "$$\n",
    "J(\\pi) = \\langle v_{\\pi} (s) \\rangle_{s \\sim P_0(s)}\n",
    "$$\n",
    "\n",
    "を **expected return** といいます。強化学習の目的はなるべく大きな $J$ を持つような $\\pi$ を探すことです。\n",
    "\n"
   ]
  }
 ],
 "metadata": {
  "kernelspec": {
   "display_name": "Python 3",
   "language": "python",
   "name": "python3"
  },
  "language_info": {
   "codemirror_mode": {
    "name": "ipython",
    "version": 3
   },
   "file_extension": ".py",
   "mimetype": "text/x-python",
   "name": "python",
   "nbconvert_exporter": "python",
   "pygments_lexer": "ipython3",
   "version": "3.6.0"
  },
  "toc": {
   "base_numbering": 1,
   "nav_menu": {},
   "number_sections": true,
   "sideBar": true,
   "skip_h1_title": false,
   "title_cell": "Table of Contents",
   "title_sidebar": "Contents",
   "toc_cell": false,
   "toc_position": {},
   "toc_section_display": true,
   "toc_window_display": true
  }
 },
 "nbformat": 4,
 "nbformat_minor": 2
}

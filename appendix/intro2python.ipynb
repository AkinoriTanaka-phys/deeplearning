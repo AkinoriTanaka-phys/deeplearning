{
 "cells": [
  {
   "cell_type": "markdown",
   "metadata": {},
   "source": [
    "# **Python入門**\n",
    "\n",
    "深層学習のフレームワークの多くはプログラミング言語pythonから使うのが普通です。そこで、まずはpythonの文法から説明します。\n",
    "\n",
    "今回は最低限の文法について解説します。更に詳しく知りたい方は[**python公式ドキュメントのチュートリアル**](https://docs.python.org/ja/3/tutorial/index.html)を読むといいのかもしれません。\n",
    "\n",
    "あるいは、「python+やりたいこと」でインターネット検索して下さい。検索するとだいたいうまいやり方がヒットします。\n",
    "\n",
    "> この方法でコードを拾ったときは、どこから拾ったかのURLも一緒にコメントなどで取っておくのが良いです。と言うのも、プログラミングのコードには**著作権が発生する場合がある**からです。このノートは[MITライセンス](https://github.com/AkinoriTanaka-phys/deeplearning_notes/blob/master/LICENSE)です。\n",
    "\n",
    "正確なことは[**python公式ドキュメントで検索**](https://docs.python.org/ja/3/search.html)するのが間違い無くて良いかと思います。"
   ]
  },
  {
   "cell_type": "markdown",
   "metadata": {},
   "source": [
    "## **文字列を表示する**\n",
    "\n",
    "まずは画面に何かを表示させるところから始めます。\n",
    "\n",
    "> [**値の出力の文法**](https://docs.python.org/ja/3/library/functions.html#print)\n",
    ">```python\n",
    "> print(value)\n",
    "> ```\n",
    "> <font color=\"gray\"> デフォルトでは最後に改行されます。表示したい値が複数ある場合はコンマ（,）で区切ります：\n",
    ">```python\n",
    ">print(value1, value2, ...)\n",
    ">```\n",
    "    \n",
    "例\n",
    "    \n",
    "文字列の場合は、printの引数をダブルクオート（\"）かシングルクオート（'）で囲みます。"
   ]
  },
  {
   "cell_type": "code",
   "execution_count": 79,
   "metadata": {},
   "outputs": [
    {
     "name": "stdout",
     "output_type": "stream",
     "text": [
      "365\n",
      "3.14 159 265 ...\n"
     ]
    }
   ],
   "source": [
    "print(365)\n",
    "print(3.14, 159, 265, \"...\")"
   ]
  },
  {
   "cell_type": "markdown",
   "metadata": {},
   "source": [
    "## **簡単な演算**\n",
    "\n",
    "足し算や掛け算などの基本的な計算は以下のようなコマンドで使用することができます。\n",
    "\n",
    "> [**演算**](https://docs.python.org/ja/3/tutorial/introduction.html#using-python-as-a-calculator)\n",
    ">```python\n",
    ">#addition\n",
    ">x + y \n",
    ">#subtraction\n",
    ">x - y \n",
    ">#product\n",
    ">x*y \n",
    ">#quotient\n",
    ">x/y\n",
    ">#floored quotient\n",
    ">x//y\n",
    ">#reminder\n",
    ">x%y\n",
    ">#power\n",
    ">x**y \n",
    "> ```\n",
    "> 数学と同じく掛け算や割り算が先に計算されますが、計算順序がわからなくなった場合、先に計算させたい部分を括弧で囲んでおくのがいいと思います。"
   ]
  },
  {
   "cell_type": "markdown",
   "metadata": {},
   "source": [
    "以下のセルに数式を書き込んで実行すれば、それぞれの場合での計算結果が得られます。"
   ]
  },
  {
   "cell_type": "code",
   "execution_count": 81,
   "metadata": {},
   "outputs": [
    {
     "data": {
      "text/plain": [
       "1.6666666666666665"
      ]
     },
     "execution_count": 81,
     "metadata": {},
     "output_type": "execute_result"
    }
   ],
   "source": [
    "1 + 2/3"
   ]
  },
  {
   "cell_type": "markdown",
   "metadata": {},
   "source": [
    "## **コメント**\n",
    "\n",
    "プログラムはしばしば、どのような処理をしているのか読み取りづらくなります。\n",
    "\n",
    "その時の為に、読み手（未来の自分自身も含む）の理解を助けるコメントをつけたりします。\n",
    "\n",
    "> [**コメント** ](https://docs.python.org/ja/3/reference/lexical_analysis.html#comments)\n",
    ">```python\n",
    "> hogehoge # comments\n",
    "> ```\n",
    "> <font color=gray> コメントは、なるべく英語で書くのが良いらしいです。\n",
    "\n",
    "例えば以下のセルを実行すると（話の本筋とは関係のない）興味深い計算結果が得られますが、なぜそうなるのかコメントを読むとわかります。"
   ]
  },
  {
   "cell_type": "code",
   "execution_count": 82,
   "metadata": {
    "scrolled": true
   },
   "outputs": [
    {
     "data": {
      "text/plain": [
       "1.0102030508132134"
      ]
     },
     "execution_count": 82,
     "metadata": {},
     "output_type": "execute_result"
    }
   ],
   "source": [
    "1/0.9899 # Generating function of Fibonacci numbers 1/(1-x-x**2)　with x=1/100"
   ]
  },
  {
   "cell_type": "markdown",
   "metadata": {},
   "source": [
    "## **変数と型**"
   ]
  },
  {
   "cell_type": "markdown",
   "metadata": {},
   "source": [
    "数値などの値は変数に格納できます。\n",
    "\n",
    "> [**変数代入**](https://docs.python.org/ja/3/reference/simple_stmts.html#assignment-statements)\n",
    ">```python\n",
    "> x = value \n",
    "> ```\n",
    "> <font color=gray> 左辺（x）に右辺（value）が代入されると考えるとわかりやすいです。\n",
    "\n",
    "例えば、以下のような計算が可能です。計算は上から順に実行されます。"
   ]
  },
  {
   "cell_type": "code",
   "execution_count": 1,
   "metadata": {},
   "outputs": [
    {
     "data": {
      "text/plain": [
       "90"
      ]
     },
     "execution_count": 1,
     "metadata": {},
     "output_type": "execute_result"
    }
   ],
   "source": [
    "# 変数の使用例\n",
    "x = 30\n",
    "3*x"
   ]
  },
  {
   "cell_type": "markdown",
   "metadata": {},
   "source": [
    "変数の値は変更可能です。これは便利ですが、思わぬバグを引き起こしがちなので注意が必要です。"
   ]
  },
  {
   "cell_type": "code",
   "execution_count": 62,
   "metadata": {},
   "outputs": [
    {
     "name": "stdout",
     "output_type": "stream",
     "text": [
      "30\n",
      "31\n"
     ]
    }
   ],
   "source": [
    "# 変数の値の動的変更\n",
    "x = 30\n",
    "print(x) # 30\n",
    "\n",
    "x = x+1 # Do not regard it as 0 = 1. ;p\n",
    "print(x) # 31"
   ]
  },
  {
   "cell_type": "markdown",
   "metadata": {},
   "source": [
    "代入できる数値にも、様々な**型**があります。\n",
    "\n",
    "型について詳細を説明していると長くなりすぎるので、チートシート的なものを並べるだけに止めます。\n",
    "\n",
    "より網羅的には[**公式ドキュメントの組み込み型のページ**](https://docs.python.org/ja/3/library/stdtypes.html)をみてください。"
   ]
  },
  {
   "cell_type": "markdown",
   "metadata": {},
   "source": [
    "> ### [**数：int, float, complex**](https://docs.python.org/ja/3/library/stdtypes.html#numeric-types-int-float-complex)\n",
    ">> <font color=\"dodgerblue\">**整数：`int`**</font>\n",
    ">> ```python\n",
    "0, ±1, ±2, ... \n",
    ">> ```\n",
    ">> <font color=gray> 精度の限界は無いそうです。\n",
    ">\n",
    ">> <font color=\"dodgerblue\"> **実数（浮動小数点数）：`float`**\n",
    ">> ```python\n",
    "0.1, -2/3, 1.4142, ...\n",
    ">> ```\n",
    ">> <font color=\"dodgerblue\"> **複素数（浮動小数点数）：`complex`**\n",
    ">>```python\n",
    "a + bj\n",
    ">>```\n",
    ">> <font color=gray> 浮動小数点数は倍精度です。\n",
    "    \n",
    "例\n",
    "    \n",
    "\n"
   ]
  },
  {
   "cell_type": "code",
   "execution_count": 21,
   "metadata": {},
   "outputs": [
    {
     "data": {
      "text/plain": [
       "0.010409162536496482"
      ]
     },
     "execution_count": 21,
     "metadata": {},
     "output_type": "execute_result"
    }
   ],
   "source": [
    "10100/970299 # Generating function of squared numbers x(x+1)/(1-x)**3　with x=1/100"
   ]
  },
  {
   "cell_type": "code",
   "execution_count": 181,
   "metadata": {
    "scrolled": false
   },
   "outputs": [
    {
     "data": {
      "text/plain": [
       "(-1+0j)"
      ]
     },
     "execution_count": 181,
     "metadata": {},
     "output_type": "execute_result"
    }
   ],
   "source": [
    "imaginary_unit =1j # Caution: j is the imaginary unit. not i \n",
    "imaginary_unit**2 "
   ]
  },
  {
   "cell_type": "markdown",
   "metadata": {},
   "source": [
    "> ### [**文字列：str**](https://docs.python.org/ja/3/library/stdtypes.html#text-sequence-type-str)\n",
    ">> <font color=\"dodgerblue\"> **改行できない文字列：（'）囲み,（\"）囲み**</font>\n",
    ">>```python\n",
    "'hogehoge' # -> 'hogehoge'\n",
    "\"hogehoge\" # -> 'hogehoge'\n",
    ">>```\n",
    ">> <font color=\"gray\"> （\"）は一文字のダブルクォートを使う。これはシングルクオート（'）二つ**ではない**</font>\n",
    ">\n",
    ">> <font color=\"dodgerblue\"> **改行できる文字列：（'''）囲み**\n",
    ">>```python\n",
    "'''hoge\n",
    "hoge''' # -> 'hoge\\nhoge'\n",
    ">>```\n",
    ">> <font color=gray> 改行が改行コード（\\n）と認識される。こちらはシングルクオート（'）を三つ重ねたものを使う\n",
    ">\n",
    "> <font color=gray>python3.6からf文字列という仕組みが実装され、文字列中に変数を埋め込みやすくなりました：\n",
    "> ```python\n",
    "n = 3\n",
    "f'hoge{n}hoge' # -> 'hoge3hoge'\n",
    "> ```\n",
    "\n",
    "例\n"
   ]
  },
  {
   "cell_type": "code",
   "execution_count": 203,
   "metadata": {},
   "outputs": [
    {
     "data": {
      "text/plain": [
       "'10kg amounts to 214627388000000.0kcal'"
      ]
     },
     "execution_count": 203,
     "metadata": {},
     "output_type": "execute_result"
    }
   ],
   "source": [
    "mass = 10\n",
    "energy = mass*0.000239006*8.98*10**(16)\n",
    "\n",
    "f'{mass}kg amounts to {energy}kcal'"
   ]
  },
  {
   "cell_type": "markdown",
   "metadata": {},
   "source": [
    "> ### [**シーケンス型：list, tuple**](https://docs.python.org/ja/3/library/stdtypes.html#sequence-types-list-tuple-range)\n",
    ">> <font color=dodgerblue> **リスト：`list`** </font>\n",
    ">>```python\n",
    "x = [x0, x1, ..., xN] \n",
    ">>``` \n",
    ">> <font color=gray> **四角い括弧**\"[ ]\"で囲み、コンマ\",\"で区切って要素を列挙する。要素の型は統一されている必要がある代わりに、一度定義しても変更できる。\n",
    ">> - 新しい要素yを末尾に追加する：`x.append(y)`\n",
    ">\n",
    ">> <font color=dodgerblue> **タプル：`tuple`** </font>\n",
    ">>```python\n",
    ">>x = (x0, x1, ..., xN) \n",
    ">>```\n",
    "> <font color=gray>**丸い括弧**\"( )\"で囲み、コンマ\",\"で区切って要素を列挙する。要素の型はバラバラでも良い代わりに、一度定義したら変更できない。\n",
    ">\n",
    "> <font color=gray>以下のコマンドは共通して使えます。\n",
    "> - n番目の要素を取り出す(**0番目から始まるのに注意**)：`x[n]`\n",
    "> - 要素の数をintで出す：`len(x)`\n",
    "    \n",
    "例"
   ]
  },
  {
   "cell_type": "code",
   "execution_count": 38,
   "metadata": {},
   "outputs": [
    {
     "name": "stdout",
     "output_type": "stream",
     "text": [
      "[1, 10, 100] 10\n",
      "3\n"
     ]
    }
   ],
   "source": [
    "x = []\n",
    "x.append(1)\n",
    "x.append(10)\n",
    "x.append(100)\n",
    "print(x, x[1])\n",
    "print(len(x))"
   ]
  },
  {
   "cell_type": "code",
   "execution_count": 191,
   "metadata": {},
   "outputs": [
    {
     "name": "stdout",
     "output_type": "stream",
     "text": [
      "(1, 'ten', 100) ten\n",
      "3\n"
     ]
    }
   ],
   "source": [
    "x = (1, 'ten', 100)\n",
    "print(x, x[1])\n",
    "print(len(x))"
   ]
  },
  {
   "cell_type": "markdown",
   "metadata": {},
   "source": [
    "> ### <font color=dodgerblue>**[辞書型：dict](https://docs.python.org/ja/3/library/stdtypes.html#mapping-types-dict)**\n",
    ">```python\n",
    "x = {k0:v0, k1:v1, ..., kN:vN} \n",
    ">```\n",
    "> <font color=gray> kはkey、vはvalueと呼ばれる。これらの型は違っても良い。\n",
    "> - kに合うvを取り出す：`x[k]`\n",
    "> - 要素の数をintで出す：`len(x)`\n",
    "> - 新たなkとvを追加：`x[k] = v`\n",
    "> - keyのリストを得る：`list(x.keys())`\n",
    "> - valueのリストを得る：`list(x.values())`\n",
    "    \n",
    "例"
   ]
  },
  {
   "cell_type": "code",
   "execution_count": 72,
   "metadata": {},
   "outputs": [
    {
     "data": {
      "text/plain": [
       "330"
      ]
     },
     "execution_count": 72,
     "metadata": {},
     "output_type": "execute_result"
    }
   ],
   "source": [
    "coffee_price_of = {\"short\":290, \"tall\":330, \"grande\":370} # prices of drip coffees @ https://www.starbucks.co.jp/\n",
    "\n",
    "coffee_price_of[\"tall\"]"
   ]
  },
  {
   "cell_type": "markdown",
   "metadata": {},
   "source": [
    ">### [**論理型：bool**](https://docs.python.org/ja/3/library/stdtypes.html#truth)\n",
    ">```python\n",
    ">x = True, False\n",
    ">```\n",
    "> <font color=gray> 論理演算が使えます：\n",
    "> -  and 演算：`x and y`\n",
    "> -  or 演算：`x or y`\n",
    "> - not 演算：`not x`\n",
    ">    \n",
    "> AはBか？という真偽値の判定に使うことが多い：\n",
    "> ```python\n",
    ">a == b # value a = value b ?\n",
    ">a is b # object a = object b ?\n",
    ">a in blist # a ∈ blist ?\n",
    "> ```\n",
    "    \n",
    "例"
   ]
  },
  {
   "cell_type": "code",
   "execution_count": 33,
   "metadata": {},
   "outputs": [
    {
     "name": "stdout",
     "output_type": "stream",
     "text": [
      "True\n",
      "True\n"
     ]
    }
   ],
   "source": [
    "print(1 == 1.0)\n",
    "print(1 ==1)"
   ]
  },
  {
   "cell_type": "code",
   "execution_count": 186,
   "metadata": {},
   "outputs": [
    {
     "name": "stdout",
     "output_type": "stream",
     "text": [
      "False\n",
      "True\n"
     ]
    }
   ],
   "source": [
    "print(1 is 1.0)\n",
    "print(1 is 1)"
   ]
  },
  {
   "cell_type": "code",
   "execution_count": 77,
   "metadata": {},
   "outputs": [
    {
     "data": {
      "text/plain": [
       "True"
      ]
     },
     "execution_count": 77,
     "metadata": {},
     "output_type": "execute_result"
    }
   ],
   "source": [
    "1.0 in [1.0, 2.0, 3.0]"
   ]
  },
  {
   "cell_type": "markdown",
   "metadata": {},
   "source": [
    "> ### [**None オブジェクト**](https://docs.python.org/ja/3/c-api/none.html)\n",
    "> ```python\n",
    ">None\n",
    "> ```\n",
    "> <font color=gray> 値が無いことを表現するオブジェクト\n",
    "    \n",
    "例"
   ]
  },
  {
   "cell_type": "code",
   "execution_count": 146,
   "metadata": {},
   "outputs": [],
   "source": [
    "None # 何も出ない"
   ]
  },
  {
   "cell_type": "markdown",
   "metadata": {},
   "source": [
    "## **インデント(字下げ)**\n",
    "\n",
    "Pythonではインデント（字下げ）を使って処理のブロック（かたまり）を明記します。\n",
    "\n",
    "><font color=dodgerblue>**インデント・ルール（とても重要）**</font>\n",
    "> ```\n",
    ">block:\n",
    ">    operations\n",
    ">    ...\n",
    "> ```\n",
    "> <font color=gray> インデントは入れ子の構造を持っていても構いません：\n",
    ">> 例1：処理ブロックAの中で、更に別の処理ブロックBを定義したい場合\n",
    ">> ```\n",
    ">>blockA:\n",
    ">>    operationsA\n",
    ">>    blockB:\n",
    ">>        operationsB\n",
    ">> ```\n",
    ">\n",
    ">> 例2：上の処理に加えて、Bが終わったら、Aの階層内でその結果を用いて更に処理をさせたい場合\n",
    ">> ```\n",
    ">>blockA:\n",
    ">>    operationsA\n",
    ">>    blockB:\n",
    ">>        operationsB\n",
    ">>    operationsA2\n",
    ">> ```\n",
    "\n",
    "以下ではこのような文法を断りなく用います。"
   ]
  },
  {
   "cell_type": "markdown",
   "metadata": {},
   "source": [
    "## **制御文**\n",
    "\n",
    "単なる計算だけではなく、文字列を出力したり、処理を繰り返したりすることができます。この文法を使えるようになると一気にできることが増えます。\n",
    "\n"
   ]
  },
  {
   "cell_type": "markdown",
   "metadata": {},
   "source": [
    "### **for文**\n",
    "\n",
    "繰り返し処理を実装する一つの方法は以下のfor文を用いることです。\n",
    "\n",
    "> [**for文の文法**](https://docs.python.org/ja/3/tutorial/controlflow.html#for-statements)\n",
    "> ```python\n",
    ">for n in range(N): \n",
    ">    n-th operations\n",
    ">```\n",
    "> <font color=gray> n=0,1,2,...,N-1と順にループします。\n",
    ">> リストやタプルを用いたループも可能です：\n",
    ">> ```python\n",
    ">>for x in [x0, x1, ... xN]:\n",
    ">>    operations\n",
    ">> ```\n",
    ">> ```python\n",
    ">>for x in (x0, x1, ... xN):\n",
    ">>    operations\n",
    ">> ```\n",
    "> この書き方だと、N+1回のループになり、ループ１回毎に、xには順にリストやタプルの要素が代入されます。\n",
    ">\n",
    ">> [**強制終了させることもできます**](https://docs.python.org/ja/3/reference/simple_stmts.html#break)：\n",
    ">>```python\n",
    ">>for n in range(N):\n",
    ">>     ...\n",
    ">>     break\n",
    ">>```\n",
    "\n",
    "これらの文法を用いて例えば、指定した回数だけ文字列を出力するには、以下のようにします。"
   ]
  },
  {
   "cell_type": "code",
   "execution_count": 22,
   "metadata": {},
   "outputs": [
    {
     "name": "stdout",
     "output_type": "stream",
     "text": [
      "n is 0.\n",
      "n is 1.\n",
      "n is 2.\n"
     ]
    }
   ],
   "source": [
    "N = 3\n",
    "for n in range(N):\n",
    "    print(f\"n is {n}.\")"
   ]
  },
  {
   "cell_type": "markdown",
   "metadata": {},
   "source": [
    "初回で強制終了："
   ]
  },
  {
   "cell_type": "code",
   "execution_count": 81,
   "metadata": {},
   "outputs": [
    {
     "name": "stdout",
     "output_type": "stream",
     "text": [
      "n is 0.\n"
     ]
    }
   ],
   "source": [
    "N = 3\n",
    "for n in range(N):\n",
    "    print(f\"n is {n}.\")\n",
    "    break"
   ]
  },
  {
   "cell_type": "markdown",
   "metadata": {},
   "source": [
    "### **if文**\n",
    "\n",
    "$$\n",
    "f(x) =\n",
    "\\left\\{\n",
    "\\begin{array}{ll}\n",
    "a & \\text{if } 0 \\leq x < A \\\\\n",
    "b & \\text{if } A \\leq x < B \\\\\n",
    "c & \\text{if } B \\leq x < D \\\\\n",
    "d & \\text{otherwise}\n",
    "\\end{array}\n",
    "\\right.\n",
    "$$\n",
    "\n",
    "のような処理をしたい時もあります。\n",
    "\n",
    "> [**条件分岐の文法**](https://docs.python.org/ja/3/tutorial/controlflow.html#if-statements)\n",
    "> ```python\n",
    ">if A_bool:\n",
    ">    operation A\n",
    ">elif B_bool:\n",
    ">    operation B\n",
    ">elif C_bool:\n",
    ">    operation C\n",
    ">else:\n",
    ">    operation D\n",
    ">```\n",
    "> <font color=gray> elifやelseがなくても動きます。ifやelifにはブール代数の値（TrueかFalse）が入るようにします。"
   ]
  },
  {
   "cell_type": "code",
   "execution_count": 197,
   "metadata": {},
   "outputs": [
    {
     "name": "stdout",
     "output_type": "stream",
     "text": [
      "1\n"
     ]
    }
   ],
   "source": [
    "if True:\n",
    "    print(1)\n",
    "elif True:\n",
    "    print(2)\n",
    "elif True:\n",
    "    print(3)\n",
    "else:\n",
    "    print(4)"
   ]
  },
  {
   "cell_type": "markdown",
   "metadata": {},
   "source": [
    "[for文](#for文)と組み合わせると、条件ごとに別の文字列を表示させることもできます。"
   ]
  },
  {
   "cell_type": "code",
   "execution_count": 89,
   "metadata": {},
   "outputs": [
    {
     "name": "stdout",
     "output_type": "stream",
     "text": [
      "wow\n",
      "n is 1.\n",
      "wow\n"
     ]
    }
   ],
   "source": [
    "N = 3\n",
    "for n in range(N):\n",
    "    if n==1:\n",
    "        print(f\"n is {n}.\")\n",
    "    else:\n",
    "        print(\"wow\")"
   ]
  },
  {
   "cell_type": "markdown",
   "metadata": {},
   "source": [
    "for文とif文を使えば素数の判定ができます："
   ]
  },
  {
   "cell_type": "code",
   "execution_count": 198,
   "metadata": {},
   "outputs": [
    {
     "name": "stdout",
     "output_type": "stream",
     "text": [
      "prime\n"
     ]
    }
   ],
   "source": [
    "N = 31\n",
    "\n",
    "for n in range(2, N):\n",
    "    if N%n==0: # if true, N is divisible by n, and it means not prime, and...\n",
    "        print(f\"Its divisible by {n}\")\n",
    "        break      # stop the for loop here\n",
    "    if n==N-1:\n",
    "        print(\"prime\") "
   ]
  },
  {
   "cell_type": "markdown",
   "metadata": {},
   "source": [
    "## **サブルーチンの定義**"
   ]
  },
  {
   "cell_type": "markdown",
   "metadata": {},
   "source": [
    "### **関数**\n",
    "\n",
    "良く使う処理は、関数として実装しておくと便利です。関数は、何らかの値を入力し、何らかの値を出力する、という形式で実装します。\n",
    "\n",
    "> [**関数定義の文法**](https://docs.python.org/ja/3/tutorial/controlflow.html#defining-functions)\n",
    ">```python\n",
    ">def my_function(input1, input2, ...):\n",
    ">     ''' document　'''\n",
    ">     operations\n",
    ">     return value \n",
    ">```\n",
    ">> <font color=gray>python3.5以降では入力と出力の型を指定できるようになりました。</font>\n",
    ">> ```python\n",
    ">> def my_function(input1: int, input2: str, ...) -> float:\n",
    ">>     operations\n",
    ">>     return value\n",
    ">> ```\n",
    "\n",
    "実は入力と出力は必ずしも必要ではありません。入力が不要な場合はinputsに当たる部分を空欄にします。また、出力が不要な場合は、単純にreturn valueを無くせば良いです。"
   ]
  },
  {
   "cell_type": "code",
   "execution_count": 62,
   "metadata": {},
   "outputs": [
    {
     "data": {
      "text/plain": [
       "16"
      ]
     },
     "execution_count": 62,
     "metadata": {},
     "output_type": "execute_result"
    }
   ],
   "source": [
    "def doubled(x):\n",
    "    y = 2*x\n",
    "    return y\n",
    "\n",
    "doubled(8)"
   ]
  },
  {
   "cell_type": "markdown",
   "metadata": {},
   "source": [
    "''' document ''' はコメントのように実行には何の影響もありませんが、その関数がどのような処理をするのか書いておくと、第三者や後から読み直した時に理解しやすくなって良いです。例えば以下のようにドキュメントがついているのといないのとでは、使う側の心理的な障壁の高さが違います。"
   ]
  },
  {
   "cell_type": "code",
   "execution_count": 9,
   "metadata": {},
   "outputs": [],
   "source": [
    "def minimum_divisor_of(N):\n",
    "    ''' \n",
    "    It returns minimum_divisor <= input.\n",
    "    >>> minimum_divisor_of(2)\n",
    "    2\n",
    "    >>> minimum_divisor_of(57)\n",
    "    3\n",
    "    '''\n",
    "    for n in range(2, N+1):\n",
    "        if N%n==0: \n",
    "            return n"
   ]
  },
  {
   "cell_type": "markdown",
   "metadata": {},
   "source": [
    "関数のドキュメントは関数名.\\_\\_doc\\_\\_で取得できます。あるいは、help(関数名)としても見ることができます。"
   ]
  },
  {
   "cell_type": "code",
   "execution_count": 10,
   "metadata": {
    "scrolled": false
   },
   "outputs": [
    {
     "name": "stdout",
     "output_type": "stream",
     "text": [
      "Help on function minimum_divisor_of in module __main__:\n",
      "\n",
      "minimum_divisor_of(N)\n",
      "    It returns minimum_divisor <= input.\n",
      "    >>> minimum_divisor_of(2)\n",
      "    2\n",
      "    >>> minimum_divisor_of(57)\n",
      "    3\n",
      "\n"
     ]
    }
   ],
   "source": [
    "help(minimum_divisor_of)"
   ]
  },
  {
   "cell_type": "code",
   "execution_count": 63,
   "metadata": {},
   "outputs": [
    {
     "data": {
      "text/plain": [
       "2"
      ]
     },
     "execution_count": 63,
     "metadata": {},
     "output_type": "execute_result"
    }
   ],
   "source": [
    "minimum_divisor_of(2) "
   ]
  },
  {
   "cell_type": "markdown",
   "metadata": {},
   "source": [
    "面白い？実験ができます。（[リストはforに組み込んで使えるのでした](#for文)）"
   ]
  },
  {
   "cell_type": "code",
   "execution_count": 8,
   "metadata": {},
   "outputs": [
    {
     "name": "stdout",
     "output_type": "stream",
     "text": [
      "31 is prime\n",
      "331 is prime\n",
      "3331 is prime\n",
      "33331 is prime\n",
      "333331 is prime\n",
      "3333331 is prime\n",
      "33333331 is prime\n",
      "333333331 is divisible by 17\n"
     ]
    }
   ],
   "source": [
    "candidates = [31, 331, 3331, 33331, 333331, 3333331, 33333331, 333333331]\n",
    "\n",
    "for n in candidates:\n",
    "    min_divisor = minimum_divisor_of(n)\n",
    "    if min_divisor==n:\n",
    "        print(f\"{n} is prime\")\n",
    "    else:\n",
    "        print(f\"{n} is divisible by {min_divisor}\")"
   ]
  },
  {
   "cell_type": "markdown",
   "metadata": {},
   "source": [
    "### **クラス**\n",
    "\n",
    "最後にクラスです。クラスはよく使う関数や変数の組を一まとまりにして管理するためのもので、うまく使うとコードが読みやすくなったり、保守しやすくなったりします。\n",
    "\n",
    "クラスの定義をここで書いてもいいのですが、これまでの基本事項に比べて、（オブジェクト指向）プログラミングに慣れていない人は多分、困惑すると思います。そこでまずは簡単な事例からスタートして、徐々になぜクラスを定義するのかを説明してゆきます。[このページ](https://yoshiori.hatenablog.com/entry/20090716/1247720811)の説明を参考にしました。\n",
    "\n",
    "\n",
    "\n"
   ]
  },
  {
   "cell_type": "markdown",
   "metadata": {},
   "source": [
    "#### **健康診断の事務作業**\n",
    "\n",
    "突然ですが、ここで健康診断の事務作業を自動化することを考えます。簡単のため、データは\n",
    "\n",
    "- 被験者名\n",
    "- 身長(cm)\n",
    "- 体重(kg)\n",
    "\n",
    "で管理するとします。"
   ]
  },
  {
   "cell_type": "code",
   "execution_count": 74,
   "metadata": {},
   "outputs": [],
   "source": [
    "name = \"Tanaka\"\n",
    "height = 175\n",
    "weight = 70"
   ]
  },
  {
   "cell_type": "markdown",
   "metadata": {},
   "source": [
    "これらの情報を表示したり、そこからBMIを計算したりするには、以下のようにすれば良いでしょう。"
   ]
  },
  {
   "cell_type": "code",
   "execution_count": 77,
   "metadata": {},
   "outputs": [
    {
     "name": "stdout",
     "output_type": "stream",
     "text": [
      "name: Tanaka\n",
      "height: 175cm\n",
      "weight: 70kg\n",
      "Tanaka's BMI is 22.857142857142858.\n"
     ]
    }
   ],
   "source": [
    "def info(name, height, weight):\n",
    "    print(f\"name: {name}\")\n",
    "    print(f\"height: {height}cm\")\n",
    "    print(f\"weight: {weight}kg\")\n",
    "\n",
    "def show_BMI(name, height, weight):\n",
    "    BMI = weight/(height*0.01)**2\n",
    "    print(f\"{name}'s BMI is {BMI}.\")\n",
    "    \n",
    "info(name, height, weight)\n",
    "show_BMI(name, height, weight)"
   ]
  },
  {
   "cell_type": "markdown",
   "metadata": {},
   "source": [
    "#### **クラスの用途１：変数をまとめる**\n",
    "\n",
    "ここまでの話で何も問題ないのですが、あえて問題を挙げるとしたら、変数\n",
    "\n",
    "- name\n",
    "- height\n",
    "- weight\n",
    "\n",
    "が何度も出てきていて、タイプするのが面倒ということが挙げられます。そこでクラスの出番です。"
   ]
  },
  {
   "cell_type": "code",
   "execution_count": 96,
   "metadata": {},
   "outputs": [],
   "source": [
    "class Man():\n",
    "    pass"
   ]
  },
  {
   "cell_type": "markdown",
   "metadata": {},
   "source": [
    "Manに当たる部分がクラスの名前です。passは何もしない処理を意味します。クラスを定義しただけだと、プログラム上何の用途もありません。\n",
    "\n",
    "クラスを実際に使うには、クラスの具体化、インスタンスを作ることから始まります。"
   ]
  },
  {
   "cell_type": "code",
   "execution_count": 97,
   "metadata": {},
   "outputs": [],
   "source": [
    "me = Man()"
   ]
  },
  {
   "cell_type": "markdown",
   "metadata": {},
   "source": [
    "これでmeという変数がManクラス（設計図）のインスタンス（具体化）になりました。しかしまだ何もできません。\n",
    "\n",
    "インスタンスの重要な性質は、**変数を付随させることができる**ことです："
   ]
  },
  {
   "cell_type": "code",
   "execution_count": 99,
   "metadata": {},
   "outputs": [],
   "source": [
    "me.name = \"Tanaka\"\n",
    "me.height = 170\n",
    "me.weight = 70"
   ]
  },
  {
   "cell_type": "markdown",
   "metadata": {},
   "source": [
    "インスタンス名(me)の後にドット(.)で区切って変数名を定義することができます。このようにしておけば、例えば関数の引数がmeだけでよくなります。関数定義の際は、どのManインスタンスが来てもいいように、meではなくman（名前はなんでも良い）を引数に定義しておきます。"
   ]
  },
  {
   "cell_type": "code",
   "execution_count": 100,
   "metadata": {},
   "outputs": [
    {
     "name": "stdout",
     "output_type": "stream",
     "text": [
      "name: Tanaka\n",
      "height: 170cm\n",
      "weight: 70kg\n",
      "Tanaka's BMI is 24.221453287197235.\n"
     ]
    }
   ],
   "source": [
    "def info(man):\n",
    "    print(f\"name: {man.name}\")\n",
    "    print(f\"height: {man.height}cm\")\n",
    "    print(f\"weight: {man.weight}kg\")\n",
    "\n",
    "def show_BMI(man):\n",
    "    BMI = man.weight/(man.height*0.01)**2\n",
    "    print(f\"{man.name}'s BMI is {BMI}.\")\n",
    "    \n",
    "info(me)\n",
    "show_BMI(me)"
   ]
  },
  {
   "cell_type": "markdown",
   "metadata": {},
   "source": [
    "このようにしておけば、別の被験者の取り扱いも楽になります。"
   ]
  },
  {
   "cell_type": "code",
   "execution_count": 101,
   "metadata": {},
   "outputs": [
    {
     "name": "stdout",
     "output_type": "stream",
     "text": [
      "name: Python\n",
      "height: 180cm\n",
      "weight: 75kg\n",
      "Python's BMI is 23.148148148148145.\n"
     ]
    }
   ],
   "source": [
    "you = Man()\n",
    "you.name = \"Python\"\n",
    "you.height = 180\n",
    "you.weight = 75\n",
    "\n",
    "info(you)\n",
    "show_BMI(you)"
   ]
  },
  {
   "cell_type": "markdown",
   "metadata": {},
   "source": [
    "#### **クラスの用途２：関数をまとめる**\n",
    "\n",
    "ところで、毎度毎度(.)区切りの変数の入力を書くのも面倒なので、この初期化の操作を関数化してしまいましょう："
   ]
  },
  {
   "cell_type": "code",
   "execution_count": 102,
   "metadata": {},
   "outputs": [],
   "source": [
    "def init(man, name: str, height: int, weight: int):\n",
    "    man.name = name\n",
    "    man.height = height\n",
    "    man.weight = weight"
   ]
  },
  {
   "cell_type": "markdown",
   "metadata": {},
   "source": [
    "そうすると、さらに一人当たりの行数が減り、読みやすくなりました："
   ]
  },
  {
   "cell_type": "code",
   "execution_count": 103,
   "metadata": {},
   "outputs": [
    {
     "name": "stdout",
     "output_type": "stream",
     "text": [
      "name: Tanaka\n",
      "height: 170cm\n",
      "weight: 70kg\n",
      "Tanaka's BMI is 24.221453287197235.\n",
      "name: Python\n",
      "height: 180cm\n",
      "weight: 75kg\n",
      "Python's BMI is 23.148148148148145.\n"
     ]
    }
   ],
   "source": [
    "me = Man()\n",
    "init(me, name=\"Tanaka\", height=170, weight=70)\n",
    "info(me)\n",
    "show_BMI(me)\n",
    "\n",
    "you = Man()\n",
    "init(you, name=\"Python\", height=180, weight=75)\n",
    "info(you)\n",
    "show_BMI(you)"
   ]
  },
  {
   "cell_type": "markdown",
   "metadata": {},
   "source": [
    "initやinfo,showBMIなどの関数は、明らかにManに付随した機能なので、Manを定義するのと一緒に定義しておいたほうが良いでしょう。クラス定義の時、インデントをつけて関数を定義することができます。"
   ]
  },
  {
   "cell_type": "code",
   "execution_count": 148,
   "metadata": {},
   "outputs": [],
   "source": [
    "class Man():\n",
    "    def init(man, name: str, height: int, weight: int):\n",
    "        man.name = name\n",
    "        man.height = height\n",
    "        man.weight = weight\n",
    "        \n",
    "    def info(man):\n",
    "        print(f\"name: {man.name}\")\n",
    "        print(f\"height: {man.height}cm\")\n",
    "        print(f\"weight: {man.weight}kg\")\n",
    "\n",
    "    def show_BMI(man):\n",
    "        BMI = man.weight/(man.height*0.01)**2\n",
    "        print(f\"{man.name}'s BMI is {BMI}.\")"
   ]
  },
  {
   "cell_type": "markdown",
   "metadata": {},
   "source": [
    "Manクラスに属する関数は**Man.関数名**で呼び出せます："
   ]
  },
  {
   "cell_type": "code",
   "execution_count": 149,
   "metadata": {},
   "outputs": [
    {
     "name": "stdout",
     "output_type": "stream",
     "text": [
      "name: Tanaka\n",
      "height: 170cm\n",
      "weight: 70kg\n",
      "Tanaka's BMI is 24.221453287197235.\n"
     ]
    }
   ],
   "source": [
    "me = Man()\n",
    "Man.init(me, name=\"Tanaka\", height=170, weight=70)\n",
    "Man.info(me)\n",
    "Man.show_BMI(me)"
   ]
  },
  {
   "cell_type": "markdown",
   "metadata": {},
   "source": [
    "このような、クラスに付随した関数を**メソッド**と言います。これでほぼクラスの説明は終わりなのですが、pythonでの慣習があります。\n",
    "\n",
    "#### **慣習１：メソッドの第一変数を無視する**\n",
    "\n",
    "```python\n",
    "Man.関数名(me)\n",
    "```\n",
    "\n",
    "上のような表記は同じ情報(Manとme)が二回あって無駄な気がします。これは以下のように省略して書いてもよく、省略して書くのが普通です。\n",
    "\n",
    "```python\n",
    "me.関数名()\n",
    "```\n",
    "\n",
    "この表記法では、クラスの関数＝メソッドの第一引数はインスタンスであると約束しており、実際に使う場合は定義の第二引数以降を書きます。"
   ]
  },
  {
   "cell_type": "code",
   "execution_count": 150,
   "metadata": {
    "scrolled": true
   },
   "outputs": [
    {
     "name": "stdout",
     "output_type": "stream",
     "text": [
      "name: Tanaka\n",
      "height: 170cm\n",
      "weight: 70kg\n",
      "Tanaka's BMI is 24.221453287197235.\n"
     ]
    }
   ],
   "source": [
    "me = Man()\n",
    "me.init(name=\"Tanaka\", height=170, weight=70)\n",
    "me.info()\n",
    "me.show_BMI()"
   ]
  },
  {
   "cell_type": "markdown",
   "metadata": {},
   "source": [
    "#### **慣習２：初期化のメソッドを設定する**\n",
    "\n",
    "```python\n",
    "me=Man()\n",
    "Man.init()\n",
    "```\n",
    "上のように書いてきましたが、初期化するのは当たり前だからわざわざ二行も使って書くのは無駄な気がします。\n",
    "\n",
    "```python\n",
    "def init()\n",
    "```\n",
    "\n",
    "$\\downarrow$\n",
    "\n",
    "```python\n",
    "def __init__()\n",
    "```\n",
    "\n",
    "\n",
    "このようにするとme=Man()がme=Man.\\_\\_init\\_\\_()という意味になって、二行を一行に減らせます。"
   ]
  },
  {
   "cell_type": "code",
   "execution_count": 146,
   "metadata": {},
   "outputs": [],
   "source": [
    "class Man():\n",
    "    def __init__(man, name: str, height: int, weight: int):\n",
    "        man.name = name\n",
    "        man.height = height\n",
    "        man.weight = weight\n",
    "        \n",
    "    def info(man):\n",
    "        print(f\"name: {man.name}\")\n",
    "        print(f\"height: {man.height}cm\")\n",
    "        print(f\"weight: {man.weight}kg\")\n",
    "\n",
    "    def show_BMI(man):\n",
    "        BMI = man.weight/(man.height*0.01)**2\n",
    "        print(f\"{man.name}'s BMI is {BMI}.\")"
   ]
  },
  {
   "cell_type": "code",
   "execution_count": 118,
   "metadata": {},
   "outputs": [
    {
     "name": "stdout",
     "output_type": "stream",
     "text": [
      "name: Tanaka\n",
      "height: 170cm\n",
      "weight: 70kg\n",
      "Tanaka's BMI is 24.221453287197235.\n"
     ]
    }
   ],
   "source": [
    "me = Man(name=\"Tanaka\", height=170, weight=70)\n",
    "me.info()\n",
    "me.show_BMI()"
   ]
  },
  {
   "cell_type": "markdown",
   "metadata": {},
   "source": [
    "#### **慣習３：self変数**\n",
    "\n",
    "最後に、クラス定義中のインスタンスを指すmanはselfと書くのがお作法です："
   ]
  },
  {
   "cell_type": "code",
   "execution_count": 145,
   "metadata": {},
   "outputs": [],
   "source": [
    "class Man():\n",
    "    # all \"man\" are replaced by \"self\" below.\n",
    "    def __init__(self, name: str, height: int, weight: int):\n",
    "        self.name = name\n",
    "        self.height = height\n",
    "        self.weight = weight\n",
    "        \n",
    "    def info(self):\n",
    "        print(f\"name: {self.name}\")\n",
    "        print(f\"height: {self.height}cm\")\n",
    "        print(f\"weight: {self.weight}kg\")\n",
    "\n",
    "    def show_BMI(self):\n",
    "        BMI = self.weight/(self.height*0.01)**2\n",
    "        print(f\"{self.name}'s BMI is {BMI}.\")"
   ]
  },
  {
   "cell_type": "code",
   "execution_count": 120,
   "metadata": {},
   "outputs": [
    {
     "name": "stdout",
     "output_type": "stream",
     "text": [
      "name: Tanaka\n",
      "height: 170cm\n",
      "weight: 70kg\n",
      "Tanaka's BMI is 24.221453287197235.\n"
     ]
    }
   ],
   "source": [
    "me = Man(name=\"Tanaka\", height=170, weight=70)\n",
    "me.info()\n",
    "me.show_BMI()"
   ]
  },
  {
   "cell_type": "markdown",
   "metadata": {},
   "source": [
    "#### **クラスの継承**\n",
    "\n",
    "最後にクラスの持つもう一つの機能を紹介します。以上でManクラスを作りましたが、新たなクラスScientistを作りたいとします。ScientistでもManのクラスメソッドを使いたい場合に使うのが継承です。継承の仕方は簡単で、新しいクラスを定義する際の引数に親のクラス名を入れるだけです：\n"
   ]
  },
  {
   "cell_type": "code",
   "execution_count": 143,
   "metadata": {},
   "outputs": [],
   "source": [
    "class Scientist(Man):\n",
    "    def studies(self):\n",
    "        print(f\"{self.subject}\")"
   ]
  },
  {
   "cell_type": "code",
   "execution_count": 151,
   "metadata": {},
   "outputs": [
    {
     "name": "stdout",
     "output_type": "stream",
     "text": [
      "name: Tanaka\n",
      "height: 170cm\n",
      "weight: 70kg\n",
      "Machine Learning & Physics\n"
     ]
    }
   ],
   "source": [
    "me = Scientist(name=\"Tanaka\", height=170, weight=70)\n",
    "me.subject = \"Machine Learning & Physics\"\n",
    "\n",
    "me.info()\n",
    "me.studies()"
   ]
  },
  {
   "cell_type": "markdown",
   "metadata": {},
   "source": [
    "#### **super関数**\n",
    "\n",
    "上のセルにて、me.subjectを定義していますが、これはScientistクラスがManクラスの\\_\\_init\\_\\_を流用しているためです。メソッドは上書きできるので、新しく\\_\\_init\\_\\_を定義すれば、インスタンス定義の時点でme.subjectを定義することもできます。\n",
    "\n",
    "```python\n",
    "class Scientist(Man):\n",
    "    def __init__(self, name: str, height: int, weight: int, subject: str):\n",
    "        man.name = name      # \\\n",
    "        man.height = height  #  }these three lines can be replaced by\n",
    "        man.weight = weight  # /\n",
    "        man.subject = subject\n",
    "    ...\n",
    "```\n",
    "\n",
    "このように書いてもいいのですが、Manで定義した\\_\\_init\\_\\_関数を流用することもできます。それにはsuper関数というのを使います。\n",
    "\n",
    "```python\n",
    "class Scientist(Man):\n",
    "    def __init__(self, name: str, height: int, weight: int, subject: str):\n",
    "        super().__init__(name, height, weight) # }this one line\n",
    "        man.subject = subject\n",
    "    ...\n",
    "```\n",
    "\n",
    "super().関数名で親クラスのメソッドが使えるということです。詳細は[ドキュメント](https://docs.python.org/ja/3/library/functions.html#super)を見てください。"
   ]
  },
  {
   "cell_type": "code",
   "execution_count": 141,
   "metadata": {},
   "outputs": [],
   "source": [
    "class Scientist(Man):\n",
    "    def __init__(self, name: str, height: int, weight: int, subject: str):\n",
    "        super().__init__(name, height, weight)\n",
    "        self.subject = subject\n",
    "        \n",
    "    def studies(self):\n",
    "        print(f\"{self.subject}\")"
   ]
  },
  {
   "cell_type": "code",
   "execution_count": 142,
   "metadata": {},
   "outputs": [
    {
     "name": "stdout",
     "output_type": "stream",
     "text": [
      "Machine Learning & Physics\n"
     ]
    }
   ],
   "source": [
    "me = Scientist(name=\"Tanaka\", height=170, weight=70, subject=\"Machine Learning & Physics\")\n",
    "me.studies()"
   ]
  },
  {
   "cell_type": "markdown",
   "metadata": {},
   "source": [
    "最後にここまでのまとめを書いておきます。詳細はリンク先を参照してください。\n",
    "\n",
    "> #### [**クラスの文法**](https://docs.python.org/ja/3/tutorial/classes.html)\n",
    "> ```python\n",
    "> class ChildClass(ParentClass):\n",
    ">     def __init__(self, inputs):\n",
    ">         initializated operations\n",
    ">\n",
    ">     def function1(self, inputs1):\n",
    ">         operations1\n",
    ">     ...\n",
    "> ```\n",
    ">> 使う場合は\n",
    ">> ```python\n",
    ">> child = ChildClass(inputs)\n",
    ">> ```\n",
    ">> として、child.変数、child.関数()のようにして使う。クラス定義中でこれらを指定するにはself.変数、self.関数名()で良い。\n"
   ]
  },
  {
   "cell_type": "markdown",
   "metadata": {},
   "source": [
    "## コメント"
   ]
  },
  {
   "cell_type": "markdown",
   "metadata": {},
   "source": [
    "### **紹介しきれなかった重要な話題**\n",
    "\n",
    "pythonの機能には他にも\n",
    "\n",
    "- ファイルの読み書き\n",
    "- 例外処理\n",
    "- ...\n",
    "\n",
    "など重要なものがあるのですが、紹介しきれませんでした。\n"
   ]
  },
  {
   "cell_type": "markdown",
   "metadata": {},
   "source": [
    "### **Python記述スタイルの規則**\n",
    "\n",
    "Pythonにはクラスの命名規則などの推奨された書き方のお作法(PEP8と呼ばれる)があります：https://pep8-ja.readthedocs.io/ja/latest/　\n",
    "\n",
    "なるべくこの作法で書くようにすると良いかと思います。\n",
    "\n",
    "jupyter notebookに、書いたコードを自動でPEP8の規則に沿って直してくれる拡張機能があるらしいです。"
   ]
  }
 ],
 "metadata": {
  "anaconda-cloud": {},
  "kernelspec": {
   "display_name": "Python 3",
   "language": "python",
   "name": "python3"
  },
  "language_info": {
   "codemirror_mode": {
    "name": "ipython",
    "version": 3
   },
   "file_extension": ".py",
   "mimetype": "text/x-python",
   "name": "python",
   "nbconvert_exporter": "python",
   "pygments_lexer": "ipython3",
   "version": "3.6.1"
  },
  "toc": {
   "base_numbering": 1,
   "nav_menu": {},
   "number_sections": false,
   "sideBar": true,
   "skip_h1_title": false,
   "title_cell": "Table of Contents",
   "title_sidebar": "Contents",
   "toc_cell": false,
   "toc_position": {
    "height": "calc(100% - 180px)",
    "left": "10px",
    "top": "150px",
    "width": "288px"
   },
   "toc_section_display": true,
   "toc_window_display": true
  }
 },
 "nbformat": 4,
 "nbformat_minor": 1
}

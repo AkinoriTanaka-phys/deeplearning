{
 "cells": [
  {
   "cell_type": "markdown",
   "metadata": {},
   "source": [
    "# **NumPy入門**\n",
    "\n",
    "\n",
    "\n",
    "まず使うためには以下のようなコマンドを打ち込みます："
   ]
  },
  {
   "cell_type": "code",
   "execution_count": 1,
   "metadata": {},
   "outputs": [],
   "source": [
    "import numpy as np"
   ]
  },
  {
   "cell_type": "markdown",
   "metadata": {},
   "source": [
    "このようにしておくと、np.commandでnumpyのコマンドを使えるようになります。numpyは配列を取り扱うライブラリーです。そこでまずはnumpy配列とは何かを説明します。"
   ]
  },
  {
   "cell_type": "markdown",
   "metadata": {},
   "source": [
    "pythonにはリスト型がありましたが、「リストのリスト」を考えることもできます。"
   ]
  },
  {
   "cell_type": "code",
   "execution_count": 32,
   "metadata": {},
   "outputs": [],
   "source": [
    "T = [[3, 1], [5, 2]]"
   ]
  },
  {
   "cell_type": "markdown",
   "metadata": {},
   "source": [
    "このリストを以下のように書くと、行列に見える気がします。\n",
    "\n",
    "```python\n",
    "T = [[3,1],\n",
    "     [5,2]]\n",
    "```\n",
    "\n",
    "リストでは T[n] でn番目の要素にアクセスできるのでした。"
   ]
  },
  {
   "cell_type": "code",
   "execution_count": 33,
   "metadata": {},
   "outputs": [
    {
     "data": {
      "text/plain": [
       "[3, 1]"
      ]
     },
     "execution_count": 33,
     "metadata": {},
     "output_type": "execute_result"
    }
   ],
   "source": [
    "x = T[0]\n",
    "x"
   ]
  },
  {
   "cell_type": "markdown",
   "metadata": {},
   "source": [
    "今、Tはリストのリストだったので、その要素xは再びリストです。このリストxの要素にアクセスするにはx[m]で良いはずです。"
   ]
  },
  {
   "cell_type": "code",
   "execution_count": 34,
   "metadata": {},
   "outputs": [
    {
     "data": {
      "text/plain": [
       "1"
      ]
     },
     "execution_count": 34,
     "metadata": {},
     "output_type": "execute_result"
    }
   ],
   "source": [
    "x[1]"
   ]
  },
  {
   "cell_type": "markdown",
   "metadata": {},
   "source": [
    "実は、xを経由しなくても直接 T[n][m]と書いても同じ結果が得られます。"
   ]
  },
  {
   "cell_type": "code",
   "execution_count": 31,
   "metadata": {},
   "outputs": [
    {
     "data": {
      "text/plain": [
       "1"
      ]
     },
     "execution_count": 31,
     "metadata": {},
     "output_type": "execute_result"
    }
   ],
   "source": [
    "T[0][1]"
   ]
  },
  {
   "cell_type": "markdown",
   "metadata": {},
   "source": [
    "添え字二つで数を指定することは、行列を定義しているのと同じです。リストの入れ子構造はもっと一般化できて、一般には以下のような添え字付けが可能です：\n",
    "\n",
    "```python\n",
    "T[k][l][m][n]...\n",
    "```\n",
    "\n",
    "numpyを用いると、このような型の値に関する計算を高速に行ってくれます。"
   ]
  },
  {
   "cell_type": "markdown",
   "metadata": {},
   "source": [
    "## **numpy配列の作り方**\n",
    "\n",
    "numpyの配列に関する処理を使うためには、配列をpythonのリストではなく、np.arrayのオブジェクトとして再定義する必要があります。\n",
    "\n",
    "> ### [**pythonリストとnumpy配列**](https://numpy.org/doc/stable/user/absolute_beginners.html#whats-the-difference-between-a-python-list-and-a-numpy-array)\n",
    ">\n",
    ">> <font color=dodgerblue> **np.array $\\leftarrow$ リスト**</font>\n",
    ">>```python\n",
    ">> x_np = np.array(x_list)\n",
    ">> ```\n",
    ">\n",
    ">> <font color=dodgerblue> **リスト $\\leftarrow$ np.array**</font>\n",
    ">>```python\n",
    ">>x_list = x_np.tolist()\n",
    ">> ```"
   ]
  },
  {
   "cell_type": "code",
   "execution_count": 13,
   "metadata": {},
   "outputs": [
    {
     "data": {
      "text/plain": [
       "array([[2, 1],\n",
       "       [5, 3]])"
      ]
     },
     "execution_count": 13,
     "metadata": {},
     "output_type": "execute_result"
    }
   ],
   "source": [
    "x_np = np.array([[2, 1], [5, 3]])\n",
    "x_np"
   ]
  },
  {
   "cell_type": "code",
   "execution_count": 14,
   "metadata": {},
   "outputs": [
    {
     "data": {
      "text/plain": [
       "[[2, 1], [5, 3]]"
      ]
     },
     "execution_count": 14,
     "metadata": {},
     "output_type": "execute_result"
    }
   ],
   "source": [
    "x_list = x_np.tolist()\n",
    "x_list"
   ]
  },
  {
   "cell_type": "markdown",
   "metadata": {},
   "source": [
    "よく使う配列は、numpy側で生成コマンドが用意されています：\n",
    "\n",
    "> ### [**便利な配列生成コマンド**](https://numpy.org/doc/stable/user/absolute_beginners.html#how-to-create-a-basic-array)\n",
    ">\n",
    ">> <font color=dodgerblue>**[0,0,...,0]や[1,1,...,1]のnp.array**</font>\n",
    ">>```python\n",
    ">>np.zeros(N)\n",
    ">>np.ones(N)\n",
    ">> ```\n",
    ">> <font color=gray> np.empty(N)というのでも0埋めできるようです。</font>\n",
    ">    \n",
    ">> <font color=dodgerblue>**[0,1,2,...N-1]のnp.array**</font>\n",
    ">>```python\n",
    ">> np.arange(N)\n",
    ">> ```\n",
    "> <font color=gray> \"range\"ではなく\"arange\"です。</font>\n",
    ">\n",
    ">> <font color=dodgerblue>**xからyまでをN等分したnp.array**</font>\n",
    ">> ```python\n",
    ">>np.linspace(x, y, N)\n",
    ">> ```\n"
   ]
  },
  {
   "cell_type": "code",
   "execution_count": 22,
   "metadata": {},
   "outputs": [
    {
     "data": {
      "text/plain": [
       "(array([0., 0., 0., 0., 0., 0., 0., 0., 0., 0.]),\n",
       " array([1., 1., 1., 1., 1., 1., 1., 1., 1., 1.]))"
      ]
     },
     "execution_count": 22,
     "metadata": {},
     "output_type": "execute_result"
    }
   ],
   "source": [
    "np.zeros(10), np.ones(10)"
   ]
  },
  {
   "cell_type": "code",
   "execution_count": 15,
   "metadata": {},
   "outputs": [
    {
     "data": {
      "text/plain": [
       "array([0, 1, 2, 3, 4, 5, 6, 7, 8, 9])"
      ]
     },
     "execution_count": 15,
     "metadata": {},
     "output_type": "execute_result"
    }
   ],
   "source": [
    "np.arange(10)"
   ]
  },
  {
   "cell_type": "code",
   "execution_count": 17,
   "metadata": {},
   "outputs": [
    {
     "data": {
      "text/plain": [
       "array([-1.        , -0.77777778, -0.55555556, -0.33333333, -0.11111111,\n",
       "        0.11111111,  0.33333333,  0.55555556,  0.77777778,  1.        ])"
      ]
     },
     "execution_count": 17,
     "metadata": {},
     "output_type": "execute_result"
    }
   ],
   "source": [
    "np.linspace(-1, 1, 10) # default N=50"
   ]
  },
  {
   "cell_type": "markdown",
   "metadata": {},
   "source": [
    "（擬似）乱数も生成できます。乱数生成に関してはnumpyのバージョン1.17.0以降で[仕様変更](https://numpy.org/doc/stable/reference/random/new-or-different.html#new-or-different)があったので注意が必要です。おそらく、しばらくは仕様変更後のコードと変更前のコードが混在すると思うので、どちらも紹介します。\n",
    "\n",
    "> ### [**乱数による配列生成(numpy.version≧1.17.0)**](https://numpy.org/doc/stable/reference/random/index.html#numpyrandom)\n",
    ">\n",
    "> <font color=dodgerblue>**擬似乱数生成器とシードの固定**</font>\n",
    "> ```python\n",
    "> rng = np.random.default_rng(seed: int)\n",
    "> ```\n",
    "> <font color=gray> default_rngはデフォルトの乱数生成器([PCG-64](https://numpy.org/doc/stable/reference/random/bit_generators/pcg64.html#numpy.random.PCG64))で、引数に整数であるseedを入力して使います。例えば以下のようにしてランダムな配列を作ることができます。\n",
    ">> <font color=dodgerblue>**N個のランダム数からなる配列生成**</font>\n",
    ">> ```python\n",
    ">> rng.uniform(xmin, xmax, N) # uniformly distributed in [xmin, xmax]\n",
    ">> rng.normal(mean, std, N) # gaussian with mean and standard deviation=std\n",
    ">> ```\n",
    "\n",
    "\n"
   ]
  },
  {
   "cell_type": "code",
   "execution_count": 41,
   "metadata": {},
   "outputs": [
    {
     "data": {
      "text/plain": [
       "array([0.68235186, 0.05382102, 0.22035987, 0.18437181, 0.1759059 ,\n",
       "       0.81209451, 0.923345  , 0.2765744 , 0.81975456, 0.88989269])"
      ]
     },
     "execution_count": 41,
     "metadata": {},
     "output_type": "execute_result"
    }
   ],
   "source": [
    "rng = np.random.default_rng(123)\n",
    "rng.uniform(0, 1, 10)"
   ]
  },
  {
   "cell_type": "markdown",
   "metadata": {},
   "source": [
    "古い方のランダム配列もまだ使えます。\n",
    "\n",
    "> ### [**乱数による配列生成(Legacy)**](https://docs.scipy.org/doc/numpy-1.16.1/reference/routines.random.html)\n",
    ">\n",
    "> <font color=dodgerblue>**擬似乱数状態とシードの固定**</font>\n",
    "> ```python\n",
    "> np.random.seed(seed: int)\n",
    "> ```\n",
    "> <font color=gray> seedの設定はなくても良いです。例えば以下のようにしてランダムな配列を作ることができます。生成器は[MT19937](https://docs.scipy.org/doc/numpy-1.16.1/reference/generated/numpy.random.get_state.html?highlight=mt19937)しか使えないと思われます。\n",
    ">> <font color=dodgerblue>**N個のランダム数からなる配列生成**</font>\n",
    ">> ```python\n",
    ">> np.random.uniform(xmin, xmax, N) # uniformly distributed in [xmin, xmax]\n",
    ">> np.random.normal(mean, std, N) # gaussian with mean and standard deviation=std\n",
    ">> ```\n"
   ]
  },
  {
   "cell_type": "code",
   "execution_count": 42,
   "metadata": {},
   "outputs": [
    {
     "data": {
      "text/plain": [
       "array([0.69646919, 0.28613933, 0.22685145, 0.55131477, 0.71946897,\n",
       "       0.42310646, 0.9807642 , 0.68482974, 0.4809319 , 0.39211752])"
      ]
     },
     "execution_count": 42,
     "metadata": {},
     "output_type": "execute_result"
    }
   ],
   "source": [
    "np.random.seed(123) # not necessary\n",
    "np.random.uniform(0, 1, 10)"
   ]
  },
  {
   "cell_type": "markdown",
   "metadata": {},
   "source": [
    "## **numpy配列の機能**\n",
    "\n",
    "np.arrayには様々な便利機能があります。"
   ]
  },
  {
   "cell_type": "markdown",
   "metadata": {},
   "source": [
    ">### [**要素にアクセスする方法**](https://numpy.org/doc/stable/user/basics.indexing.html)\n",
    ">\n",
    "> x_npをshapeが(M, N, ...)であるようなnumpy配列とします\n",
    ">> <font color=dodgerblue>**特定の要素にアクセス**</font>\n",
    ">> ```python\n",
    ">> x_np[m, n, ...]\n",
    ">> ```\n",
    ">\n",
    ">> <font color=dodgerblue>**まとめた要素にアクセス**</font>\n",
    ">> ```python\n",
    ">> x_np[m, n0:n1, ...]\n",
    ">> ```\n",
    ">> <font color=gray>n0からn1-1までの要素にアクセス。特に:だけだと、全要素にアクセスとなります。</font>\n",
    "\n"
   ]
  },
  {
   "cell_type": "code",
   "execution_count": 15,
   "metadata": {},
   "outputs": [
    {
     "data": {
      "text/plain": [
       "array([[1, 2, 3],\n",
       "       [4, 5, 6]])"
      ]
     },
     "execution_count": 15,
     "metadata": {},
     "output_type": "execute_result"
    }
   ],
   "source": [
    "x_np = np.array([[1,2,3], [4,5,6]])\n",
    "x_np"
   ]
  },
  {
   "cell_type": "code",
   "execution_count": 16,
   "metadata": {},
   "outputs": [
    {
     "data": {
      "text/plain": [
       "1"
      ]
     },
     "execution_count": 16,
     "metadata": {},
     "output_type": "execute_result"
    }
   ],
   "source": [
    "x_np[0,0]"
   ]
  },
  {
   "cell_type": "code",
   "execution_count": 18,
   "metadata": {},
   "outputs": [
    {
     "data": {
      "text/plain": [
       "array([1, 2])"
      ]
     },
     "execution_count": 18,
     "metadata": {},
     "output_type": "execute_result"
    }
   ],
   "source": [
    "x_np[0,0:2]"
   ]
  },
  {
   "cell_type": "markdown",
   "metadata": {},
   "source": [
    ">### [**データの型**](https://numpy.org/doc/stable/reference/arrays.dtypes.html?highlight=float32)\n",
    ">\n",
    ">arrayの要素を構成する数の型を**dtype**と呼びます。様々なarrayのdtypeを書くと以下のようになります。\n",
    ">\n",
    ">|array(x_np)|dtype(x_np.dtype)|\n",
    ">|:---|:---|\n",
    ">|`[1 2 3]`|`np.int`\n",
    ">|`[1.0 2.0 3.0]`|`np.float`\n",
    ">|`[1.0+0.0j 2.0+0.0j 3.0+0.0j]`|`np.complex`\n",
    ">\n",
    ">x_npをarrayとしたとき、そのdtypeはx_np.dtypeで手に入れることができます：\n",
    ">\n",
    ">> <font color=dodgerblue>**要素の型を表す変数：.dtype**</font>\n",
    ">>\n",
    ">> 既存のarrayをx_np だとします。\n",
    ">>```python\n",
    ">>x_np.dtype # -> dtype(type)\n",
    ">> ```\n",
    ">    \n",
    ">> <font color=dodgerblue>**型を変更したarrayを返す関数：.astype()**</font>\n",
    ">>\n",
    ">> 既存のarrayをx_np だとします。\n",
    ">>```python\n",
    ">>x_np = x_np.astype(dtype)\n",
    ">> ```\n",
    ">> <font color=gray> dtypeには例えば以下があります：\n",
    ">> - np.intX：Xビット整数、X=8, 16, 32, 64\n",
    ">> - np.floatX：Xビット実数、X = 16, 32, 64, 128\n",
    ">> - np.complexX：Xビット複素数、X = 64, 128, 256"
   ]
  },
  {
   "cell_type": "code",
   "execution_count": 85,
   "metadata": {},
   "outputs": [
    {
     "data": {
      "text/plain": [
       "dtype('int64')"
      ]
     },
     "execution_count": 85,
     "metadata": {},
     "output_type": "execute_result"
    }
   ],
   "source": [
    "x_np = np.array([1,2])\n",
    "x_np.dtype"
   ]
  },
  {
   "cell_type": "code",
   "execution_count": 96,
   "metadata": {},
   "outputs": [
    {
     "data": {
      "text/plain": [
       "array([1., 2.], dtype=float32)"
      ]
     },
     "execution_count": 96,
     "metadata": {},
     "output_type": "execute_result"
    }
   ],
   "source": [
    "x_np = np.array([1, 2])\n",
    "x_np = x_np.astype(np.float32)\n",
    "x_np"
   ]
  },
  {
   "cell_type": "markdown",
   "metadata": {},
   "source": [
    "ちなみにarrayを作成するときに、引数dtypeで型を指定できますが、同じことを.astype()でもできるので、後者を覚えておくのが良いかと思います："
   ]
  },
  {
   "cell_type": "code",
   "execution_count": 98,
   "metadata": {},
   "outputs": [
    {
     "data": {
      "text/plain": [
       "True"
      ]
     },
     "execution_count": 98,
     "metadata": {},
     "output_type": "execute_result"
    }
   ],
   "source": [
    "x_np1 = np.array(1, dtype=np.float32)\n",
    "x_np2 = np.array(1).astype(np.float32)\n",
    "\n",
    "x_np1 == x_np2"
   ]
  },
  {
   "cell_type": "markdown",
   "metadata": {},
   "source": [
    ">### [**データの形状**](https://numpy.org/doc/1.19/reference/generated/numpy.ndarray.shape.html#numpy.ndarray.shape)\n",
    ">\n",
    ">同じ値の要素も、色々な形状を持つことができます。numpyではこれを**shape**と呼びます。例えば 1,2,3,4,5,6 の組み合わせで様々なarrayとそのshapeを列挙すると以下のようになります。\n",
    ">\n",
    ">|array(x_np)|shape(x_np.shape)|\n",
    ">|:---|:---|\n",
    ">|`[1 2 3 4 5 6]`|`(6,)`\n",
    ">|`[[1] [2] [3] [4] [5] [6]]`|`(6, 1)`\n",
    ">|`[[1 2] [3 4] [5 6]]`|`(3, 2)`\n",
    ">|...|...\n",
    ">\n",
    ">x_npをarrayとしたとき、そのshapeはx_np.shapeで手に入れることができます：\n",
    ">\n",
    ">> <font color=dodgerblue>**形状の変数：.shape**</font>\n",
    ">>```python\n",
    ">>x_np.shape # -> (dimension0, dimension1, ...)\n",
    ">> ```\n",
    ">> <font color=gray> 出力はtupleです。</font>\n",
    ">\n",
    ">shapeを変更することも可能で、よく使います：\n",
    ">    \n",
    ">> <font color=dodgerblue>**形状変更したarrayを返す関数：.reshape()**</font>\n",
    ">>```python\n",
    ">>x_np = x_np.reshape(m, n, ...)\n",
    ">> ```\n",
    ">> <font color=gray> 新しいshapeに当てはめ直すルールは、</font>\n",
    ">>\n",
    ">> <font color=gray>1. 一旦、shapeの最後の軸から順に1列に並べる</font>\n",
    ">> ```python\n",
    ">>#example\n",
    ">>[[a b c] [d e f]] -> [a b c d e f]\n",
    ">> ```\n",
    ">> <font color=gray>2. 変換後に指定したshapeの最後の軸からまた順に並べなおす</font>\n",
    ">> ```python\n",
    ">>#example\n",
    ">>[a b c d e f] ->  [[a b] [c d] [e f]]\n",
    ">> ```\n",
    ">>\n",
    ">> となっているようです。\n"
   ]
  },
  {
   "cell_type": "code",
   "execution_count": 35,
   "metadata": {},
   "outputs": [
    {
     "data": {
      "text/plain": [
       "(2, 2)"
      ]
     },
     "execution_count": 35,
     "metadata": {},
     "output_type": "execute_result"
    }
   ],
   "source": [
    "x_np = np.array([[1,2],\n",
    "                              [3,4]])\n",
    "x_np.shape"
   ]
  },
  {
   "cell_type": "code",
   "execution_count": 40,
   "metadata": {},
   "outputs": [
    {
     "data": {
      "text/plain": [
       "array([[0, 1, 2],\n",
       "       [3, 4, 5]])"
      ]
     },
     "execution_count": 40,
     "metadata": {},
     "output_type": "execute_result"
    }
   ],
   "source": [
    "x_np = np.arange(6)\n",
    "x_np = x_np.reshape(2, 3)\n",
    "x_np"
   ]
  },
  {
   "cell_type": "markdown",
   "metadata": {},
   "source": [
    "## **numpy配列の計算**\n",
    "\n",
    "numpy配列の四則演算は、成分ごとに行われます："
   ]
  },
  {
   "cell_type": "code",
   "execution_count": 29,
   "metadata": {},
   "outputs": [
    {
     "name": "stdout",
     "output_type": "stream",
     "text": [
      "x_np =\n",
      " [[0 1 2]\n",
      " [3 4 5]]\n",
      "y_np =\n",
      " [[ 1  1  1]\n",
      " [10 10 10]]\n",
      "x_np*y_np =\n",
      " [[ 0  1  2]\n",
      " [30 40 50]]\n"
     ]
    }
   ],
   "source": [
    "x_np = np.arange(6).reshape(2, 3)\n",
    "y_np = np.array([[1, 1, 1],\n",
    "                  [10, 10, 10]])\n",
    "\n",
    "print(\"x_np =\\n\", x_np)\n",
    "print(\"y_np =\\n\", y_np)\n",
    "print(\"x_np*y_np =\\n\", x_np*y_np)"
   ]
  },
  {
   "cell_type": "markdown",
   "metadata": {},
   "source": [
    "様々な関数が使えます。\n",
    "\n",
    "> ### [**数学の関数**](https://numpy.org/doc/stable/reference/routines.math.html)\n",
    ">> <font color=dodgerblue>**初等関数**</font>\n",
    ">> ```python\n",
    ">> f(x_np)\n",
    ">> ```\n",
    ">> - 三角関数：f=np.sin, np.cos, np.tan, ...\n",
    ">> - 双曲関数：f=np.sinh, np.cosh, np.tanh, ...\n",
    ">> - 指数、対数関数：f=np.exp, np.log, ...\n",
    ">\n",
    ">> <font color=dodgerblue>**軸にわたる操作**</font>\n",
    ">> ```python\n",
    ">> f(x_np, axis: int, keepdims: bool)\n",
    ">> ```\n",
    ">>\n",
    ">> <font color=gray>axisはintか、intからなるtupleで指定し、どの軸方向に和を取るかを指定します。計算の結果、配列の次元が低くなりますが、keepdims=Trueとすると、その部分はshape1として埋めてくれます。</font>\n",
    ">> - f=np.sum：和\n",
    ">> - f=np.prod：積\n",
    ">> - f=np.max：最大値\n",
    ">> - f=np.min：最小値\n",
    ">>\n",
    ">> <font color=gray> 機械学習で特によく使うのが、統計処理です：</font>\n",
    ">> - f=np.mean：平均値\n",
    ">> - f=np.std：標準偏差\n"
   ]
  },
  {
   "cell_type": "code",
   "execution_count": 44,
   "metadata": {},
   "outputs": [
    {
     "data": {
      "text/plain": [
       "array([ 0.00000000e+00,  1.27877162e-01,  2.53654584e-01,  3.75267005e-01,\n",
       "        4.90717552e-01,  5.98110530e-01,  6.95682551e-01,  7.81831482e-01,\n",
       "        8.55142763e-01,  9.14412623e-01,  9.58667853e-01,  9.87181783e-01,\n",
       "        9.99486216e-01,  9.95379113e-01,  9.74927912e-01,  9.38468422e-01,\n",
       "        8.86599306e-01,  8.20172255e-01,  7.40277997e-01,  6.48228395e-01,\n",
       "        5.45534901e-01,  4.33883739e-01,  3.15108218e-01,  1.91158629e-01,\n",
       "        6.40702200e-02, -6.40702200e-02, -1.91158629e-01, -3.15108218e-01,\n",
       "       -4.33883739e-01, -5.45534901e-01, -6.48228395e-01, -7.40277997e-01,\n",
       "       -8.20172255e-01, -8.86599306e-01, -9.38468422e-01, -9.74927912e-01,\n",
       "       -9.95379113e-01, -9.99486216e-01, -9.87181783e-01, -9.58667853e-01,\n",
       "       -9.14412623e-01, -8.55142763e-01, -7.81831482e-01, -6.95682551e-01,\n",
       "       -5.98110530e-01, -4.90717552e-01, -3.75267005e-01, -2.53654584e-01,\n",
       "       -1.27877162e-01, -2.44929360e-16])"
      ]
     },
     "execution_count": 44,
     "metadata": {},
     "output_type": "execute_result"
    }
   ],
   "source": [
    "x_np = np.linspace(0, 2*np.pi) # np.pi = π\n",
    "np.sin(x_np)"
   ]
  },
  {
   "cell_type": "code",
   "execution_count": 58,
   "metadata": {},
   "outputs": [
    {
     "name": "stdout",
     "output_type": "stream",
     "text": [
      "[[ 0  1  2  3]\n",
      " [ 4  5  6  7]\n",
      " [ 8  9 10 11]]\n",
      "[[12 15 18 21]]\n",
      "[[ 6]\n",
      " [22]\n",
      " [38]]\n"
     ]
    }
   ],
   "source": [
    "x_np = np.arange(12).reshape(3, 4)\n",
    "f = np.sum\n",
    "print(x_np)\n",
    "print(f(x_np, axis=0, keepdims=True))\n",
    "print(f(x_np, axis=1, keepdims=True))"
   ]
  },
  {
   "cell_type": "markdown",
   "metadata": {},
   "source": [
    "> ### [**軸の入れ替え**](https://numpy.org/doc/stable/reference/generated/numpy.transpose.html#numpy.transpose)\n",
    "> ```python\n",
    "> np.transpose(x_np, axes: tuple)\n",
    "> ```\n",
    "> <font color=gray> 行列の転置に対応する操作。axesには、どのような順に入れ替えたいかを、元のarrayの軸の番号で書きます。</font>"
   ]
  },
  {
   "cell_type": "code",
   "execution_count": 63,
   "metadata": {},
   "outputs": [
    {
     "data": {
      "text/plain": [
       "array([[[ 0,  1,  2,  3],\n",
       "        [ 4,  5,  6,  7],\n",
       "        [ 8,  9, 10, 11]],\n",
       "\n",
       "       [[12, 13, 14, 15],\n",
       "        [16, 17, 18, 19],\n",
       "        [20, 21, 22, 23]]])"
      ]
     },
     "execution_count": 63,
     "metadata": {},
     "output_type": "execute_result"
    }
   ],
   "source": [
    "x_np = np.arange(24).reshape(2,3,4)\n",
    "x_np"
   ]
  },
  {
   "cell_type": "code",
   "execution_count": 65,
   "metadata": {},
   "outputs": [
    {
     "data": {
      "text/plain": [
       "array([[[ 0,  4,  8],\n",
       "        [ 1,  5,  9],\n",
       "        [ 2,  6, 10],\n",
       "        [ 3,  7, 11]],\n",
       "\n",
       "       [[12, 16, 20],\n",
       "        [13, 17, 21],\n",
       "        [14, 18, 22],\n",
       "        [15, 19, 23]]])"
      ]
     },
     "execution_count": 65,
     "metadata": {},
     "output_type": "execute_result"
    }
   ],
   "source": [
    "np.transpose(x_np, axes=(0,2,1))"
   ]
  },
  {
   "cell_type": "markdown",
   "metadata": {},
   "source": [
    "> ### [**ブロードキャスティング**](https://numpy.org/doc/1.19/user/theory.broadcasting.html#array-broadcasting-in-numpy)\n",
    "> 配列どうしの計算は、形を整えなくても、ある程度自動化されます。詳しくはリンク先を見てください。"
   ]
  },
  {
   "cell_type": "code",
   "execution_count": 59,
   "metadata": {},
   "outputs": [
    {
     "data": {
      "text/plain": [
       "array([[10, 11, 12, 13],\n",
       "       [14, 15, 16, 17],\n",
       "       [18, 19, 20, 21]])"
      ]
     },
     "execution_count": 59,
     "metadata": {},
     "output_type": "execute_result"
    }
   ],
   "source": [
    "x_np = np.arange(12).reshape(3, 4)\n",
    "x_np + 10"
   ]
  }
 ],
 "metadata": {
  "kernelspec": {
   "display_name": "Python 3",
   "language": "python",
   "name": "python3"
  },
  "language_info": {
   "codemirror_mode": {
    "name": "ipython",
    "version": 3
   },
   "file_extension": ".py",
   "mimetype": "text/x-python",
   "name": "python",
   "nbconvert_exporter": "python",
   "pygments_lexer": "ipython3",
   "version": "3.6.1"
  },
  "toc": {
   "base_numbering": 1,
   "nav_menu": {},
   "number_sections": false,
   "sideBar": true,
   "skip_h1_title": false,
   "title_cell": "Table of Contents",
   "title_sidebar": "Contents",
   "toc_cell": false,
   "toc_position": {
    "height": "calc(100% - 180px)",
    "left": "10px",
    "top": "150px",
    "width": "337.0625px"
   },
   "toc_section_display": true,
   "toc_window_display": true
  }
 },
 "nbformat": 4,
 "nbformat_minor": 4
}

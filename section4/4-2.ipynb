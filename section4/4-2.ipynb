{
 "cells": [
  {
   "cell_type": "code",
   "execution_count": 1,
   "metadata": {
    "collapsed": true
   },
   "outputs": [],
   "source": [
    "import tensorflow as tf\n",
    "import numpy as np\n",
    "import matplotlib.pyplot as plt\n",
    "\n",
    "def get_elocutions(path):\n",
    "    ''' 全ての台詞を取り出す処理 '''\n",
    "    with open(path, encoding='utf-8') as f:\n",
    "        ls = f.readlines()\n",
    "        #print(ls)\n",
    "        start_elocution = True\n",
    "        elocutions = []\n",
    "        for i in range(len(ls)):\n",
    "            if start_elocution:\n",
    "                elocution = [ls[i]]\n",
    "                start_elocution = False\n",
    "            elif ls[i]=='\\n':\n",
    "                elocution.append('*')\n",
    "                elocutions.append(\"\".join(elocution))\n",
    "                start_elocution = True\n",
    "            else:\n",
    "                elocution.append(ls[i])\n",
    "                start_elocution = False\n",
    "    return elocutions\n",
    "\n",
    "def return_processed(X, T, lower_bound=10):\n",
    "    ''' 入力Xに対し、lower_bound < 文字の長さ < T の台詞のみ取る処理 '''\n",
    "    if len(X)>T or len(X)<lower_bound:\n",
    "        return None\n",
    "    else:\n",
    "        return X.ljust(T, '*')\n",
    "\n",
    "def preprocessing(corpus, T=80):\n",
    "    ''' corpusの台詞X毎に return_processed をかける '''\n",
    "    preprocessed_corpus = []\n",
    "    for X in corpus:\n",
    "        X_ = return_processed(X, T)\n",
    "        if X_ is not None:\n",
    "            preprocessed_corpus.append(X_)\n",
    "    return preprocessed_corpus\n",
    "\n",
    "def get_corpus(path, T=80):\n",
    "    ''' 前処理したコーパスを返す '''\n",
    "    corpus = get_elocutions(path)\n",
    "    return preprocessing(corpus, T=T)\n",
    "\n",
    "class Generator(tf.keras.Model): # モデル設計\n",
    "    def __init__(self):\n",
    "        super(Generator, self).__init__()\n",
    "    def sample_from(self, start_string, num_string=100):\n",
    "        ''' This function is derived from the function `generate_text` in\n",
    "        https://www.tensorflow.org/tutorials/text/text_generation \n",
    "        which is licensed under Apache 2.0 License. '''\n",
    "        input_nums = tf.expand_dims([char2idx[c] for c in start_string], 0)\n",
    "        text_generated = []\n",
    "        model.reset_states()\n",
    "        for i in range(num_string):\n",
    "            if char2idx['*'] in input_nums.numpy():\n",
    "                break\n",
    "            #print(input_nums)\n",
    "            z = self(input_nums)[:,-1,:]\n",
    "            predicted_id = tf.random.categorical(z, num_samples=1) # このサンプリングは logit を指定して softmax からサンプリング\n",
    "            text_generated.append(tf.squeeze(predicted_id).numpy())\n",
    "            input_nums = predicted_id\n",
    "        print(start_string+\"\".join([idx2char[g] for g in text_generated]))"
   ]
  },
  {
   "cell_type": "markdown",
   "metadata": {},
   "source": [
    "## 4-2. 離散値データと分散表現\n",
    "### シェイクスピア・データセット\n",
    "\n",
    "> この節と次節は[tensorflowのチュートリアル](https://www.tensorflow.org/tutorials/text/text_generation?hl=ja)では同じデータを使って、以下の説明と似たことが説明されていますが、このように台詞に分けずに学習を行っています。そのようにするとGPUの処理などのコーディングがこのノートに比べ楽になりますが、このノートでは確率論的な説明を優先するためこのようなデータ形式を採用します。\n",
    "\n",
    "tensorflowを使って、シェイクスピアのデータをダウンロードできます："
   ]
  },
  {
   "cell_type": "code",
   "execution_count": 2,
   "metadata": {
    "collapsed": true
   },
   "outputs": [],
   "source": [
    "''' This code is derived from https://www.tensorflow.org/tutorials/text/text_generation \n",
    "    which is licensed under Apache 2.0 License. '''\n",
    "path = tf.keras.utils.get_file('shakespeare.txt', 'https://storage.googleapis.com/download.tensorflow.org/data/shakespeare.txt')"
   ]
  },
  {
   "cell_type": "markdown",
   "metadata": {},
   "source": [
    "`get_corpus`という関数を定義しておきました。これを使うと、以下のようにデータを「戯曲の各登場人物＋台詞」のリスト=`corpus`に分解できます："
   ]
  },
  {
   "cell_type": "code",
   "execution_count": 3,
   "metadata": {
    "collapsed": false
   },
   "outputs": [
    {
     "name": "stdout",
     "output_type": "stream",
     "text": [
      "台詞数 N=3461\n",
      "\n",
      "Boatswain:\n",
      "What, must our mouths be cold?\n",
      "**************************************\n",
      "Nurse:\n",
      "She's dead, deceased, she's dead; alack the day!\n",
      "************************\n",
      "BRUTUS:\n",
      "He's poor in no one fault, but stored with all.\n",
      "************************\n",
      "KING EDWARD IV:\n",
      "Huntsman, what say'st thou? wilt thou go along?\n",
      "****************\n",
      "Clown:\n",
      "Fear not thou, man, thou shalt lose nothing here.\n",
      "***********************\n"
     ]
    }
   ],
   "source": [
    "corpus = get_corpus(path)\n",
    "N = len(corpus)\n",
    "print(\"台詞数 N=%d\\n\"%N)\n",
    "\n",
    "for _ in range(5):\n",
    "    i = np.random.randint(len(corpus))\n",
    "    print(corpus[i])"
   ]
  },
  {
   "cell_type": "markdown",
   "metadata": {},
   "source": [
    "それぞれ\n",
    "- `corpus = [台詞1, 台詞2, ... ]`\n",
    "- `台詞 = \"xxxxx***\"` (*は終わりを表すトークンで、文字数を 80 に揃えるために挿入、tensorflowの関数でも処理できますが、ここではpythonで書きました。)\n",
    "\n",
    "のような構成になっています。`N`はこのデータに含まれる全台詞の数です。今回はこれをデータセットとします。\n",
    "\n",
    "\n",
    "\n",
    "\n"
   ]
  },
  {
   "cell_type": "markdown",
   "metadata": {},
   "source": [
    "この中で出現する文字を重複を除き数えると"
   ]
  },
  {
   "cell_type": "code",
   "execution_count": 4,
   "metadata": {
    "collapsed": false
   },
   "outputs": [
    {
     "name": "stdout",
     "output_type": "stream",
     "text": [
      "['\\n', ' ', '!', '&', \"'\", '*', ',', '-', '.', '3', ':', ';', '?', 'A', 'B', 'C', 'D', 'E', 'F', 'G', 'H', 'I', 'J', 'K', 'L', 'M', 'N', 'O', 'P', 'Q', 'R', 'S', 'T', 'U', 'V', 'W', 'X', 'Y', 'Z', 'a', 'b', 'c', 'd', 'e', 'f', 'g', 'h', 'i', 'j', 'k', 'l', 'm', 'n', 'o', 'p', 'q', 'r', 's', 't', 'u', 'v', 'w', 'x', 'y', 'z']\n",
      "65 種類\n"
     ]
    }
   ],
   "source": [
    "''' This code is derived from https://www.tensorflow.org/tutorials/text/text_generation \n",
    "    which is licensed under Apache 2.0 License. '''\n",
    "chars = sorted(set(str(\"\".join(corpus))))\n",
    "print(chars); print(len(chars), \"種類\")"
   ]
  },
  {
   "cell_type": "markdown",
   "metadata": {},
   "source": [
    "のように13種類の（!, ?, ;や半角スペースや改行\\nなどの）特殊文字＋アルファベット26種類 $\\times$ (大文字, 小文字)＝52種類の計65種類からなる文字の集まりから構成されているのがわかります。これを\n",
    "\n",
    "$$\n",
    "\\mathcal{S}_{chars} = \\{\\text{'$\\backslash$n', ' ', '!', ..., 'A', 'B', 'C', ..., 'a', 'b', 'c', ...} \\}\n",
    "$$\n",
    "\n",
    "と呼びましょう。各データはさっきも表示しましたが、改行コードなども明示的に表示させると："
   ]
  },
  {
   "cell_type": "code",
   "execution_count": 5,
   "metadata": {
    "collapsed": false
   },
   "outputs": [
    {
     "name": "stdout",
     "output_type": "stream",
     "text": [
      "['F', 'i', 'r', 's', 't', ' ', 'W', 'a', 't', 'c', 'h', 'm', 'a', 'n', ':', '\\n', \"'\", 'T', 'i', 's', ' ', 't', 'h', 'e', ' ', 'L', 'o', 'r', 'd', ' ', 'H', 'a', 's', 't', 'i', 'n', 'g', 's', ',', ' ', 't', 'h', 'e', ' ', 'k', 'i', 'n', 'g', \"'\", 's', ' ', 'c', 'h', 'i', 'e', 'f', 'e', 's', 't', ' ', 'f', 'r', 'i', 'e', 'n', 'd', '.', '\\n', '*', '*', '*', '*', '*', '*', '*', '*', '*', '*', '*', '*']\n"
     ]
    }
   ],
   "source": [
    "i = np.random.randint(len(corpus))\n",
    "print(list(corpus[i]))"
   ]
  },
  {
   "cell_type": "markdown",
   "metadata": {},
   "source": [
    "のように、一文字ずつのリスト＝各データ、となっています。\n",
    "\n",
    "### 離散値データの表現\n",
    "\n"
   ]
  },
  {
   "cell_type": "markdown",
   "metadata": {},
   "source": [
    "#### インデックスによる表現(one-hot表現)\n",
    "コンピュータ上で文字がどのように処理されているかですが、例えば [ASCII](https://ja.wikipedia.org/wiki/ASCII) と呼ばれる規格では、整数値にそれぞれの文字を割り振っています："
   ]
  },
  {
   "cell_type": "code",
   "execution_count": 6,
   "metadata": {
    "collapsed": false
   },
   "outputs": [
    {
     "data": {
      "text/plain": [
       "(65, 66, 67, 68)"
      ]
     },
     "execution_count": 6,
     "metadata": {},
     "output_type": "execute_result"
    }
   ],
   "source": [
    "ord('A'), ord('B'), ord('C'), ord('D')"
   ]
  },
  {
   "cell_type": "markdown",
   "metadata": {},
   "source": [
    "今回はASCIIと似た戦法で、 $\\mathcal{S}_{chars}$ の頭から順に 0,1,2,...,64 と呼ぶことにします："
   ]
  },
  {
   "cell_type": "code",
   "execution_count": 7,
   "metadata": {
    "collapsed": false
   },
   "outputs": [
    {
     "data": {
      "text/plain": [
       "(13, 14, 15, 16)"
      ]
     },
     "execution_count": 7,
     "metadata": {},
     "output_type": "execute_result"
    }
   ],
   "source": [
    "''' This code is derived from https://www.tensorflow.org/tutorials/text/text_generation \n",
    "    which is licensed under Apache 2.0 License. '''\n",
    "char2idx = {u:i for i, u in enumerate(chars)}\n",
    "char2idx['A'], char2idx['B'], char2idx['C'], char2idx['D']"
   ]
  },
  {
   "cell_type": "markdown",
   "metadata": {},
   "source": [
    "この写像の逆変換も後から使うので作っておきます。単にインデックス入力に対応した配列として $\\mathcal{S}_{chars}$ を実装すればよいだけです："
   ]
  },
  {
   "cell_type": "code",
   "execution_count": 8,
   "metadata": {
    "collapsed": false
   },
   "outputs": [
    {
     "data": {
      "text/plain": [
       "('A', 'B', 'C', 'D')"
      ]
     },
     "execution_count": 8,
     "metadata": {},
     "output_type": "execute_result"
    }
   ],
   "source": [
    "''' This code is derived from https://www.tensorflow.org/tutorials/text/text_generation \n",
    "    which is licensed under Apache 2.0 License. '''\n",
    "idx2char = np.array(chars)\n",
    "idx2char[13], idx2char[14], idx2char[15], idx2char[16]"
   ]
  },
  {
   "cell_type": "markdown",
   "metadata": {},
   "source": [
    "$$\n",
    "\\mathcal{S}_{chars} = \\{\\underbrace{\\text{'$\\backslash$n'}}_0, \\underbrace{\\text{' '}}_1, \\underbrace{\\text{'!'}}_2, \\dots, \\underbrace{\\text{'A'}}_{13}, \\underbrace{\\text{'B'}}_{14}, \\underbrace{\\text{'C'}}_{15}, \\dots, \\underbrace{\\text{'a'}}_{39}, \\underbrace{\\text{'b'}}_{40}, \\underbrace{\\text{'c'}}_{41}, \\dots \\}\n",
    "$$\n",
    "\n",
    "以後、$\\mathcal{S}_{chars}$ の要素は整数とし、 $n$ で表すことにします。すると各セリフは **数値 $n$ の集まり** \n",
    "\n",
    "$$\n",
    "{\\bf n} = [n_0, n_1, \\dots, n_{T-1}]\n",
    "$$\n",
    "\n",
    "で表すことができます。"
   ]
  },
  {
   "cell_type": "code",
   "execution_count": 9,
   "metadata": {
    "collapsed": false
   },
   "outputs": [
    {
     "name": "stdout",
     "output_type": "stream",
     "text": [
      "BRAKENBURY:\n",
      "Why looks your grace so heavily today?\n",
      "*****************************\n",
      "[14, 30, 13, 23, 17, 26, 14, 33, 30, 37, 10, 0, 35, 46, 63, 1, 50, 53, 53, 49, 57, 1, 63, 53, 59, 56, 1, 45, 56, 39, 41, 43, 1, 57, 53, 1, 46, 43, 39, 60, 47, 50, 63, 1, 58, 53, 42, 39, 63, 12, 0, 5, 5, 5, 5, 5, 5, 5, 5, 5, 5, 5, 5, 5, 5, 5, 5, 5, 5, 5, 5, 5, 5, 5, 5, 5, 5, 5, 5, 5]\n"
     ]
    }
   ],
   "source": [
    "i = np.random.randint(len(corpus))\n",
    "print(corpus[i])\n",
    "print([char2idx[c] for c in corpus[i]])"
   ]
  },
  {
   "cell_type": "markdown",
   "metadata": {},
   "source": [
    "コーパスを数値化した`corpus_num`を作っておきます："
   ]
  },
  {
   "cell_type": "code",
   "execution_count": 10,
   "metadata": {
    "collapsed": false
   },
   "outputs": [
    {
     "name": "stdout",
     "output_type": "stream",
     "text": [
      "First Citizen:\n",
      "Before we proceed any further, hear me speak.\n",
      "******************* \n",
      " [18 47 56 57 58  1 15 47 58 47 64 43 52 10  0 14 43 44 53 56 43  1 61 43\n",
      "  1 54 56 53 41 43 43 42  1 39 52 63  1 44 59 56 58 46 43 56  6  1 46 43\n",
      " 39 56  1 51 43  1 57 54 43 39 49  8  0  5  5  5  5  5  5  5  5  5  5  5\n",
      "  5  5  5  5  5  5  5  5]\n"
     ]
    }
   ],
   "source": [
    "corpus_num = np.array([[char2idx[c] for c in n] for n in corpus])\n",
    "print(corpus[0], '\\n', corpus_num[0])"
   ]
  },
  {
   "cell_type": "markdown",
   "metadata": {},
   "source": [
    "尚、同値な表現として、**one-hot表現** というものがあります。これは\n",
    "\n",
    "$$\n",
    "n \\leftrightarrow \\vec{n} = [0, \\dots, 0, \\overbrace{1}^{n-th}, 0, \\dots, 0]\n",
    "$$\n",
    "\n",
    "のように、$n$ 番目の成分のみ1であるようなベクトル表現のことを指します。"
   ]
  },
  {
   "cell_type": "markdown",
   "metadata": {},
   "source": [
    "#### 2進数表現\n",
    "整数をベクトルとして表現したい場合、one-hot表現だけしか無いわけではありません。例えば 10進数 $n$ を 2進数表示して、桁ごとに区切る方法も考えられます。（10進数のまま桁ごとに区切ってもベクトル化できますが、あまり使われない気がします。）\n",
    "\n",
    "2進数表現はまた後ほど使うので、そこで詳しく説明します。"
   ]
  },
  {
   "cell_type": "markdown",
   "metadata": {},
   "source": [
    "#### 分散表現\n",
    "分散表現は、もっと幾何的にベクトル化する方法です。深層学習では分散表現は訓練対象である場合が多く、離散値から何らかの次元のベクトルへの埋め込み方\n",
    "\n",
    "$$\n",
    "n_t \\to {\\bf e}[n_t]\n",
    "$$\n",
    "\n",
    "が訓練対象になります。one-hot表現を使うと単なる線形変換で表現できます: ${\\bf e}[n] = W \\vec{n}= (W_{i n})_{i=1, 2, \\dots}$ \n",
    "\n",
    "が、専用のコマンドがあります："
   ]
  },
  {
   "cell_type": "code",
   "execution_count": 11,
   "metadata": {
    "collapsed": true
   },
   "outputs": [],
   "source": [
    "emb = tf.keras.layers.Embedding(len(chars), 2)"
   ]
  },
  {
   "cell_type": "markdown",
   "metadata": {},
   "source": [
    "これで適当に初期化された２次元の分散表現を得ることができます："
   ]
  },
  {
   "cell_type": "code",
   "execution_count": 22,
   "metadata": {
    "collapsed": false,
    "scrolled": false
   },
   "outputs": [
    {
     "data": {
      "image/png": "[encoded data removed]",
      "text/plain": [
       "<Figure size 720x720 with 1 Axes>"
      ]
     },
     "metadata": {},
     "output_type": "display_data"
    }
   ],
   "source": [
    "plt.figure(figsize=(10,10))\n",
    "for nt in range(len(chars)):\n",
    "    xn = emb(nt).numpy()\n",
    "    plt.scatter(xn[0], xn[1])\n",
    "    plt.annotate(r'${\\bf e}[%d]$=(%s)'%(nt,idx2char[nt]), (xn[0], xn[1]), size=12)\n",
    "plt.show()"
   ]
  },
  {
   "cell_type": "markdown",
   "metadata": {},
   "source": [
    "ここでは説明のために2次元に取りましたが、もっと高次元に埋め込む場合が多いようです。以下でニューラルネットワークを構成する際、一層目にこの分散表現を使います。"
   ]
  },
  {
   "cell_type": "markdown",
   "metadata": {},
   "source": [
    "\n",
    "\n",
    "### 無限の猿定理\n",
    "[無限の猿定理](https://ja.wikipedia.org/wiki/無限の猿定理) という話があります。これは **猿が（ランダムに）タイプすることでシェイクスピアの作品を生成する** という「ゼロではない可能性」が無限回試行すれば起こり得る、という類の無限に関する話です。今回は規模を縮小して\n",
    "- 猿がシェイクスピアのような台詞 ${\\bf n}$ を書く確率\n",
    "\n",
    "を考えてみます。これまでの理論部分で、データ生成確率 $p$ とモデル $q$ を考えていましたが、ここでも同じことで ${\\bf n}=[n_0, n_1, \\dots, n_{T-1}]$ を生成する確率をそれぞれ\n",
    "- シェイクスピア：$p({\\bf n})$\n",
    "- 猿：$q_{monkey}({\\bf n})$\n",
    "\n",
    "としましょう。更に、猿はとりあえず文脈を把握しておらず、各時刻でどの文字をタイプするかは独立だとします：時刻 $t$ で1文字 $n_t$ をタイプする確率 $q_{monkey}(n_t)$ があるとして\n",
    "\n",
    "$$\n",
    "q_{monkey}({\\bf n}) = \\prod_{t=0}^{T-1} q_{monkey}(n_t)\n",
    "$$\n",
    "\n",
    "ということにします（猿には少々失礼な仮定かもしれませんが）。例えば1文字打つ確率がすべての文字を当確率（つまりランダム）だとすると\n",
    "\n",
    "$$\n",
    "q_{monkey}(n_t) = \\frac{1}{|\\mathcal{S}_{chars}|} = \\frac{1}{65}\n",
    "$$\n",
    "\n",
    "です。すると、$q_{monkey}({\\bf n}) = \\Big( \\frac{1}{65}\\Big)^{T}$です。確かに厳密に言えばゼロではないですが、これはほぼ無いと言えるでしょう。一応この **猿＝完全ランダムモデル** で生成してみると：\n",
    "\n"
   ]
  },
  {
   "cell_type": "code",
   "execution_count": 12,
   "metadata": {
    "collapsed": false
   },
   "outputs": [
    {
     "name": "stdout",
     "output_type": "stream",
     "text": [
      "l\n",
      " pq\n",
      "lYsLn:RmvlxPC!TFW,E;XI!'\n",
      "faPkOFk YUjHquVPNg.Elvwwlorq&VDvkZJN&q;lq'WVeiC&*XdBdREd&IOL.YkBvMuWS\n"
     ]
    }
   ],
   "source": [
    "T = 100\n",
    "n = np.random.choice(chars, T)\n",
    "print(\"\".join([nt for nt in n]))"
   ]
  },
  {
   "cell_type": "markdown",
   "metadata": {},
   "source": [
    "のようになり、シェイクスピアの戯曲を書くにはかなり遠そうなことがわかります。"
   ]
  },
  {
   "cell_type": "markdown",
   "metadata": {},
   "source": [
    "### ニューラルネットワークでまねてみる\n",
    "ここでは`corpus`または`corpus_num`を、一つの台詞 ${\\bf n}$ をシェイクスピアが書く確率を $p({\\bf n})$ として、その確率分布から独立に $N$ 個のサンプリング\n",
    "\n",
    "$$\n",
    "\\text{corpus}=\\mathcal{D}_N = \\{ {\\bf n}_1, {\\bf n}_2, ..., {\\bf n}_N\\} \\sim p({\\bf n})^N\n",
    "$$\n",
    "\n",
    "だと思っているわけですが、$p({\\bf n})$を真似るモデル $q({\\bf n})$ を考えるには、まず $p$ がどのような構造を持つべきか考えると良さそうです。そもそも、台詞は\n",
    "\n",
    "$$\n",
    "{\\bf n} = [n_0, n_1, \\dots, n_{T-1}]\n",
    "$$\n",
    "\n",
    "の順に意味があるため、単に1文字出る確率 $q(n_t)$ を考えるのでは順序を捉えられそうにないのでだめでしょう。とりあえず台詞の生成は**マルコフ性**を持つ、と考えてみます。つまり\n",
    "\n",
    "$$\n",
    "q_{Markov}({\\bf n}) = q(n_0)\\prod_{t=0}^{T-2} q_{Markov}(n_{t+1}\\mid n_t) \n",
    "$$\n",
    "\n",
    "だと考えてみます。最初の確率 $q(n_0)$ としては例えば、台詞は役名から始まるので、大文字から始まるでしょうから、大文字26種類からランダムに取るとしましょう。ここでは$q_{Markov}(n_t\\mid n_{t-1})$ に注目してください。これは条件付き確率で、**丁度ニューラルネットワーク** を導入できる形式になっています。そこで\n",
    "\n",
    "$$\n",
    "q_{Markov}(n_{t+1}\\mid n_t) = q_{\\theta}(n_{t+1}\\mid n_t)  \n",
    "$$\n",
    "\n",
    "として、機械学習にかけてみましょう。ここでは分散表現を用いた以下のような構造を持つネットワーク\n",
    "\n",
    "![alt](markov.jpg)\n",
    "\n",
    "$$\n",
    "\\left\\{ \\begin{array}{ll}\n",
    "{\\bf e}_t={\\color{red}{l_{emb}}}(n_t) & \\color{red}{\\text{Embedding}}\n",
    "\\\\\n",
    "{\\bf h}_t = \\tanh({\\color{red}{l_h}}({\\bf e}_t))= \\tanh({\\color{red}{W_h}}{\\bf e}_t + {\\color{red}{b_h}}) & \\color{red}{\\text{Dense}}\n",
    "\\\\\n",
    "{\\bf z}_t = {\\color{red}{l_z}}({\\bf h}_t)={\\color{red}{W_z}} {\\bf h}_t + {\\color{red}{b_z}} & \\color{red}{\\text{Dense}}\n",
    "\\\\\n",
    "q_{\\color{red}{\\theta}}(n\\mid n_t) = [{\\bf \\color{blue}{\\sigma}}({\\bf z}_t)]_{n\\text{-th component}} & \\color{blue}{\\text{Softmax}}\n",
    "\\end{array} \\right.\n",
    "$$\n",
    "\n",
    "を使ってみます：\n",
    "\n",
    "\n",
    "\n",
    "\n"
   ]
  },
  {
   "cell_type": "code",
   "execution_count": 13,
   "metadata": {
    "collapsed": true
   },
   "outputs": [],
   "source": [
    "class Markov(Generator): # モデル設計\n",
    "    def __init__(self, emb_dim, hidden_dim):\n",
    "        super(Markov, self).__init__()\n",
    "        self.l_emb= tf.keras.layers.Embedding(len(chars), emb_dim)\n",
    "        self.l_h = tf.keras.layers.Dense(units=hidden_dim)\n",
    "        self.l_z = tf.keras.layers.Dense(units=len(chars))\n",
    "    def call(self, nt):\n",
    "        e = self.l_emb(nt)\n",
    "        h = tf.keras.activations.tanh(self.l_h(e))\n",
    "        z = self.l_z(h)\n",
    "        return z"
   ]
  },
  {
   "cell_type": "markdown",
   "metadata": {},
   "source": [
    "これを使えば、自身のsoftmax出力＝確率からのサンプリングを次の文字と思って、次々に文字が生成できます：\n",
    "\n",
    "![alt](markov2.jpg)\n",
    "\n",
    "モデルを実際に適当な初期化の元、オブジェクトとして作って文字列を生成してみると以下のような感じです："
   ]
  },
  {
   "cell_type": "code",
   "execution_count": 14,
   "metadata": {
    "collapsed": false,
    "scrolled": true
   },
   "outputs": [
    {
     "name": "stdout",
     "output_type": "stream",
     "text": [
      "SOHc*\n"
     ]
    }
   ],
   "source": [
    "model= Markov(1,1)\n",
    "model.sample_from(\"S\", num_string=100) # * が生成されたら止まります。"
   ]
  },
  {
   "cell_type": "markdown",
   "metadata": {},
   "source": [
    "このモデルを訓練することを考えてみましょう。\n",
    "#### 汎化誤差、経験誤差\n",
    "これまで通り汎化誤差は $D_{KL}(p\\|q)$ として、経験誤差は\n",
    "\n",
    "$$\n",
    "L(\\theta; \\mathcal{D}_N) = \\frac{1}{N} \\sum_{i=1}^N (- \\log q_\\theta({\\bf n}_i))\n",
    "$$\n",
    "\n",
    "ですので、1台詞サンプル ${\\bf n}_i=[n_0, n_1, \\dots, n_{T-1}]$ あたりの負の対数尤度を考えればそれの $N$ 平均が経験誤差となります。１サンプルあたりの負の対数尤度 $L(\\theta; \\{{\\bf n}\\})$ は\n",
    "\n",
    "$$ - \\log q_\\theta({\\bf n}) =  - \\log q(n_0) \\prod_{t=0}^{T-2}q_\\theta(n_{t+1} \\mid n_t) = {\\color{blue}{L(\\theta; \\{{\\bf n}\\})}}\n",
    "$$\n",
    "\n",
    "です。$q(x_0)$ を後で固定した確率分布に取るので、学習パラメータ $\\theta$ に依存しないため、結局 $L(\\theta; \\{{\\bf n}\\})$ を下げることが、データ ${\\bf n}$ に含まれる文字の順でサンプルが生成される確率を上げるという意味になっています。$-\\log$ を先に取ると積は和になりますから、$q_\\theta$ が最後はsoftmax関数でモデル化していたことを思い出すと、\n",
    "\n",
    "$$ \n",
    "{\\color{blue}{L(\\theta;\\{ {\\bf n} \\})}} = - \\sum_{t=0}^{T-2} \\log q_\\theta(n_{t+1} \\mid n_t)= - \\sum_{t=0}^{T-2} \\Big({\\bf \\log} {\\bf \\sigma}_{softmax}({\\bf z}_t )\\Big)_{{n_t}\\text{-th comp}} =\n",
    "\\sum_{t=0}^{T-2} L_{softmax}\\big(n_{t+1}, {\\bf \\sigma}_{softmax}({\\bf z}_t ) \\big) \n",
    "$$\n",
    "\n",
    "と、各時刻毎の「次の文字とその予測の間のsoftmaxクロスエントロピーを時間で足し上げたもの」が誤差関数であることがわかります。すると、$n_{T-1}$ だけ除いた文字列 ${\\bf x}$ を入力信号、 $n_0$だけ除いた文字列 ${\\bf y}$ を教師信号と思って、あたかも教師あり学習かのように書くことができます：\n",
    "\n",
    "![alt](markov4.jpg)\n",
    "\n",
    "\n"
   ]
  },
  {
   "cell_type": "markdown",
   "metadata": {},
   "source": [
    "#### データから誤差関数の実装\n",
    "${\\bf x}$：入力データ($n_{T-1}$ だけ除いた文字列)|${\\bf y}$：教師データ($n_{0}$ だけ除いた文字列)\n",
    ":---:|:---:\n",
    "$[n_0, n_1, \\dots, n_{T-2}]$|$[n_1, n_2, \\dots, n_{T-1}]$\n",
    "\n",
    "と見なして教師あり学習できることが分かったので、あらかじめデータを\n",
    "\n",
    "$$\n",
    "\\mathcal{D}_N = \\Big\\{ {\\bf n}^{(1)} , \\quad {\\bf n}^{(2)} , \\quad\\dots \\Big\\}\n",
    "$$\n",
    "\n",
    "と考えるのではなく、これと同型な\n",
    "\n",
    "$$\n",
    "\\mathcal{D}_N = \\Big\\{ (\\bf x^{(1)}, {\\bf y}^{(1)}), \\quad (\\bf x^{(2)}, {\\bf y}^{(2)}), \\quad \\dots \\Big\\}\n",
    "$$\n",
    "\n",
    "だと見なしましょう。これは以下のようなコマンドで作ることができます。"
   ]
  },
  {
   "cell_type": "code",
   "execution_count": 15,
   "metadata": {
    "collapsed": false
   },
   "outputs": [
    {
     "name": "stdout",
     "output_type": "stream",
     "text": [
      "x= tf.Tensor(\n",
      "[18 47 56 57 58  1 15 47 58 47 64 43 52 10  0 14 43 44 53 56 43  1 61 43\n",
      "  1 54 56 53 41 43 43 42  1 39 52 63  1 44 59 56 58 46 43 56  6  1 46 43\n",
      " 39 56  1 51 43  1 57 54 43 39 49  8  0  5  5  5  5  5  5  5  5  5  5  5\n",
      "  5  5  5  5  5  5  5], shape=(79,), dtype=int64)\n",
      "y= tf.Tensor(\n",
      "[47 56 57 58  1 15 47 58 47 64 43 52 10  0 14 43 44 53 56 43  1 61 43  1\n",
      " 54 56 53 41 43 43 42  1 39 52 63  1 44 59 56 58 46 43 56  6  1 46 43 39\n",
      " 56  1 51 43  1 57 54 43 39 49  8  0  5  5  5  5  5  5  5  5  5  5  5  5\n",
      "  5  5  5  5  5  5  5], shape=(79,), dtype=int64)\n"
     ]
    }
   ],
   "source": [
    "''' This code is derived from functions prepareing `dataset` object in \n",
    "    https://www.tensorflow.org/tutorials/text/text_generation which is licensed under Apache 2.0 License. '''\n",
    "D = tf.data.Dataset.from_tensor_slices(corpus_num)\n",
    "f = lambda n: (n[:-1], n[1:])\n",
    "D = D.map(f)\n",
    "\n",
    "for (x, y) in D.take(1):\n",
    "    print(\"x=\", x)\n",
    "    print(\"y=\", y)"
   ]
  },
  {
   "cell_type": "markdown",
   "metadata": {},
   "source": [
    "誤差関数は上で説明したように、各 $t$ の誤差の和\n",
    "\n",
    "$$\n",
    "L({\\bf y}, model({\\bf x})) = \\sum_{t=0}^{T-2} L_{softmax}(n_{t+1}, \\underbrace{model(n_t)}_{{\\bf \\sigma}({\\bf z}_t)})\n",
    "$$\n",
    "\n",
    "なのですが、今のデータ形式では"
   ]
  },
  {
   "cell_type": "code",
   "execution_count": 16,
   "metadata": {
    "collapsed": false
   },
   "outputs": [
    {
     "name": "stdout",
     "output_type": "stream",
     "text": [
      "tf.Tensor(\n",
      "[4.194728  4.1714563 4.168303  4.1747737 4.1414847 4.1660385 4.1127143\n",
      " 4.1524386 4.1641912 4.14454   4.1425385 4.1772213 4.172122  4.209669\n",
      " 4.2049527 4.160085  4.2067733 4.1902823 4.2153435 4.19617   4.136768\n",
      " 4.1741676 4.1675963 4.136768  4.18212   4.148957  4.144289  4.1870117\n",
      " 4.1680865 4.211338  4.1836004 4.149681  4.1699243 4.2101874 4.1624427\n",
      " 4.1753488 4.168456  4.1514997 4.1580896 4.1771946 4.147566  4.154824\n",
      " 4.12127   4.1632433 4.1716886 4.191299  4.154824  4.21504   4.113487\n",
      " 4.135355  4.202867  4.216572  4.136768  4.173488  4.1893177 4.1805544\n",
      " 4.21504   4.2035832 4.1819816 4.1828103 4.1720543 4.1366353 4.1366353\n",
      " 4.1366353 4.1366353 4.1366353 4.1366353 4.1366353 4.1366353 4.1366353\n",
      " 4.1366353 4.1366353 4.1366353 4.1366353 4.1366353 4.1366353 4.1366353\n",
      " 4.1366353 4.1366353], shape=(79,), dtype=float32)\n"
     ]
    }
   ],
   "source": [
    "model = Markov(emb_dim=256, hidden_dim=1024)\n",
    "\n",
    "for (x, y) in D.take(1):\n",
    "    print(tf.keras.losses.sparse_categorical_crossentropy(y, model(x), from_logits=True)) # z=model(x) は logit"
   ]
  },
  {
   "cell_type": "markdown",
   "metadata": {},
   "source": [
    "のように、各 $t$ での $L_{softmax}$ の値を並べてベクトル化してしまいます。これの和を取る操作は、`tf.reduce_mean`を使うと良いです。（これは和ではなく平均値を取る操作ですが、同じことです）："
   ]
  },
  {
   "cell_type": "code",
   "execution_count": 17,
   "metadata": {
    "collapsed": true
   },
   "outputs": [],
   "source": [
    "def loss_sum(y, z):\n",
    "    return tf.reduce_mean(tf.keras.losses.sparse_categorical_crossentropy(y, z, from_logits=True)) # z=model(x) は logit"
   ]
  },
  {
   "cell_type": "code",
   "execution_count": 18,
   "metadata": {
    "collapsed": false
   },
   "outputs": [
    {
     "name": "stdout",
     "output_type": "stream",
     "text": [
      "tf.Tensor(4.1836224, shape=(), dtype=float32)\n"
     ]
    }
   ],
   "source": [
    "model = Markov(emb_dim=256, hidden_dim=1024)\n",
    "\n",
    "for (x, y) in D.take(1):\n",
    "    print(loss_sum(y, model(x)))"
   ]
  },
  {
   "cell_type": "markdown",
   "metadata": {},
   "source": [
    "#### 学習させる\n",
    "今まで同様SGDさせてみます。ミニバッチ `(X, Y)` が与えられたときのモデルの学習ステップを"
   ]
  },
  {
   "cell_type": "code",
   "execution_count": 19,
   "metadata": {
    "collapsed": true
   },
   "outputs": [],
   "source": [
    "@tf.function\n",
    "def update(X, Y, model, optimizer): # 学習ステップ\n",
    "    with tf.GradientTape() as tape:\n",
    "        Z = model(X) \n",
    "        loss_value = loss_sum(Y, Z) \n",
    "    grads = tape.gradient(loss_value, model.trainable_variables) \n",
    "    optimizer.apply_gradients(zip(grads, model.trainable_variables))\n",
    "    return loss_value"
   ]
  },
  {
   "cell_type": "markdown",
   "metadata": {},
   "source": [
    "として、今までと同じようにSGDでパラメータ更新してみます："
   ]
  },
  {
   "cell_type": "code",
   "execution_count": 20,
   "metadata": {
    "collapsed": false
   },
   "outputs": [
    {
     "name": "stdout",
     "output_type": "stream",
     "text": [
      "CPU times: user 8.62 s, sys: 1.82 s, total: 10.4 s\n",
      "Wall time: 5.78 s\n"
     ]
    }
   ],
   "source": [
    "%%time\n",
    "model = Markov(emb_dim=256, hidden_dim=1024)\n",
    "optimizer=tf.keras.optimizers.Adam()\n",
    "batch_size = 32\n",
    "epoch_size = 15\n",
    "\n",
    "loss_averages = []\n",
    "for epoch in range(epoch_size):\n",
    "    batch = D.shuffle(5000).batch(batch_size, drop_remainder=True)\n",
    "    loss_values = []\n",
    "    for (X,Y) in batch:\n",
    "        loss_value = update(X, Y, model, optimizer)\n",
    "        loss_values.append(loss_value)\n",
    "    loss_averages.append(np.average(loss_values))"
   ]
  },
  {
   "cell_type": "markdown",
   "metadata": {},
   "source": [
    "更新後のモデルで台詞生成を試みてみます。ここで $q(n_0)$ の設定に対応するのが、はじめの文字を指定することです："
   ]
  },
  {
   "cell_type": "code",
   "execution_count": 21,
   "metadata": {
    "collapsed": false
   },
   "outputs": [
    {
     "name": "stdout",
     "output_type": "stream",
     "text": [
      "AS:\n",
      "Whe bat me.\n",
      "Whr, yeawayo ds t'dareloree t nothet mes t d.\n",
      "What t JUMARONurcotho lliear:\n",
      "I r stowi\n",
      "ADY:\n",
      "*\n",
      "Ayod, w, w mith!\n",
      "Se,-is bery dsthisepl----\n",
      "NGowsesangr?\n",
      "*\n",
      "AMERUMathel m ll; d aknIOLUMI rr t ncy om!\n",
      "*\n",
      "APONGEE izepru b?\n",
      "*\n"
     ]
    }
   ],
   "source": [
    "for _ in range(5):\n",
    "    model.sample_from(\"A\", num_string=100)"
   ]
  },
  {
   "cell_type": "markdown",
   "metadata": {
    "collapsed": true
   },
   "source": [
    "訓練したにもかかわらず、残念ながらうまく行かないようです。\n",
    "\n",
    "### なぜ素朴なニューラルネットでうまく行かないか\n",
    "マルコフ的なネットワークがやっていることは、例えば\n",
    "- `D` の次の文字は何か？\n",
    "\n",
    "というクイズ？のようなものです。これだと、大文字で終わる文は少なそうだから、`.`、`,`、`!`、`?`、とかが来る確率は低そうだ、位のことしかわかりません。もっと言うと、データによっては文章が **すべて** 大文字で書かれているかもしれず、その場合は当てずっぽうで当てるか、[頻度分析](https://ja.wikipedia.org/wiki/頻度分析)を使うかくらいしか考えられません。それにしても、これらの方法で文章を生成してまともな文になると考える人は居ないでしょう。\n",
    "\n",
    "これに比べて\n",
    "- `Do you enjoy studying machine` の次の文字は何か？\n",
    "\n",
    "というクイズは格段に解きやすく、おそらく `learning?` と来そうだな、と予想できると思います。これは **文脈** から判断しているわけです。この場合でも、例えば文脈を忘れて\n",
    "- `e` の次の文字は何か？\n",
    "\n",
    "となると難しいわけですが、これらのことから文脈とは **現在の文字までの全ての文字に依存する特徴量** であると気付かされます。つまり、きちんとした文章を生成するためには\n",
    "\n",
    "$$\n",
    "q_\\theta(n_{t+1} \\mid n_t)\n",
    "$$\n",
    "\n",
    "ではなく\n",
    "\n",
    "$$\n",
    "q_\\theta(n_{t+1} \\mid [n_0, n_1, \\dots, n_t])\n",
    "$$\n",
    "\n",
    "をうまく作る必要がありそうだというわけです。このように「過去の状態も考慮に入れる」ニューラルネットワークが**リカレントニューラルネットワーク(RNN)** と呼ばれるものです。"
   ]
  },
  {
   "cell_type": "markdown",
   "metadata": {},
   "source": [
    "### Comments on the licensed source code used in this subsection"
   ]
  },
  {
   "cell_type": "markdown",
   "metadata": {
    "collapsed": true
   },
   "source": [
    "#### License for `Generator.sample_from()`, `path`, `chars`, `char2idx`, `idx2char`, `D`\n",
    "\n",
    "In this notebook, the definitions of\n",
    "\n",
    "* class method: `Generator.sample_from()`\n",
    "* variables: `path`, `chars`, `char2idx`, `idx2char`, `D`\n",
    "\n",
    "include codes derived from\n",
    "https://www.tensorflow.org/tutorials/text/text_generation\n",
    "which is licensed under [Apache 2.0 License](https://www.apache.org/licenses/LICENSE-2.0). For details, see their [Site Policies](https://developers.google.com/terms/site-policies)\n"
   ]
  }
 ],
 "metadata": {
  "kernelspec": {
   "display_name": "Python 3",
   "language": "python",
   "name": "python3"
  },
  "language_info": {
   "codemirror_mode": {
    "name": "ipython",
    "version": 3
   },
   "file_extension": ".py",
   "mimetype": "text/x-python",
   "name": "python",
   "nbconvert_exporter": "python",
   "pygments_lexer": "ipython3",
   "version": "3.6.0"
  },
  "toc": {
   "base_numbering": 1,
   "nav_menu": {},
   "number_sections": true,
   "sideBar": true,
   "skip_h1_title": false,
   "title_cell": "Table of Contents",
   "title_sidebar": "Contents",
   "toc_cell": false,
   "toc_position": {},
   "toc_section_display": true,
   "toc_window_display": true
  }
 },
 "nbformat": 4,
 "nbformat_minor": 2
}

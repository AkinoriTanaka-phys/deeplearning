{
 "cells": [
  {
   "cell_type": "code",
   "execution_count": 2,
   "metadata": {
    "collapsed": false
   },
   "outputs": [],
   "source": [
    "import numpy as np\n",
    "import matplotlib.pyplot as plt\n",
    "import tensorflow as tf\n",
    "from sklearn.datasets import load_iris"
   ]
  },
  {
   "cell_type": "markdown",
   "metadata": {},
   "source": [
    "## 3-1. この節の目標\n",
    "この節では主に教師ありの場合、すなわち$q_\\theta(y|{\\bf x})$のモデルとしてニューラルネットワークを導入してみましょう。初めに言ってしまうと、ニューラルネットワークとは何のことはない\n",
    "\n",
    "$$\n",
    "{\\bf x} \n",
    "\\overset{\\text{linear}}{\\to}\n",
    "\\cdot\n",
    "\\overset{\\text{non-linear}}{\\to}\n",
    "{\\bf h}_1\n",
    "\\overset{\\text{linear}}{\\to}\n",
    "\\cdot\n",
    "\\overset{\\text{non-linear}}{\\to}\n",
    "{\\bf h}_2\n",
    "\\to \\dots\n",
    "\\to\n",
    "{\\bf h}_L\n",
    "$$\n",
    "\n",
    "という関数のことであり、多くの場合、**非線形変換は固定**し、**線形変換のパラメータを変化**させ、出力 ${\\bf h}_L$ が望む値になるようにする、というものです。以下では再びアヤメデータを使って、簡単なニューラルネットワークの構成から、これを用いた分類までを [TensorFlow](https://www.tensorflow.org) で実装した例をお見せします。その後、続く小節でそれぞれの部分について説明したいと思います。"
   ]
  },
  {
   "cell_type": "markdown",
   "metadata": {},
   "source": [
    "### アヤメデータを用いた教師あり学習\n",
    "アヤメデータは以下で読み込めるのでした："
   ]
  },
  {
   "cell_type": "code",
   "execution_count": 2,
   "metadata": {
    "collapsed": false
   },
   "outputs": [],
   "source": [
    "iris = load_iris() # アヤメデータ読み込み"
   ]
  },
  {
   "cell_type": "markdown",
   "metadata": {},
   "source": [
    "このオブジェクトには色々なデータが入っています。特に今回は\n",
    "- `iris.data`: 入力 ${\\bf x}_n$ のデータ\n",
    "- `iris.target`: 望む答え $y_n$ のデータ\n",
    "\n",
    "を使います。学習用データは2個とばしで偶数インデックスのものとします："
   ]
  },
  {
   "cell_type": "code",
   "execution_count": 3,
   "metadata": {
    "collapsed": true
   },
   "outputs": [],
   "source": [
    "X_train, Y_train = iris.data[::2], iris.target[::2] # 偶数番目のデータ"
   ]
  },
  {
   "cell_type": "markdown",
   "metadata": {},
   "source": [
    "#### ニューラルネットワーク\n",
    "ニューラルネットワークはクラスとして実装します。以下では\n",
    "\n",
    "$$\n",
    "{\\bf x} (4D) \\to {\\bf h}_1(10D) \\to {\\bf h}_2(3D)\n",
    "$$\n",
    "\n",
    "を設計しています。"
   ]
  },
  {
   "cell_type": "code",
   "execution_count": 8,
   "metadata": {
    "collapsed": true
   },
   "outputs": [],
   "source": [
    "H=10\n",
    "model = tf.keras.models.Sequential([\n",
    "  tf.keras.layers.Dense(H, input_shape=(4,), activation='relu'),\n",
    "  tf.keras.layers.Dense(3, activation='softmax')\n",
    "])"
   ]
  },
  {
   "cell_type": "markdown",
   "metadata": {},
   "source": [
    "ここで`activation='softmax'`はソフトマックス関数と呼ばれるものを指定しており、\n",
    "\n",
    "$$\n",
    "\\text{softmax}({\\bf u}) = \\frac{1}{\\sum_{i} e^{u^i}} (e^{u^1}, e^{u^2}, \\dots, e^{u^{dim}})\n",
    "$$\n",
    "\n",
    "と定義されます。また、`activation='relu'`は\n",
    "\n",
    "$$\n",
    "\\text{relu}({\\bf u}) = (\\max\\{0, u^1\\}, \\max\\{0, u^2\\}, \\dots, \\max\\{0, u^{dim}\\})\n",
    "$$\n",
    "\n",
    "という関数です。"
   ]
  },
  {
   "cell_type": "markdown",
   "metadata": {},
   "source": [
    "#### 学習の設定\n",
    "どんな目的関数を、どのように小さくするかの設定"
   ]
  },
  {
   "cell_type": "code",
   "execution_count": 9,
   "metadata": {
    "collapsed": true
   },
   "outputs": [],
   "source": [
    "model.compile(optimizer='adam', loss='sparse_categorical_crossentropy')"
   ]
  },
  {
   "cell_type": "markdown",
   "metadata": {},
   "source": [
    "`optimizer='adam'`はどのような最適化手法を使うかを示し、`loss='sparse_categorical_crossentropy'`は経験誤差としてクロスエントロピーと呼ばれる関数を表します。ここでは分類数が3なので、${\\bf y}_{model} \\in [0,1]^3, y \\in \\{0,1,2\\}$ として\n",
    "\n",
    "$$\n",
    "cross\\_entropy({\\bf y}_{model}, y) = - \\log ({\\bf y}_{model})^{y\\text{-th component}}\n",
    "$$\n",
    "\n",
    "を表します。\n",
    "> sparseを抜いた`loss='categorical_crossentropy'`というのもありますが、これは教師信号が ${\\bf y} = (0,1,0)$ のように正解ラベルの部分だけ1, それ以外の値はゼロのベクトル形式で表現されている場合に使うもので、本質的には同じ物です。"
   ]
  },
  {
   "cell_type": "markdown",
   "metadata": {},
   "source": [
    "#### 学習実行\n",
    "Tensorflowの場合、`model.fit(X,Y)`で学習させられます。より細かい設定をしたい場合は後述します。"
   ]
  },
  {
   "cell_type": "code",
   "execution_count": 10,
   "metadata": {
    "collapsed": false,
    "scrolled": true
   },
   "outputs": [
    {
     "data": {
      "image/png": "[encoded data removed]",
      "text/plain": [
       "<Figure size 432x288 with 1 Axes>"
      ]
     },
     "metadata": {},
     "output_type": "display_data"
    }
   ],
   "source": [
    "Hist= model.fit(X_train, Y_train, epochs=100, batch_size=10, verbose=0)\n",
    "# 学習曲線のプロット\n",
    "plt.xlabel(\"epoch\"); plt.ylabel(\"NLL\")\n",
    "plt.plot(np.arange(100), Hist.history['loss']);plt.show()"
   ]
  },
  {
   "cell_type": "markdown",
   "metadata": {},
   "source": [
    "#### 新しいデータでテスト"
   ]
  },
  {
   "cell_type": "code",
   "execution_count": 8,
   "metadata": {
    "collapsed": true
   },
   "outputs": [],
   "source": [
    "X_test, Y_test = iris.data[1::2], iris.target[1::2]"
   ]
  },
  {
   "cell_type": "code",
   "execution_count": 9,
   "metadata": {
    "collapsed": false
   },
   "outputs": [
    {
     "name": "stdout",
     "output_type": "stream",
     "text": [
      "answer: [2] prediction: 2\n"
     ]
    },
    {
     "data": {
      "image/png": "[encoded data removed]",
      "text/plain": [
       "<Figure size 432x288 with 1 Axes>"
      ]
     },
     "metadata": {},
     "output_type": "display_data"
    }
   ],
   "source": [
    "i = np.random.randint(len(Y_test))\n",
    "x, y = X_test[i:i+1], Y_test[i:i+1]\n",
    "y_pred = model.predict(x)\n",
    "print('answer:', y, 'prediction:', np.argmax(y_pred))\n",
    "plt.bar(np.arange(3), y_pred[0]); plt.show()"
   ]
  },
  {
   "cell_type": "markdown",
   "metadata": {},
   "source": [
    "正しく分類できているのがわかります。"
   ]
  }
 ],
 "metadata": {
  "kernelspec": {
   "display_name": "Python 3",
   "language": "python",
   "name": "python3"
  },
  "language_info": {
   "codemirror_mode": {
    "name": "ipython",
    "version": 3
   },
   "file_extension": ".py",
   "mimetype": "text/x-python",
   "name": "python",
   "nbconvert_exporter": "python",
   "pygments_lexer": "ipython3",
   "version": "3.6.0"
  }
 },
 "nbformat": 4,
 "nbformat_minor": 2
}

{
 "cells": [
  {
   "cell_type": "code",
   "execution_count": 49,
   "metadata": {
    "collapsed": false
   },
   "outputs": [],
   "source": [
    "import numpy as np\n",
    "import matplotlib.pyplot as plt\n",
    "import tensorflow as tf\n",
    "from sklearn.datasets import load_iris"
   ]
  },
  {
   "cell_type": "markdown",
   "metadata": {},
   "source": [
    "## 3-4. ニューラルネットの勾配学習\n",
    "\n",
    "\n",
    "### これまでの方法に沿った実装\n",
    "これまでで、\n",
    "- ニューラルネットのモデル定義の実装\n",
    "- 勾配更新の実装\n",
    "- バッチ処理の実装\n",
    "\n",
    "を説明してきましたので、それに基づいてアヤメデータ分類をやり直してみます。"
   ]
  },
  {
   "cell_type": "code",
   "execution_count": 3,
   "metadata": {
    "collapsed": true
   },
   "outputs": [],
   "source": [
    "iris = load_iris() # アヤメデータ読み込み\n",
    "X_train, Y_train = iris.data[::2], iris.target[::2] # 学習用データ＝偶数番目のデータ\n",
    "L = tf.keras.losses.SparseCategoricalCrossentropy() # 誤差関数\n",
    "\n",
    "class MyModel(tf.keras.Model): # モデル設計\n",
    "    def __init__(self, H=10):\n",
    "        super(MyModel, self).__init__()\n",
    "        self.l1 = tf.keras.layers.Dense(units=H)\n",
    "        self.l2 = tf.keras.layers.Dense(units=3)\n",
    "    def call(self, x):\n",
    "        h = tf.keras.activations.relu(self.l1(x))\n",
    "        h = tf.keras.activations.softmax(self.l2(h))\n",
    "        return h\n",
    "    \n",
    "def update(X, Y, model, optimizer): # 学習ステップ\n",
    "    with tf.GradientTape() as tape:\n",
    "        Y_pred = model(X) \n",
    "        loss_value = L(Y, Y_pred) \n",
    "    grads = tape.gradient(loss_value, model.trainable_variables) \n",
    "    optimizer.apply_gradients(zip(grads, model.trainable_variables))\n",
    "    return loss_value\n",
    "    \n",
    "def return_tf_batch(X, Y, batch_size): # バッチ処理\n",
    "    X_32bits, Y_32bits = X.astype(np.float32), Y.astype(np.float32)\n",
    "    dataset = tf.data.Dataset.from_tensor_slices((X_32bits, Y_32bits))\n",
    "    dataset = dataset.shuffle(len(X), reshuffle_each_iteration=False) \n",
    "    return dataset.batch(batch_size=batch_size).as_numpy_iterator()"
   ]
  },
  {
   "cell_type": "markdown",
   "metadata": {},
   "source": [
    "必要なのはこれで全てです。SGD学習は以下のように実行できます："
   ]
  },
  {
   "cell_type": "code",
   "execution_count": 4,
   "metadata": {
    "collapsed": false
   },
   "outputs": [
    {
     "data": {
      "image/png": "[encoded data removed]",
      "text/plain": [
       "<Figure size 432x288 with 1 Axes>"
      ]
     },
     "metadata": {},
     "output_type": "display_data"
    },
    {
     "name": "stdout",
     "output_type": "stream",
     "text": [
      "CPU times: user 7.13 s, sys: 91.7 ms, total: 7.22 s\n",
      "Wall time: 7.73 s\n"
     ]
    }
   ],
   "source": [
    "%%time\n",
    "model = MyModel()\n",
    "optimizer=tf.keras.optimizers.Adam()\n",
    "\n",
    "loss_averages = []\n",
    "for epoch in range(100):\n",
    "    batch = return_tf_batch(X_train, Y_train, batch_size=10)\n",
    "    loss_values = []\n",
    "    for (x,y) in batch:\n",
    "        loss_value = update(x, y, model, optimizer)\n",
    "        loss_values.append(loss_value)\n",
    "    loss_averages.append(np.average(loss_values))\n",
    "    \n",
    "plt.plot(np.arange(100), loss_averages); plt.show()"
   ]
  },
  {
   "cell_type": "markdown",
   "metadata": {},
   "source": [
    "比較してみると、同じ設定のはずなのに [3-1. この節の目標](#3-1-この節の目標) での実装に比べると少し実行速度が遅いです。\n",
    "これは、いまの実装を[eager mode](https://www.tensorflow.org/guide/eager) と言われる状態で実行しているためです。eager modeとは、TensorFlowのバージョン2からデフォルトでonになった機能で、プログラムの試作がやりやすいぶん、実行速度の最適化がされないのです。もともと、tensorflowは\n",
    "1. 計算グラフを作る\n",
    "2. 作ったグラフに計算フローを入れる\n",
    "\n",
    "から構成されており、そのように書いたほうが早くなります。この書き方は少し上記の書き方とは異なるため、速度を取るか、わかりやすさを取るか、というところです。\n",
    "\n",
    "#### `tf.function`によるグラフ化で高速化\n",
    "が、実は今回は`batch.step`を定義する前に\n",
    "- `@tf.function`\n",
    "\n",
    "と宣言すると数倍倍早くなります。`@`で始まる文法はPythonの**デコレータ** というものですので、気になる人は調べてみてください。ともかくこのデコレータを関数の定義の前につけると、その関数の処理を「グラフ化 $\\to$ 計算フロー」のやり方に勝手に変換してくれます。これでわかりやすく高速な処理ができる場合があります。\n",
    "> ただし、予期せぬ動作が起こる可能性があることが、TensorFlowのドキュメントの [Python の状態に注意](https://www.tensorflow.org/tutorials/customization/performance?hl=ja) で説明されていますので、高速化を図る際は一読をお勧めします。"
   ]
  },
  {
   "cell_type": "code",
   "execution_count": 27,
   "metadata": {
    "collapsed": false
   },
   "outputs": [],
   "source": [
    "@tf.function\n",
    "def update(X, Y, model, optimizer): # 学習ステップ\n",
    "    with tf.GradientTape() as tape:\n",
    "        Y_pred = model(X) \n",
    "        loss_value = L(Y, Y_pred) \n",
    "    grads = tape.gradient(loss_value, model.trainable_variables) \n",
    "    optimizer.apply_gradients(zip(grads, model.trainable_variables))\n",
    "    return loss_value"
   ]
  },
  {
   "cell_type": "markdown",
   "metadata": {},
   "source": [
    "学習の命令は**一行も書き換えていません**が、早くなります："
   ]
  },
  {
   "cell_type": "code",
   "execution_count": 28,
   "metadata": {
    "collapsed": false
   },
   "outputs": [
    {
     "data": {
      "image/png": "[encoded data removed]",
      "text/plain": [
       "<Figure size 432x288 with 1 Axes>"
      ]
     },
     "metadata": {},
     "output_type": "display_data"
    },
    {
     "name": "stdout",
     "output_type": "stream",
     "text": [
      "CPU times: user 1.86 s, sys: 182 ms, total: 2.05 s\n",
      "Wall time: 1.72 s\n"
     ]
    }
   ],
   "source": [
    "%%time\n",
    "model = MyModel()\n",
    "optimizer=tf.keras.optimizers.Adam()\n",
    "\n",
    "loss_averages = []\n",
    "for epoch in range(100):\n",
    "    batch = return_tf_batch(X_train, Y_train, batch_size=10)\n",
    "    loss_values = []\n",
    "    for (x,y) in batch:\n",
    "        loss_value = update(x, y, model, optimizer)\n",
    "        loss_values.append(loss_value)\n",
    "    loss_averages.append(np.average(loss_values))\n",
    "    \n",
    "plt.plot(np.arange(100), loss_averages); plt.show()"
   ]
  },
  {
   "cell_type": "markdown",
   "metadata": {},
   "source": [
    "### 序盤の実装\n",
    "節の初めにお見せした実装はこんなに長くありませんでした。これは`tf.keras`のAPIを使ったおかげです。同じモデルを使って"
   ]
  },
  {
   "cell_type": "code",
   "execution_count": 30,
   "metadata": {
    "collapsed": false
   },
   "outputs": [],
   "source": [
    "model = MyModel()\n",
    "model.compile(optimizer='adam', loss='sparse_categorical_crossentropy')"
   ]
  },
  {
   "cell_type": "markdown",
   "metadata": {},
   "source": [
    "としておけば、自分でパラメータ更新用の関数を定義しなくてもパラメータを学習させられます。それには `model.fit()`を使います。オプションが幾つかあるのですが、ここで`verbose`はパラメータ更新中の経過をどのように表示するかのオプションで、0は何も表示しない、です。1か2を入れてもいいです。"
   ]
  },
  {
   "cell_type": "code",
   "execution_count": 31,
   "metadata": {
    "collapsed": false
   },
   "outputs": [
    {
     "data": {
      "image/png": "[encoded data removed]",
      "text/plain": [
       "<Figure size 432x288 with 1 Axes>"
      ]
     },
     "metadata": {},
     "output_type": "display_data"
    },
    {
     "name": "stdout",
     "output_type": "stream",
     "text": [
      "CPU times: user 1.99 s, sys: 245 ms, total: 2.24 s\n",
      "Wall time: 1.72 s\n"
     ]
    }
   ],
   "source": [
    "%%time\n",
    "Hist= model.fit(X_train, Y_train, epochs=100, batch_size=10, verbose=0)\n",
    "\n",
    "plt.xlabel(\"epoch\"); plt.ylabel(\"NLL\")\n",
    "plt.plot(np.arange(100), Hist.history['loss']);plt.show()"
   ]
  },
  {
   "cell_type": "markdown",
   "metadata": {},
   "source": [
    "ほぼすべてのプロセスが自動化されており、計算スピードもここまで説明してきた中で最速です。だったらこれだけ使えばよいのでは？と思う方もいらっしゃるかと思いますが、`model.fit()`は早くて楽ちんな分、カスタマイズ性の面でこれまでの実装法に劣ります。目的に応じてこれらを使い分けるのが良いと思います。"
   ]
  },
  {
   "cell_type": "markdown",
   "metadata": {},
   "source": [
    "### 検証(Validation)\n",
    "確率的勾配降下法でできるだけ汎化誤差を減らす努力をするものの、基本的には学習データ $\\mathcal{D}_N$ しかない状況の場合、データの偏りを回避することはできません。例えば反復回数を大きく取りすぎると、同じデータ点$({\\bf x}_n, {\\bf y}_n)$への遭遇回数も上がってしまい、それに過剰適合する可能性も大いにありえます。過剰適合を確実に回避するテクニックとして使われるのが検証です。検証の基本的なアイデアは、学習前にデータを分割し\n",
    "\n",
    "$$\n",
    "\\mathcal{D}_N=\n",
    "\\mathcal{D}_{N_\\text{train}}\n",
    "\\cup\n",
    "\\mathcal{D}_{N_\\text{val}},\n",
    "\\quad\n",
    "N_\\text{train} + N_\\text{val} = N\n",
    "$$\n",
    "\n",
    "$\\mathcal{D}_{N_\\text{train}}$について、確率的勾配降下法を適用し、適当な間隔で$\\mathcal{D}_{N_\\text{val}}$を用いた経験誤差の値もモニターします。$\\mathcal{D}_{N_\\text{val}}$の中のデータは学習に用いられないため、学習用の誤差が減っているのもかかわらず検証の誤差が増加し始めた場合、過剰適合のシグナルと思えるわけです。\n",
    "\n",
    "#### 実装\n",
    "データの取扱いだけが問題です。これまで通りやるなら、一旦初めにデータを分割しておいて、上の式で $\\mathcal{D}_{N_\\text{train}}$ だけを学習用データとし、$\\mathcal{D}_{N_\\text{val}}$ のデータを用いた誤差も更新時にモニターしておくのが良いでしょう。幸い`model.fit()`だと**一変数：`validation_split`を設定するだけ** で勝手にやってくれます。`validation_split=0.2`はデータのうち二割をランダムに選び、検証用としてくれるということです。"
   ]
  },
  {
   "cell_type": "code",
   "execution_count": 48,
   "metadata": {
    "collapsed": false
   },
   "outputs": [
    {
     "data": {
      "image/png": "[encoded data removed]",
      "text/plain": [
       "<Figure size 432x288 with 1 Axes>"
      ]
     },
     "metadata": {},
     "output_type": "display_data"
    }
   ],
   "source": [
    "model = MyModel()\n",
    "model.compile(optimizer='adam', loss='sparse_categorical_crossentropy')\n",
    "\n",
    "Hist= model.fit(X_train, Y_train, epochs=100, batch_size=10, verbose=0, \n",
    "                validation_split=0.2) # これだけ追加\n",
    "\n",
    "plt.xlabel(\"epoch\"); plt.ylabel(\"NLL\")\n",
    "plt.plot(np.arange(100), Hist.history['loss'], label='training loss')\n",
    "plt.plot(np.arange(100), Hist.history['val_loss'], label='validation loss') # プロット用にこれも追加\n",
    "plt.legend(fontsize=15); plt.show()"
   ]
  },
  {
   "cell_type": "markdown",
   "metadata": {},
   "source": [
    "これを見ると、（実行時の乱数シードに依存してうまく行ってしまう場合もありますが）\n",
    "- training loss $L(\\theta; \\mathcal{D}_{N_\\text{train}})$ は減り続ける\n",
    "- validation loss $L(\\theta; \\mathcal{D}_{N_\\text{val}})$ は減り、途中で上がる\n",
    "\n",
    "のがわかります。validation lossは実際に最適化している経験誤差**ではない** のがポイントです。validation lossはいわば、学習後のタスクの精度を簡単にモニターしているようなものなので、この値が減っている分には汎化誤差を減らしていると期待できますが、上がり続けると過剰適合のシグナルです。\n",
    "> 上の実験ではたまに、validation lossが下がる$\\to$上がる$\\to$また下がる、といった二重降下現象が起こります。"
   ]
  }
 ],
 "metadata": {
  "kernelspec": {
   "display_name": "Python 3",
   "language": "python",
   "name": "python3"
  },
  "language_info": {
   "codemirror_mode": {
    "name": "ipython",
    "version": 3
   },
   "file_extension": ".py",
   "mimetype": "text/x-python",
   "name": "python",
   "nbconvert_exporter": "python",
   "pygments_lexer": "ipython3",
   "version": "3.6.0"
  }
 },
 "nbformat": 4,
 "nbformat_minor": 2
}

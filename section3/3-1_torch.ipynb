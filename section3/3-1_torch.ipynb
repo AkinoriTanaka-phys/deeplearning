{
 "cells": [
  {
   "cell_type": "markdown",
   "metadata": {},
   "source": [
    "## 3-1. この節の目標\n",
    "この節では主に教師ありの場合、すなわち$q_\\theta(y|{\\bf x})$のモデルとしてニューラルネットワークを導入してみましょう。初めに言ってしまうと、ニューラルネットワークとは何のことはない\n",
    "\n",
    "$$\n",
    "{\\bf x} \n",
    "\\overset{\\text{linear}}{\\to}\n",
    "\\cdot\n",
    "\\overset{\\text{non-linear}}{\\to}\n",
    "{\\bf h}_1\n",
    "\\overset{\\text{linear}}{\\to}\n",
    "\\cdot\n",
    "\\overset{\\text{non-linear}}{\\to}\n",
    "{\\bf h}_2\n",
    "\\to \\dots\n",
    "\\to\n",
    "{\\bf h}_L\n",
    "$$\n",
    "\n",
    "という関数のことであり、多くの場合、**非線形変換は固定**し、**線形変換のパラメータを変化**させ、出力 ${\\bf h}_L$ が望む値になるようにする、というものです。以下では再びアヤメデータを使って、簡単なニューラルネットワークの構成から、これを用いた分類までを [PyTorch](https://pytorch.org) で実装した例をお見せします。その後、続く小節でそれぞれの部分について説明したいと思います。まず必要なライブラリをインポートします："
   ]
  },
  {
   "cell_type": "code",
   "execution_count": 1,
   "metadata": {
    "collapsed": true
   },
   "outputs": [],
   "source": [
    "import numpy as np\n",
    "import matplotlib.pyplot as plt\n",
    "import torch\n",
    "from sklearn.datasets import load_iris"
   ]
  },
  {
   "cell_type": "markdown",
   "metadata": {},
   "source": [
    "### アヤメデータを用いた教師あり学習\n",
    "アヤメデータは以下で読み込めるのでした："
   ]
  },
  {
   "cell_type": "code",
   "execution_count": 2,
   "metadata": {
    "collapsed": false
   },
   "outputs": [],
   "source": [
    "iris = load_iris() # アヤメデータ読み込み"
   ]
  },
  {
   "cell_type": "markdown",
   "metadata": {},
   "source": [
    "このオブジェクトには色々なデータが入っています。特に今回は\n",
    "- `iris.data`: 入力 ${\\bf x}_n$ のデータ\n",
    "- `iris.target`: 望む答え $y_n$ のデータ\n",
    "\n",
    "を使います："
   ]
  },
  {
   "cell_type": "code",
   "execution_count": 3,
   "metadata": {
    "collapsed": false
   },
   "outputs": [
    {
     "data": {
      "text/plain": [
       "((150, 4), (150,))"
      ]
     },
     "execution_count": 3,
     "metadata": {},
     "output_type": "execute_result"
    }
   ],
   "source": [
    "iris.data.shape, iris.target.shape # 150個の4次元データ, 150個の1次元データ"
   ]
  },
  {
   "cell_type": "markdown",
   "metadata": {},
   "source": [
    "#### Data Loader\n",
    "まず、データをいい感じに読み込んでくれるサブルーチンを定義します："
   ]
  },
  {
   "cell_type": "code",
   "execution_count": 4,
   "metadata": {
    "collapsed": false
   },
   "outputs": [],
   "source": [
    "def return_iris_loader(X, Y, bs=10):\n",
    "    data = torch.utils.data.TensorDataset(torch.from_numpy(X), torch.from_numpy(Y))\n",
    "    return torch.utils.data.DataLoader(data, batch_size=bs, shuffle=True)  "
   ]
  },
  {
   "cell_type": "markdown",
   "metadata": {},
   "source": [
    "これは"
   ]
  },
  {
   "cell_type": "code",
   "execution_count": 5,
   "metadata": {
    "collapsed": true
   },
   "outputs": [],
   "source": [
    "X_train, Y_train = iris.data[::2], iris.target[::2] # 偶数番目のデータ\n",
    "training_data_loader = return_iris_loader(X_train, Y_train, bs=10)"
   ]
  },
  {
   "cell_type": "markdown",
   "metadata": {},
   "source": [
    "としておくと、自動で「シャッフル $\\to$ `bs`個取る」を実装してくれて便利です："
   ]
  },
  {
   "cell_type": "code",
   "execution_count": 6,
   "metadata": {
    "collapsed": false,
    "scrolled": true
   },
   "outputs": [
    {
     "data": {
      "text/plain": [
       "[tensor([[6.3000, 2.5000, 4.9000, 1.5000],\n",
       "         [5.9000, 3.2000, 4.8000, 1.8000],\n",
       "         [5.0000, 3.6000, 1.4000, 0.2000],\n",
       "         [6.4000, 2.9000, 4.3000, 1.3000],\n",
       "         [7.4000, 2.8000, 6.1000, 1.9000],\n",
       "         [6.2000, 2.2000, 4.5000, 1.5000],\n",
       "         [6.4000, 2.8000, 5.6000, 2.2000],\n",
       "         [5.8000, 2.7000, 3.9000, 1.2000],\n",
       "         [6.1000, 2.6000, 5.6000, 1.4000],\n",
       "         [7.0000, 3.2000, 4.7000, 1.4000]], dtype=torch.float64),\n",
       " tensor([1, 1, 0, 1, 2, 1, 2, 1, 2, 1])]"
      ]
     },
     "execution_count": 6,
     "metadata": {},
     "output_type": "execute_result"
    }
   ],
   "source": [
    "iter(return_iris_loader(X_train, Y_train, bs=10)).next()"
   ]
  },
  {
   "cell_type": "markdown",
   "metadata": {},
   "source": [
    "#### ニューラルネットワーク\n",
    "ニューラルネットワークはクラスとして実装します。以下では\n",
    "\n",
    "$$\n",
    "{\\bf x} (4D) \\to {\\bf h}_1(10D) \\to {\\bf h}_2(3D)\n",
    "$$\n",
    "\n",
    "を設計しています。"
   ]
  },
  {
   "cell_type": "code",
   "execution_count": 7,
   "metadata": {
    "collapsed": true
   },
   "outputs": [],
   "source": [
    "import torch.nn as nn\n",
    "import torch.nn.functional as F\n",
    "\n",
    "class MyNN(nn.Module):\n",
    "    def __init__(self):\n",
    "        H = 10\n",
    "        super(MyNN, self).__init__()\n",
    "        self.l1 = nn.Linear(4, H)\n",
    "        self.l2 = nn.Linear(H, 3)\n",
    "    def __call__(self, x):\n",
    "        h = F.relu(self.l1(x))\n",
    "        h = F.softmax(self.l2(h), dim=1) # dim=axis\n",
    "        return h"
   ]
  },
  {
   "cell_type": "markdown",
   "metadata": {},
   "source": [
    "ここで`__call__`にある`F.softmax`はソフトマックス関数と呼ばれるもので、\n",
    "\n",
    "$$\n",
    "\\text{softmax}({\\bf u}) = \\frac{1}{\\sum_{i} e^{u^i}} (e^{u^1}, e^{u^2}, \\dots, e^{u^{dim}})\n",
    "$$\n",
    "\n",
    "と定義されます。また、`F.relu`は\n",
    "\n",
    "$$\n",
    "\\text{relu}({\\bf u}) = (\\max\\{0, u^1\\}, \\max\\{0, u^2\\}, \\dots, \\max\\{0, u^{dim}\\})\n",
    "$$\n",
    "\n",
    "という関数です。実際にものを作るには、上の宣言後"
   ]
  },
  {
   "cell_type": "code",
   "execution_count": 18,
   "metadata": {
    "collapsed": true
   },
   "outputs": [],
   "source": [
    "model = MyNN()"
   ]
  },
  {
   "cell_type": "markdown",
   "metadata": {},
   "source": [
    "#### 学習の設定\n",
    "どんな目的関数を、どのように小さくするかの設定"
   ]
  },
  {
   "cell_type": "code",
   "execution_count": 19,
   "metadata": {
    "collapsed": true
   },
   "outputs": [],
   "source": [
    "criterion = torch.nn.CrossEntropyLoss()\n",
    "optimizer = torch.optim.Adam(model.parameters())"
   ]
  },
  {
   "cell_type": "markdown",
   "metadata": {},
   "source": [
    "`criterion = torch.nn.CrossEntropyLoss()`はクロスエントロピーと呼ばれる関数を表します。ここでは分類数が3なので、${\\bf y}_{model} \\in [0,1]^3, y \\in \\{0,1,2\\}$ として\n",
    "\n",
    "$$\n",
    "criterion({\\bf y}_{model}, y) = - \\log ({\\bf y}_{model})^{y\\text{-th component}}\n",
    "$$"
   ]
  },
  {
   "cell_type": "markdown",
   "metadata": {},
   "source": [
    "を表します。`torch.optim.SGD`は勾配更新（後述）のためのオブジェクトです。"
   ]
  },
  {
   "cell_type": "markdown",
   "metadata": {},
   "source": [
    "#### 学習実行\n",
    "`for` ループで少しずつ改善させます："
   ]
  },
  {
   "cell_type": "code",
   "execution_count": 20,
   "metadata": {
    "collapsed": false,
    "scrolled": true
   },
   "outputs": [
    {
     "data": {
      "image/png": "[encoded data removed]",
      "text/plain": [
       "<Figure size 432x288 with 1 Axes>"
      ]
     },
     "metadata": {},
     "output_type": "display_data"
    }
   ],
   "source": [
    "epochs=np.arange(1, 100)\n",
    "nlls = []\n",
    "\n",
    "for epoch in epochs:\n",
    "    nll = []\n",
    "    for minibatch_index, (x, y) in enumerate(training_data_loader):\n",
    "        x, y = torch.autograd.Variable(x).float(), torch.autograd.Variable(y)\n",
    "        optimizer.zero_grad()\n",
    "        loss = criterion(model(x), y)\n",
    "        nll.append(loss.data.numpy().tolist())\n",
    "        loss.backward()\n",
    "        optimizer.step()\n",
    "    nlls.append(np.average(nll))\n",
    "\n",
    "plt.xlabel(\"epoch\"); plt.ylabel(\"NLL\")\n",
    "plt.plot(epochs, nlls);plt.show()\n",
    "    "
   ]
  },
  {
   "cell_type": "markdown",
   "metadata": {},
   "source": [
    "#### 新しいデータでテスト"
   ]
  },
  {
   "cell_type": "code",
   "execution_count": 21,
   "metadata": {
    "collapsed": true
   },
   "outputs": [],
   "source": [
    "X_test, Y_test = iris.data[1::2], iris.target[1::2]\n",
    "test_iter=iter(return_iris_loader(X_test, Y_test, bs=1))"
   ]
  },
  {
   "cell_type": "code",
   "execution_count": 26,
   "metadata": {
    "collapsed": false
   },
   "outputs": [
    {
     "name": "stdout",
     "output_type": "stream",
     "text": [
      "answer: tensor([0]) prediction: 0\n"
     ]
    },
    {
     "data": {
      "image/png": "[encoded data removed]",
      "text/plain": [
       "<Figure size 432x288 with 1 Axes>"
      ]
     },
     "metadata": {},
     "output_type": "display_data"
    }
   ],
   "source": [
    "x, y = test_iter.next()\n",
    "x = torch.autograd.Variable(x).float()\n",
    "y_pred = model(x).data.numpy()\n",
    "print('answer:', y, 'prediction:', np.argmax(y_pred))\n",
    "plt.bar(np.arange(3), y_pred[0]); plt.show()"
   ]
  },
  {
   "cell_type": "markdown",
   "metadata": {},
   "source": [
    "正しく分類できているのがわかります。"
   ]
  }
 ],
 "metadata": {
  "kernelspec": {
   "display_name": "Python 3",
   "language": "python",
   "name": "python3"
  },
  "language_info": {
   "codemirror_mode": {
    "name": "ipython",
    "version": 3
   },
   "file_extension": ".py",
   "mimetype": "text/x-python",
   "name": "python",
   "nbconvert_exporter": "python",
   "pygments_lexer": "ipython3",
   "version": "3.6.0"
  }
 },
 "nbformat": 4,
 "nbformat_minor": 2
}
